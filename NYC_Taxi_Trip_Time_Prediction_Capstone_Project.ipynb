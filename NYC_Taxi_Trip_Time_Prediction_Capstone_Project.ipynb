{
  "nbformat": 4,
  "nbformat_minor": 0,
  "metadata": {
    "kernelspec": {
      "display_name": "Python 3",
      "language": "python",
      "name": "python3"
    },
    "language_info": {
      "codemirror_mode": {
        "name": "ipython",
        "version": 3
      },
      "file_extension": ".py",
      "mimetype": "text/x-python",
      "name": "python",
      "nbconvert_exporter": "python",
      "pygments_lexer": "ipython3",
      "version": "3.6.6"
    },
    "colab": {
      "name": "NYC Taxi Trip Time Prediction - Capstone Project.ipynb",
      "provenance": [],
      "collapsed_sections": [],
      "include_colab_link": true
    }
  },
  "cells": [
    {
      "cell_type": "markdown",
      "metadata": {
        "id": "view-in-github",
        "colab_type": "text"
      },
      "source": [
        "<a href=\"https://colab.research.google.com/github/kamya11/NYC-Taxi-Trip-Time-Prediction/blob/main/NYC_Taxi_Trip_Time_Prediction_Capstone_Project.ipynb\" target=\"_parent\"><img src=\"https://colab.research.google.com/assets/colab-badge.svg\" alt=\"Open In Colab\"/></a>"
      ]
    },
    {
      "cell_type": "markdown",
      "metadata": {
        "id": "tOGC-qoyhJeX"
      },
      "source": [
        "# <b><u> Project Title : Taxi trip time Prediction : Predicting total ride duration of taxi trips in New York City</u></b>"
      ]
    },
    {
      "cell_type": "markdown",
      "metadata": {
        "id": "Y06xIdG26kRF"
      },
      "source": [
        "## <b> Problem Description </b>\n",
        "\n",
        "### Your task is to build a model that predicts the total ride duration of taxi trips in New York City. Your primary dataset is one released by the NYC Taxi and Limousine Commission, which includes pickup time, geo-coordinates, number of passengers, and several other variables."
      ]
    },
    {
      "cell_type": "markdown",
      "metadata": {
        "id": "WWeU1f9bwqQq"
      },
      "source": [
        "## <b> Data Description </b>\n",
        "\n",
        "### The dataset is based on the 2016 NYC Yellow Cab trip record data made available in Big Query on Google Cloud Platform. The data was originally published by the NYC Taxi and Limousine Commission (TLC). The data was sampled and cleaned for the purposes of this project. Based on individual trip attributes, you should predict the duration of each trip in the test set.\n",
        "\n",
        "### <b>NYC Taxi Data.csv</b> - the training set (contains 1458644 trip records)\n",
        "\n",
        "\n",
        "### Data fields\n",
        "* #### id - a unique identifier for each trip\n",
        "* #### vendor_id - a code indicating the provider associated with the trip record\n",
        "* #### pickup_datetime - date and time when the meter was engaged\n",
        "* #### dropoff_datetime - date and time when the meter was disengaged\n",
        "* #### passenger_count - the number of passengers in the vehicle (driver entered value)\n",
        "* #### pickup_longitude - the longitude where the meter was engaged\n",
        "* #### pickup_latitude - the latitude where the meter was engaged\n",
        "* #### dropoff_longitude - the longitude where the meter was disengaged\n",
        "* #### dropoff_latitude - the latitude where the meter was disengaged\n",
        "* #### store_and_fwd_flag - This flag indicates whether the trip record was held in vehicle memory before sending to the vendor because the vehicle did not have a connection to the server - Y=store and forward; N=not a store and forward trip\n",
        "* #### trip_duration - duration of the trip in seconds"
      ]
    },
    {
      "cell_type": "code",
      "metadata": {
        "id": "__WNHgI-9bwI"
      },
      "source": [
        "# import the relevant libraries\n",
        "\n",
        "import pandas as pd\n",
        "import matplotlib.pyplot as plt\n",
        "import seaborn as sns\n",
        "import numpy as np\n",
        "import warnings\n",
        "from datetime import datetime\n"
      ],
      "execution_count": 6,
      "outputs": []
    },
    {
      "cell_type": "code",
      "metadata": {
        "id": "dByMsuzT8Tnw",
        "colab": {
          "base_uri": "https://localhost:8080/"
        },
        "outputId": "ef3fa81d-be3f-4733-cbb3-b0b549f344ef"
      },
      "source": [
        "from google.colab import drive\n",
        "drive.mount('/content/drive',force_remount=True)"
      ],
      "execution_count": 7,
      "outputs": [
        {
          "output_type": "stream",
          "name": "stdout",
          "text": [
            "Mounted at /content/drive\n"
          ]
        }
      ]
    },
    {
      "cell_type": "code",
      "metadata": {
        "colab": {
          "base_uri": "https://localhost:8080/",
          "height": 309
        },
        "id": "UUhDdAdD9as3",
        "outputId": "0571d9e9-513a-4880-9c07-627a680082b7"
      },
      "source": [
        "# Explore the first 5 rows of the dataset using head\n",
        "\n",
        "data= pd.read_csv(\"/content/drive/MyDrive/NYC Taxi Data.csv\")\n",
        "data.head()"
      ],
      "execution_count": 8,
      "outputs": [
        {
          "output_type": "execute_result",
          "data": {
            "text/html": [
              "<div>\n",
              "<style scoped>\n",
              "    .dataframe tbody tr th:only-of-type {\n",
              "        vertical-align: middle;\n",
              "    }\n",
              "\n",
              "    .dataframe tbody tr th {\n",
              "        vertical-align: top;\n",
              "    }\n",
              "\n",
              "    .dataframe thead th {\n",
              "        text-align: right;\n",
              "    }\n",
              "</style>\n",
              "<table border=\"1\" class=\"dataframe\">\n",
              "  <thead>\n",
              "    <tr style=\"text-align: right;\">\n",
              "      <th></th>\n",
              "      <th>id</th>\n",
              "      <th>vendor_id</th>\n",
              "      <th>pickup_datetime</th>\n",
              "      <th>dropoff_datetime</th>\n",
              "      <th>passenger_count</th>\n",
              "      <th>pickup_longitude</th>\n",
              "      <th>pickup_latitude</th>\n",
              "      <th>dropoff_longitude</th>\n",
              "      <th>dropoff_latitude</th>\n",
              "      <th>store_and_fwd_flag</th>\n",
              "      <th>trip_duration</th>\n",
              "    </tr>\n",
              "  </thead>\n",
              "  <tbody>\n",
              "    <tr>\n",
              "      <th>0</th>\n",
              "      <td>id2875421</td>\n",
              "      <td>2</td>\n",
              "      <td>2016-03-14 17:24:55</td>\n",
              "      <td>2016-03-14 17:32:30</td>\n",
              "      <td>1</td>\n",
              "      <td>-73.982155</td>\n",
              "      <td>40.767937</td>\n",
              "      <td>-73.964630</td>\n",
              "      <td>40.765602</td>\n",
              "      <td>N</td>\n",
              "      <td>455</td>\n",
              "    </tr>\n",
              "    <tr>\n",
              "      <th>1</th>\n",
              "      <td>id2377394</td>\n",
              "      <td>1</td>\n",
              "      <td>2016-06-12 00:43:35</td>\n",
              "      <td>2016-06-12 00:54:38</td>\n",
              "      <td>1</td>\n",
              "      <td>-73.980415</td>\n",
              "      <td>40.738564</td>\n",
              "      <td>-73.999481</td>\n",
              "      <td>40.731152</td>\n",
              "      <td>N</td>\n",
              "      <td>663</td>\n",
              "    </tr>\n",
              "    <tr>\n",
              "      <th>2</th>\n",
              "      <td>id3858529</td>\n",
              "      <td>2</td>\n",
              "      <td>2016-01-19 11:35:24</td>\n",
              "      <td>2016-01-19 12:10:48</td>\n",
              "      <td>1</td>\n",
              "      <td>-73.979027</td>\n",
              "      <td>40.763939</td>\n",
              "      <td>-74.005333</td>\n",
              "      <td>40.710087</td>\n",
              "      <td>N</td>\n",
              "      <td>2124</td>\n",
              "    </tr>\n",
              "    <tr>\n",
              "      <th>3</th>\n",
              "      <td>id3504673</td>\n",
              "      <td>2</td>\n",
              "      <td>2016-04-06 19:32:31</td>\n",
              "      <td>2016-04-06 19:39:40</td>\n",
              "      <td>1</td>\n",
              "      <td>-74.010040</td>\n",
              "      <td>40.719971</td>\n",
              "      <td>-74.012268</td>\n",
              "      <td>40.706718</td>\n",
              "      <td>N</td>\n",
              "      <td>429</td>\n",
              "    </tr>\n",
              "    <tr>\n",
              "      <th>4</th>\n",
              "      <td>id2181028</td>\n",
              "      <td>2</td>\n",
              "      <td>2016-03-26 13:30:55</td>\n",
              "      <td>2016-03-26 13:38:10</td>\n",
              "      <td>1</td>\n",
              "      <td>-73.973053</td>\n",
              "      <td>40.793209</td>\n",
              "      <td>-73.972923</td>\n",
              "      <td>40.782520</td>\n",
              "      <td>N</td>\n",
              "      <td>435</td>\n",
              "    </tr>\n",
              "  </tbody>\n",
              "</table>\n",
              "</div>"
            ],
            "text/plain": [
              "          id  vendor_id  ... store_and_fwd_flag trip_duration\n",
              "0  id2875421          2  ...                  N           455\n",
              "1  id2377394          1  ...                  N           663\n",
              "2  id3858529          2  ...                  N          2124\n",
              "3  id3504673          2  ...                  N           429\n",
              "4  id2181028          2  ...                  N           435\n",
              "\n",
              "[5 rows x 11 columns]"
            ]
          },
          "metadata": {},
          "execution_count": 8
        }
      ]
    },
    {
      "cell_type": "code",
      "metadata": {
        "colab": {
          "base_uri": "https://localhost:8080/"
        },
        "id": "Ar5DGaPU9jIy",
        "outputId": "073ebe86-10a2-45fe-f5be-41e0b49beda7"
      },
      "source": [
        "# check the shape of the data\n",
        "\n",
        "data.shape\n"
      ],
      "execution_count": 9,
      "outputs": [
        {
          "output_type": "execute_result",
          "data": {
            "text/plain": [
              "(1458644, 11)"
            ]
          },
          "metadata": {},
          "execution_count": 9
        }
      ]
    },
    {
      "cell_type": "code",
      "metadata": {
        "colab": {
          "base_uri": "https://localhost:8080/"
        },
        "id": "LDCvnMP2AUYU",
        "outputId": "456953c0-3f09-4575-f952-6abcdeb1d31e"
      },
      "source": [
        "# check the data types of all columns\n",
        "data.dtypes"
      ],
      "execution_count": 10,
      "outputs": [
        {
          "output_type": "execute_result",
          "data": {
            "text/plain": [
              "id                     object\n",
              "vendor_id               int64\n",
              "pickup_datetime        object\n",
              "dropoff_datetime       object\n",
              "passenger_count         int64\n",
              "pickup_longitude      float64\n",
              "pickup_latitude       float64\n",
              "dropoff_longitude     float64\n",
              "dropoff_latitude      float64\n",
              "store_and_fwd_flag     object\n",
              "trip_duration           int64\n",
              "dtype: object"
            ]
          },
          "metadata": {},
          "execution_count": 10
        }
      ]
    },
    {
      "cell_type": "code",
      "metadata": {
        "colab": {
          "base_uri": "https://localhost:8080/"
        },
        "id": "OJYTVubW-Con",
        "outputId": "a19c3dbb-997a-4b10-c637-9b6133e4ab90"
      },
      "source": [
        "data.columns"
      ],
      "execution_count": 11,
      "outputs": [
        {
          "output_type": "execute_result",
          "data": {
            "text/plain": [
              "Index(['id', 'vendor_id', 'pickup_datetime', 'dropoff_datetime',\n",
              "       'passenger_count', 'pickup_longitude', 'pickup_latitude',\n",
              "       'dropoff_longitude', 'dropoff_latitude', 'store_and_fwd_flag',\n",
              "       'trip_duration'],\n",
              "      dtype='object')"
            ]
          },
          "metadata": {},
          "execution_count": 11
        }
      ]
    },
    {
      "cell_type": "code",
      "metadata": {
        "colab": {
          "base_uri": "https://localhost:8080/"
        },
        "id": "gQzBkTSD-FTn",
        "outputId": "15833553-e2d9-464d-a44f-c7e42c667421"
      },
      "source": [
        "# check the null values\n",
        "\n",
        "data.isnull().sum()"
      ],
      "execution_count": 12,
      "outputs": [
        {
          "output_type": "execute_result",
          "data": {
            "text/plain": [
              "id                    0\n",
              "vendor_id             0\n",
              "pickup_datetime       0\n",
              "dropoff_datetime      0\n",
              "passenger_count       0\n",
              "pickup_longitude      0\n",
              "pickup_latitude       0\n",
              "dropoff_longitude     0\n",
              "dropoff_latitude      0\n",
              "store_and_fwd_flag    0\n",
              "trip_duration         0\n",
              "dtype: int64"
            ]
          },
          "metadata": {},
          "execution_count": 12
        }
      ]
    },
    {
      "cell_type": "code",
      "metadata": {
        "colab": {
          "base_uri": "https://localhost:8080/",
          "height": 297
        },
        "id": "TnLGtIUVAM2c",
        "outputId": "f4b8f30c-ab82-4f6c-dfc1-a879b538fac2"
      },
      "source": [
        "# Statistical details of the data\n",
        "\n",
        "data.describe()"
      ],
      "execution_count": 13,
      "outputs": [
        {
          "output_type": "execute_result",
          "data": {
            "text/html": [
              "<div>\n",
              "<style scoped>\n",
              "    .dataframe tbody tr th:only-of-type {\n",
              "        vertical-align: middle;\n",
              "    }\n",
              "\n",
              "    .dataframe tbody tr th {\n",
              "        vertical-align: top;\n",
              "    }\n",
              "\n",
              "    .dataframe thead th {\n",
              "        text-align: right;\n",
              "    }\n",
              "</style>\n",
              "<table border=\"1\" class=\"dataframe\">\n",
              "  <thead>\n",
              "    <tr style=\"text-align: right;\">\n",
              "      <th></th>\n",
              "      <th>vendor_id</th>\n",
              "      <th>passenger_count</th>\n",
              "      <th>pickup_longitude</th>\n",
              "      <th>pickup_latitude</th>\n",
              "      <th>dropoff_longitude</th>\n",
              "      <th>dropoff_latitude</th>\n",
              "      <th>trip_duration</th>\n",
              "    </tr>\n",
              "  </thead>\n",
              "  <tbody>\n",
              "    <tr>\n",
              "      <th>count</th>\n",
              "      <td>1.458644e+06</td>\n",
              "      <td>1.458644e+06</td>\n",
              "      <td>1.458644e+06</td>\n",
              "      <td>1.458644e+06</td>\n",
              "      <td>1.458644e+06</td>\n",
              "      <td>1.458644e+06</td>\n",
              "      <td>1.458644e+06</td>\n",
              "    </tr>\n",
              "    <tr>\n",
              "      <th>mean</th>\n",
              "      <td>1.534950e+00</td>\n",
              "      <td>1.664530e+00</td>\n",
              "      <td>-7.397349e+01</td>\n",
              "      <td>4.075092e+01</td>\n",
              "      <td>-7.397342e+01</td>\n",
              "      <td>4.075180e+01</td>\n",
              "      <td>9.594923e+02</td>\n",
              "    </tr>\n",
              "    <tr>\n",
              "      <th>std</th>\n",
              "      <td>4.987772e-01</td>\n",
              "      <td>1.314242e+00</td>\n",
              "      <td>7.090186e-02</td>\n",
              "      <td>3.288119e-02</td>\n",
              "      <td>7.064327e-02</td>\n",
              "      <td>3.589056e-02</td>\n",
              "      <td>5.237432e+03</td>\n",
              "    </tr>\n",
              "    <tr>\n",
              "      <th>min</th>\n",
              "      <td>1.000000e+00</td>\n",
              "      <td>0.000000e+00</td>\n",
              "      <td>-1.219333e+02</td>\n",
              "      <td>3.435970e+01</td>\n",
              "      <td>-1.219333e+02</td>\n",
              "      <td>3.218114e+01</td>\n",
              "      <td>1.000000e+00</td>\n",
              "    </tr>\n",
              "    <tr>\n",
              "      <th>25%</th>\n",
              "      <td>1.000000e+00</td>\n",
              "      <td>1.000000e+00</td>\n",
              "      <td>-7.399187e+01</td>\n",
              "      <td>4.073735e+01</td>\n",
              "      <td>-7.399133e+01</td>\n",
              "      <td>4.073588e+01</td>\n",
              "      <td>3.970000e+02</td>\n",
              "    </tr>\n",
              "    <tr>\n",
              "      <th>50%</th>\n",
              "      <td>2.000000e+00</td>\n",
              "      <td>1.000000e+00</td>\n",
              "      <td>-7.398174e+01</td>\n",
              "      <td>4.075410e+01</td>\n",
              "      <td>-7.397975e+01</td>\n",
              "      <td>4.075452e+01</td>\n",
              "      <td>6.620000e+02</td>\n",
              "    </tr>\n",
              "    <tr>\n",
              "      <th>75%</th>\n",
              "      <td>2.000000e+00</td>\n",
              "      <td>2.000000e+00</td>\n",
              "      <td>-7.396733e+01</td>\n",
              "      <td>4.076836e+01</td>\n",
              "      <td>-7.396301e+01</td>\n",
              "      <td>4.076981e+01</td>\n",
              "      <td>1.075000e+03</td>\n",
              "    </tr>\n",
              "    <tr>\n",
              "      <th>max</th>\n",
              "      <td>2.000000e+00</td>\n",
              "      <td>9.000000e+00</td>\n",
              "      <td>-6.133553e+01</td>\n",
              "      <td>5.188108e+01</td>\n",
              "      <td>-6.133553e+01</td>\n",
              "      <td>4.392103e+01</td>\n",
              "      <td>3.526282e+06</td>\n",
              "    </tr>\n",
              "  </tbody>\n",
              "</table>\n",
              "</div>"
            ],
            "text/plain": [
              "          vendor_id  passenger_count  ...  dropoff_latitude  trip_duration\n",
              "count  1.458644e+06     1.458644e+06  ...      1.458644e+06   1.458644e+06\n",
              "mean   1.534950e+00     1.664530e+00  ...      4.075180e+01   9.594923e+02\n",
              "std    4.987772e-01     1.314242e+00  ...      3.589056e-02   5.237432e+03\n",
              "min    1.000000e+00     0.000000e+00  ...      3.218114e+01   1.000000e+00\n",
              "25%    1.000000e+00     1.000000e+00  ...      4.073588e+01   3.970000e+02\n",
              "50%    2.000000e+00     1.000000e+00  ...      4.075452e+01   6.620000e+02\n",
              "75%    2.000000e+00     2.000000e+00  ...      4.076981e+01   1.075000e+03\n",
              "max    2.000000e+00     9.000000e+00  ...      4.392103e+01   3.526282e+06\n",
              "\n",
              "[8 rows x 7 columns]"
            ]
          },
          "metadata": {},
          "execution_count": 13
        }
      ]
    },
    {
      "cell_type": "code",
      "metadata": {
        "colab": {
          "base_uri": "https://localhost:8080/",
          "height": 69
        },
        "id": "Ey9oME-yAi5K",
        "outputId": "66555046-4c8a-4731-9f8b-f859070e80c8"
      },
      "source": [
        "# check the duplicate values in the dataset\n",
        "\n",
        "data[data.duplicated()==True]"
      ],
      "execution_count": 14,
      "outputs": [
        {
          "output_type": "execute_result",
          "data": {
            "text/html": [
              "<div>\n",
              "<style scoped>\n",
              "    .dataframe tbody tr th:only-of-type {\n",
              "        vertical-align: middle;\n",
              "    }\n",
              "\n",
              "    .dataframe tbody tr th {\n",
              "        vertical-align: top;\n",
              "    }\n",
              "\n",
              "    .dataframe thead th {\n",
              "        text-align: right;\n",
              "    }\n",
              "</style>\n",
              "<table border=\"1\" class=\"dataframe\">\n",
              "  <thead>\n",
              "    <tr style=\"text-align: right;\">\n",
              "      <th></th>\n",
              "      <th>id</th>\n",
              "      <th>vendor_id</th>\n",
              "      <th>pickup_datetime</th>\n",
              "      <th>dropoff_datetime</th>\n",
              "      <th>passenger_count</th>\n",
              "      <th>pickup_longitude</th>\n",
              "      <th>pickup_latitude</th>\n",
              "      <th>dropoff_longitude</th>\n",
              "      <th>dropoff_latitude</th>\n",
              "      <th>store_and_fwd_flag</th>\n",
              "      <th>trip_duration</th>\n",
              "    </tr>\n",
              "  </thead>\n",
              "  <tbody>\n",
              "  </tbody>\n",
              "</table>\n",
              "</div>"
            ],
            "text/plain": [
              "Empty DataFrame\n",
              "Columns: [id, vendor_id, pickup_datetime, dropoff_datetime, passenger_count, pickup_longitude, pickup_latitude, dropoff_longitude, dropoff_latitude, store_and_fwd_flag, trip_duration]\n",
              "Index: []"
            ]
          },
          "metadata": {},
          "execution_count": 14
        }
      ]
    },
    {
      "cell_type": "code",
      "metadata": {
        "colab": {
          "base_uri": "https://localhost:8080/",
          "height": 309
        },
        "id": "HDr2IyaqAqkE",
        "outputId": "ed1a8eba-3546-40a9-dbf8-50a588c6587d"
      },
      "source": [
        "# convert the object type into datetime \n",
        "\n",
        "data['pickup_datetime'] = pd.to_datetime(data['pickup_datetime'])\n",
        "data['dropoff_datetime'] = pd.to_datetime(data['dropoff_datetime'])\n",
        "data.head()"
      ],
      "execution_count": 15,
      "outputs": [
        {
          "output_type": "execute_result",
          "data": {
            "text/html": [
              "<div>\n",
              "<style scoped>\n",
              "    .dataframe tbody tr th:only-of-type {\n",
              "        vertical-align: middle;\n",
              "    }\n",
              "\n",
              "    .dataframe tbody tr th {\n",
              "        vertical-align: top;\n",
              "    }\n",
              "\n",
              "    .dataframe thead th {\n",
              "        text-align: right;\n",
              "    }\n",
              "</style>\n",
              "<table border=\"1\" class=\"dataframe\">\n",
              "  <thead>\n",
              "    <tr style=\"text-align: right;\">\n",
              "      <th></th>\n",
              "      <th>id</th>\n",
              "      <th>vendor_id</th>\n",
              "      <th>pickup_datetime</th>\n",
              "      <th>dropoff_datetime</th>\n",
              "      <th>passenger_count</th>\n",
              "      <th>pickup_longitude</th>\n",
              "      <th>pickup_latitude</th>\n",
              "      <th>dropoff_longitude</th>\n",
              "      <th>dropoff_latitude</th>\n",
              "      <th>store_and_fwd_flag</th>\n",
              "      <th>trip_duration</th>\n",
              "    </tr>\n",
              "  </thead>\n",
              "  <tbody>\n",
              "    <tr>\n",
              "      <th>0</th>\n",
              "      <td>id2875421</td>\n",
              "      <td>2</td>\n",
              "      <td>2016-03-14 17:24:55</td>\n",
              "      <td>2016-03-14 17:32:30</td>\n",
              "      <td>1</td>\n",
              "      <td>-73.982155</td>\n",
              "      <td>40.767937</td>\n",
              "      <td>-73.964630</td>\n",
              "      <td>40.765602</td>\n",
              "      <td>N</td>\n",
              "      <td>455</td>\n",
              "    </tr>\n",
              "    <tr>\n",
              "      <th>1</th>\n",
              "      <td>id2377394</td>\n",
              "      <td>1</td>\n",
              "      <td>2016-06-12 00:43:35</td>\n",
              "      <td>2016-06-12 00:54:38</td>\n",
              "      <td>1</td>\n",
              "      <td>-73.980415</td>\n",
              "      <td>40.738564</td>\n",
              "      <td>-73.999481</td>\n",
              "      <td>40.731152</td>\n",
              "      <td>N</td>\n",
              "      <td>663</td>\n",
              "    </tr>\n",
              "    <tr>\n",
              "      <th>2</th>\n",
              "      <td>id3858529</td>\n",
              "      <td>2</td>\n",
              "      <td>2016-01-19 11:35:24</td>\n",
              "      <td>2016-01-19 12:10:48</td>\n",
              "      <td>1</td>\n",
              "      <td>-73.979027</td>\n",
              "      <td>40.763939</td>\n",
              "      <td>-74.005333</td>\n",
              "      <td>40.710087</td>\n",
              "      <td>N</td>\n",
              "      <td>2124</td>\n",
              "    </tr>\n",
              "    <tr>\n",
              "      <th>3</th>\n",
              "      <td>id3504673</td>\n",
              "      <td>2</td>\n",
              "      <td>2016-04-06 19:32:31</td>\n",
              "      <td>2016-04-06 19:39:40</td>\n",
              "      <td>1</td>\n",
              "      <td>-74.010040</td>\n",
              "      <td>40.719971</td>\n",
              "      <td>-74.012268</td>\n",
              "      <td>40.706718</td>\n",
              "      <td>N</td>\n",
              "      <td>429</td>\n",
              "    </tr>\n",
              "    <tr>\n",
              "      <th>4</th>\n",
              "      <td>id2181028</td>\n",
              "      <td>2</td>\n",
              "      <td>2016-03-26 13:30:55</td>\n",
              "      <td>2016-03-26 13:38:10</td>\n",
              "      <td>1</td>\n",
              "      <td>-73.973053</td>\n",
              "      <td>40.793209</td>\n",
              "      <td>-73.972923</td>\n",
              "      <td>40.782520</td>\n",
              "      <td>N</td>\n",
              "      <td>435</td>\n",
              "    </tr>\n",
              "  </tbody>\n",
              "</table>\n",
              "</div>"
            ],
            "text/plain": [
              "          id  vendor_id  ... store_and_fwd_flag trip_duration\n",
              "0  id2875421          2  ...                  N           455\n",
              "1  id2377394          1  ...                  N           663\n",
              "2  id3858529          2  ...                  N          2124\n",
              "3  id3504673          2  ...                  N           429\n",
              "4  id2181028          2  ...                  N           435\n",
              "\n",
              "[5 rows x 11 columns]"
            ]
          },
          "metadata": {},
          "execution_count": 15
        }
      ]
    },
    {
      "cell_type": "code",
      "metadata": {
        "colab": {
          "base_uri": "https://localhost:8080/"
        },
        "id": "i9lFVBm5BxCE",
        "outputId": "959675a7-771c-4766-d1ed-c513d0fe33d5"
      },
      "source": [
        "# verify after converting the datatype\n",
        "\n",
        "data.dtypes"
      ],
      "execution_count": 16,
      "outputs": [
        {
          "output_type": "execute_result",
          "data": {
            "text/plain": [
              "id                            object\n",
              "vendor_id                      int64\n",
              "pickup_datetime       datetime64[ns]\n",
              "dropoff_datetime      datetime64[ns]\n",
              "passenger_count                int64\n",
              "pickup_longitude             float64\n",
              "pickup_latitude              float64\n",
              "dropoff_longitude            float64\n",
              "dropoff_latitude             float64\n",
              "store_and_fwd_flag            object\n",
              "trip_duration                  int64\n",
              "dtype: object"
            ]
          },
          "metadata": {},
          "execution_count": 16
        }
      ]
    },
    {
      "cell_type": "code",
      "metadata": {
        "colab": {
          "base_uri": "https://localhost:8080/"
        },
        "id": "8AxpOfajB28t",
        "outputId": "a132f023-e1f1-43bd-f8e0-7a6cb60c7fb8"
      },
      "source": [
        "print(\"Min pickup time:\",min(data['pickup_datetime']))\n",
        "print(\"Max pickup time:\",max(data['pickup_datetime']))"
      ],
      "execution_count": 17,
      "outputs": [
        {
          "output_type": "stream",
          "name": "stdout",
          "text": [
            "Min pickup time: 2016-01-01 00:00:17\n",
            "Max pickup time: 2016-06-30 23:59:39\n"
          ]
        }
      ]
    },
    {
      "cell_type": "code",
      "metadata": {
        "id": "zpSZTa7kDCBF"
      },
      "source": [
        "import calendar"
      ],
      "execution_count": 18,
      "outputs": []
    },
    {
      "cell_type": "code",
      "metadata": {
        "id": "P5gkd_VhCEWu"
      },
      "source": [
        "data['pickup_date']= data['pickup_datetime'].dt.date\n",
        "data['pickup_day']=data['pickup_datetime'].apply(lambda x:x.day)\n",
        "data['pickup_hour']=data['pickup_datetime'].apply(lambda x:x.hour)\n",
        "data['pickup_day_of_week']=data['pickup_datetime'].apply(lambda x:calendar.day_name[x.weekday()])\n",
        "data['dropoff_date']= data['dropoff_datetime'].dt.date\n",
        "data['dropoff_day']=data['dropoff_datetime'].apply(lambda x:x.day)\n",
        "data['dropoff_hour']=data['dropoff_datetime'].apply(lambda x:x.hour)\n",
        "data['dropoff_day_of_week']=data['dropoff_datetime'].apply(lambda x:calendar.day_name[x.weekday()])"
      ],
      "execution_count": 19,
      "outputs": []
    },
    {
      "cell_type": "code",
      "metadata": {
        "id": "gFp3yV8uDsEC"
      },
      "source": [
        "# Round to 3 decimal places\n",
        "\n",
        "data['pickup_latitude_round3']=data['pickup_latitude'].apply(lambda x:round(x,3))\n",
        "data['pickup_longitude_round3']=data['pickup_longitude'].apply(lambda x:round(x,3))\n",
        "data['dropoff_latitude_round3']=data['dropoff_latitude'].apply(lambda x:round(x,3))\n",
        "data['dropoff_longitude_round3']=data['dropoff_longitude'].apply(lambda x:round(x,3))"
      ],
      "execution_count": 20,
      "outputs": []
    },
    {
      "cell_type": "code",
      "metadata": {
        "colab": {
          "base_uri": "https://localhost:8080/",
          "height": 309
        },
        "id": "JZelwMNcEENX",
        "outputId": "0ce90842-8bab-4af6-90c5-8048a31ff09d"
      },
      "source": [
        "# check the head after all the changes\n",
        "\n",
        "data.head()"
      ],
      "execution_count": 21,
      "outputs": [
        {
          "output_type": "execute_result",
          "data": {
            "text/html": [
              "<div>\n",
              "<style scoped>\n",
              "    .dataframe tbody tr th:only-of-type {\n",
              "        vertical-align: middle;\n",
              "    }\n",
              "\n",
              "    .dataframe tbody tr th {\n",
              "        vertical-align: top;\n",
              "    }\n",
              "\n",
              "    .dataframe thead th {\n",
              "        text-align: right;\n",
              "    }\n",
              "</style>\n",
              "<table border=\"1\" class=\"dataframe\">\n",
              "  <thead>\n",
              "    <tr style=\"text-align: right;\">\n",
              "      <th></th>\n",
              "      <th>id</th>\n",
              "      <th>vendor_id</th>\n",
              "      <th>pickup_datetime</th>\n",
              "      <th>dropoff_datetime</th>\n",
              "      <th>passenger_count</th>\n",
              "      <th>pickup_longitude</th>\n",
              "      <th>pickup_latitude</th>\n",
              "      <th>dropoff_longitude</th>\n",
              "      <th>dropoff_latitude</th>\n",
              "      <th>store_and_fwd_flag</th>\n",
              "      <th>trip_duration</th>\n",
              "      <th>pickup_date</th>\n",
              "      <th>pickup_day</th>\n",
              "      <th>pickup_hour</th>\n",
              "      <th>pickup_day_of_week</th>\n",
              "      <th>dropoff_date</th>\n",
              "      <th>dropoff_day</th>\n",
              "      <th>dropoff_hour</th>\n",
              "      <th>dropoff_day_of_week</th>\n",
              "      <th>pickup_latitude_round3</th>\n",
              "      <th>pickup_longitude_round3</th>\n",
              "      <th>dropoff_latitude_round3</th>\n",
              "      <th>dropoff_longitude_round3</th>\n",
              "    </tr>\n",
              "  </thead>\n",
              "  <tbody>\n",
              "    <tr>\n",
              "      <th>0</th>\n",
              "      <td>id2875421</td>\n",
              "      <td>2</td>\n",
              "      <td>2016-03-14 17:24:55</td>\n",
              "      <td>2016-03-14 17:32:30</td>\n",
              "      <td>1</td>\n",
              "      <td>-73.982155</td>\n",
              "      <td>40.767937</td>\n",
              "      <td>-73.964630</td>\n",
              "      <td>40.765602</td>\n",
              "      <td>N</td>\n",
              "      <td>455</td>\n",
              "      <td>2016-03-14</td>\n",
              "      <td>14</td>\n",
              "      <td>17</td>\n",
              "      <td>Monday</td>\n",
              "      <td>2016-03-14</td>\n",
              "      <td>14</td>\n",
              "      <td>17</td>\n",
              "      <td>Monday</td>\n",
              "      <td>40.768</td>\n",
              "      <td>-73.982</td>\n",
              "      <td>40.766</td>\n",
              "      <td>-73.965</td>\n",
              "    </tr>\n",
              "    <tr>\n",
              "      <th>1</th>\n",
              "      <td>id2377394</td>\n",
              "      <td>1</td>\n",
              "      <td>2016-06-12 00:43:35</td>\n",
              "      <td>2016-06-12 00:54:38</td>\n",
              "      <td>1</td>\n",
              "      <td>-73.980415</td>\n",
              "      <td>40.738564</td>\n",
              "      <td>-73.999481</td>\n",
              "      <td>40.731152</td>\n",
              "      <td>N</td>\n",
              "      <td>663</td>\n",
              "      <td>2016-06-12</td>\n",
              "      <td>12</td>\n",
              "      <td>0</td>\n",
              "      <td>Sunday</td>\n",
              "      <td>2016-06-12</td>\n",
              "      <td>12</td>\n",
              "      <td>0</td>\n",
              "      <td>Sunday</td>\n",
              "      <td>40.739</td>\n",
              "      <td>-73.980</td>\n",
              "      <td>40.731</td>\n",
              "      <td>-73.999</td>\n",
              "    </tr>\n",
              "    <tr>\n",
              "      <th>2</th>\n",
              "      <td>id3858529</td>\n",
              "      <td>2</td>\n",
              "      <td>2016-01-19 11:35:24</td>\n",
              "      <td>2016-01-19 12:10:48</td>\n",
              "      <td>1</td>\n",
              "      <td>-73.979027</td>\n",
              "      <td>40.763939</td>\n",
              "      <td>-74.005333</td>\n",
              "      <td>40.710087</td>\n",
              "      <td>N</td>\n",
              "      <td>2124</td>\n",
              "      <td>2016-01-19</td>\n",
              "      <td>19</td>\n",
              "      <td>11</td>\n",
              "      <td>Tuesday</td>\n",
              "      <td>2016-01-19</td>\n",
              "      <td>19</td>\n",
              "      <td>12</td>\n",
              "      <td>Tuesday</td>\n",
              "      <td>40.764</td>\n",
              "      <td>-73.979</td>\n",
              "      <td>40.710</td>\n",
              "      <td>-74.005</td>\n",
              "    </tr>\n",
              "    <tr>\n",
              "      <th>3</th>\n",
              "      <td>id3504673</td>\n",
              "      <td>2</td>\n",
              "      <td>2016-04-06 19:32:31</td>\n",
              "      <td>2016-04-06 19:39:40</td>\n",
              "      <td>1</td>\n",
              "      <td>-74.010040</td>\n",
              "      <td>40.719971</td>\n",
              "      <td>-74.012268</td>\n",
              "      <td>40.706718</td>\n",
              "      <td>N</td>\n",
              "      <td>429</td>\n",
              "      <td>2016-04-06</td>\n",
              "      <td>6</td>\n",
              "      <td>19</td>\n",
              "      <td>Wednesday</td>\n",
              "      <td>2016-04-06</td>\n",
              "      <td>6</td>\n",
              "      <td>19</td>\n",
              "      <td>Wednesday</td>\n",
              "      <td>40.720</td>\n",
              "      <td>-74.010</td>\n",
              "      <td>40.707</td>\n",
              "      <td>-74.012</td>\n",
              "    </tr>\n",
              "    <tr>\n",
              "      <th>4</th>\n",
              "      <td>id2181028</td>\n",
              "      <td>2</td>\n",
              "      <td>2016-03-26 13:30:55</td>\n",
              "      <td>2016-03-26 13:38:10</td>\n",
              "      <td>1</td>\n",
              "      <td>-73.973053</td>\n",
              "      <td>40.793209</td>\n",
              "      <td>-73.972923</td>\n",
              "      <td>40.782520</td>\n",
              "      <td>N</td>\n",
              "      <td>435</td>\n",
              "      <td>2016-03-26</td>\n",
              "      <td>26</td>\n",
              "      <td>13</td>\n",
              "      <td>Saturday</td>\n",
              "      <td>2016-03-26</td>\n",
              "      <td>26</td>\n",
              "      <td>13</td>\n",
              "      <td>Saturday</td>\n",
              "      <td>40.793</td>\n",
              "      <td>-73.973</td>\n",
              "      <td>40.783</td>\n",
              "      <td>-73.973</td>\n",
              "    </tr>\n",
              "  </tbody>\n",
              "</table>\n",
              "</div>"
            ],
            "text/plain": [
              "          id  vendor_id  ... dropoff_latitude_round3 dropoff_longitude_round3\n",
              "0  id2875421          2  ...                  40.766                  -73.965\n",
              "1  id2377394          1  ...                  40.731                  -73.999\n",
              "2  id3858529          2  ...                  40.710                  -74.005\n",
              "3  id3504673          2  ...                  40.707                  -74.012\n",
              "4  id2181028          2  ...                  40.783                  -73.973\n",
              "\n",
              "[5 rows x 23 columns]"
            ]
          },
          "metadata": {},
          "execution_count": 21
        }
      ]
    },
    {
      "cell_type": "code",
      "metadata": {
        "id": "He4JWjjGEFVo"
      },
      "source": [
        "# Calculate the distance \n",
        "\n",
        "def cal_distance(pickup_lat,pickup_long,dropoff_lat,dropoff_long):\n",
        " \n",
        " start_coordinates=(pickup_lat,pickup_long)\n",
        " stop_coordinates=(dropoff_lat,dropoff_long)\n",
        " \n",
        " return great_circle(start_coordinates,stop_coordinates).km"
      ],
      "execution_count": 22,
      "outputs": []
    },
    {
      "cell_type": "code",
      "metadata": {
        "id": "5CrhtTt6Ete9"
      },
      "source": [
        "from geopy.distance import great_circle"
      ],
      "execution_count": 23,
      "outputs": []
    },
    {
      "cell_type": "code",
      "metadata": {
        "id": "R6GMeUvnEfVE"
      },
      "source": [
        "data['trip_distance'] = data.apply(lambda x: cal_distance(x['pickup_latitude'],x['pickup_longitude'],x['dropoff_latitude'],x['dropoff_longitude'] ), axis=1)"
      ],
      "execution_count": 24,
      "outputs": []
    },
    {
      "cell_type": "code",
      "metadata": {
        "colab": {
          "base_uri": "https://localhost:8080/",
          "height": 309
        },
        "id": "eJ6tkzhuEoeR",
        "outputId": "f8aa5696-d309-48ce-c1d5-5ea27e629170"
      },
      "source": [
        "data.head()"
      ],
      "execution_count": 25,
      "outputs": [
        {
          "output_type": "execute_result",
          "data": {
            "text/html": [
              "<div>\n",
              "<style scoped>\n",
              "    .dataframe tbody tr th:only-of-type {\n",
              "        vertical-align: middle;\n",
              "    }\n",
              "\n",
              "    .dataframe tbody tr th {\n",
              "        vertical-align: top;\n",
              "    }\n",
              "\n",
              "    .dataframe thead th {\n",
              "        text-align: right;\n",
              "    }\n",
              "</style>\n",
              "<table border=\"1\" class=\"dataframe\">\n",
              "  <thead>\n",
              "    <tr style=\"text-align: right;\">\n",
              "      <th></th>\n",
              "      <th>id</th>\n",
              "      <th>vendor_id</th>\n",
              "      <th>pickup_datetime</th>\n",
              "      <th>dropoff_datetime</th>\n",
              "      <th>passenger_count</th>\n",
              "      <th>pickup_longitude</th>\n",
              "      <th>pickup_latitude</th>\n",
              "      <th>dropoff_longitude</th>\n",
              "      <th>dropoff_latitude</th>\n",
              "      <th>store_and_fwd_flag</th>\n",
              "      <th>trip_duration</th>\n",
              "      <th>pickup_date</th>\n",
              "      <th>pickup_day</th>\n",
              "      <th>pickup_hour</th>\n",
              "      <th>pickup_day_of_week</th>\n",
              "      <th>dropoff_date</th>\n",
              "      <th>dropoff_day</th>\n",
              "      <th>dropoff_hour</th>\n",
              "      <th>dropoff_day_of_week</th>\n",
              "      <th>pickup_latitude_round3</th>\n",
              "      <th>pickup_longitude_round3</th>\n",
              "      <th>dropoff_latitude_round3</th>\n",
              "      <th>dropoff_longitude_round3</th>\n",
              "      <th>trip_distance</th>\n",
              "    </tr>\n",
              "  </thead>\n",
              "  <tbody>\n",
              "    <tr>\n",
              "      <th>0</th>\n",
              "      <td>id2875421</td>\n",
              "      <td>2</td>\n",
              "      <td>2016-03-14 17:24:55</td>\n",
              "      <td>2016-03-14 17:32:30</td>\n",
              "      <td>1</td>\n",
              "      <td>-73.982155</td>\n",
              "      <td>40.767937</td>\n",
              "      <td>-73.964630</td>\n",
              "      <td>40.765602</td>\n",
              "      <td>N</td>\n",
              "      <td>455</td>\n",
              "      <td>2016-03-14</td>\n",
              "      <td>14</td>\n",
              "      <td>17</td>\n",
              "      <td>Monday</td>\n",
              "      <td>2016-03-14</td>\n",
              "      <td>14</td>\n",
              "      <td>17</td>\n",
              "      <td>Monday</td>\n",
              "      <td>40.768</td>\n",
              "      <td>-73.982</td>\n",
              "      <td>40.766</td>\n",
              "      <td>-73.965</td>\n",
              "      <td>1.498523</td>\n",
              "    </tr>\n",
              "    <tr>\n",
              "      <th>1</th>\n",
              "      <td>id2377394</td>\n",
              "      <td>1</td>\n",
              "      <td>2016-06-12 00:43:35</td>\n",
              "      <td>2016-06-12 00:54:38</td>\n",
              "      <td>1</td>\n",
              "      <td>-73.980415</td>\n",
              "      <td>40.738564</td>\n",
              "      <td>-73.999481</td>\n",
              "      <td>40.731152</td>\n",
              "      <td>N</td>\n",
              "      <td>663</td>\n",
              "      <td>2016-06-12</td>\n",
              "      <td>12</td>\n",
              "      <td>0</td>\n",
              "      <td>Sunday</td>\n",
              "      <td>2016-06-12</td>\n",
              "      <td>12</td>\n",
              "      <td>0</td>\n",
              "      <td>Sunday</td>\n",
              "      <td>40.739</td>\n",
              "      <td>-73.980</td>\n",
              "      <td>40.731</td>\n",
              "      <td>-73.999</td>\n",
              "      <td>1.805510</td>\n",
              "    </tr>\n",
              "    <tr>\n",
              "      <th>2</th>\n",
              "      <td>id3858529</td>\n",
              "      <td>2</td>\n",
              "      <td>2016-01-19 11:35:24</td>\n",
              "      <td>2016-01-19 12:10:48</td>\n",
              "      <td>1</td>\n",
              "      <td>-73.979027</td>\n",
              "      <td>40.763939</td>\n",
              "      <td>-74.005333</td>\n",
              "      <td>40.710087</td>\n",
              "      <td>N</td>\n",
              "      <td>2124</td>\n",
              "      <td>2016-01-19</td>\n",
              "      <td>19</td>\n",
              "      <td>11</td>\n",
              "      <td>Tuesday</td>\n",
              "      <td>2016-01-19</td>\n",
              "      <td>19</td>\n",
              "      <td>12</td>\n",
              "      <td>Tuesday</td>\n",
              "      <td>40.764</td>\n",
              "      <td>-73.979</td>\n",
              "      <td>40.710</td>\n",
              "      <td>-74.005</td>\n",
              "      <td>6.385108</td>\n",
              "    </tr>\n",
              "    <tr>\n",
              "      <th>3</th>\n",
              "      <td>id3504673</td>\n",
              "      <td>2</td>\n",
              "      <td>2016-04-06 19:32:31</td>\n",
              "      <td>2016-04-06 19:39:40</td>\n",
              "      <td>1</td>\n",
              "      <td>-74.010040</td>\n",
              "      <td>40.719971</td>\n",
              "      <td>-74.012268</td>\n",
              "      <td>40.706718</td>\n",
              "      <td>N</td>\n",
              "      <td>429</td>\n",
              "      <td>2016-04-06</td>\n",
              "      <td>6</td>\n",
              "      <td>19</td>\n",
              "      <td>Wednesday</td>\n",
              "      <td>2016-04-06</td>\n",
              "      <td>6</td>\n",
              "      <td>19</td>\n",
              "      <td>Wednesday</td>\n",
              "      <td>40.720</td>\n",
              "      <td>-74.010</td>\n",
              "      <td>40.707</td>\n",
              "      <td>-74.012</td>\n",
              "      <td>1.485501</td>\n",
              "    </tr>\n",
              "    <tr>\n",
              "      <th>4</th>\n",
              "      <td>id2181028</td>\n",
              "      <td>2</td>\n",
              "      <td>2016-03-26 13:30:55</td>\n",
              "      <td>2016-03-26 13:38:10</td>\n",
              "      <td>1</td>\n",
              "      <td>-73.973053</td>\n",
              "      <td>40.793209</td>\n",
              "      <td>-73.972923</td>\n",
              "      <td>40.782520</td>\n",
              "      <td>N</td>\n",
              "      <td>435</td>\n",
              "      <td>2016-03-26</td>\n",
              "      <td>26</td>\n",
              "      <td>13</td>\n",
              "      <td>Saturday</td>\n",
              "      <td>2016-03-26</td>\n",
              "      <td>26</td>\n",
              "      <td>13</td>\n",
              "      <td>Saturday</td>\n",
              "      <td>40.793</td>\n",
              "      <td>-73.973</td>\n",
              "      <td>40.783</td>\n",
              "      <td>-73.973</td>\n",
              "      <td>1.188590</td>\n",
              "    </tr>\n",
              "  </tbody>\n",
              "</table>\n",
              "</div>"
            ],
            "text/plain": [
              "          id  vendor_id  ... dropoff_longitude_round3 trip_distance\n",
              "0  id2875421          2  ...                  -73.965      1.498523\n",
              "1  id2377394          1  ...                  -73.999      1.805510\n",
              "2  id3858529          2  ...                  -74.005      6.385108\n",
              "3  id3504673          2  ...                  -74.012      1.485501\n",
              "4  id2181028          2  ...                  -73.973      1.188590\n",
              "\n",
              "[5 rows x 24 columns]"
            ]
          },
          "metadata": {},
          "execution_count": 25
        }
      ]
    },
    {
      "cell_type": "code",
      "metadata": {
        "colab": {
          "base_uri": "https://localhost:8080/"
        },
        "id": "hNda8ZPuFA2v",
        "outputId": "d695eed7-02b0-41b0-943d-0d1319f12374"
      },
      "source": [
        "# Names of all numeric columns\n",
        "\n",
        "data.describe().columns"
      ],
      "execution_count": 26,
      "outputs": [
        {
          "output_type": "execute_result",
          "data": {
            "text/plain": [
              "Index(['vendor_id', 'passenger_count', 'pickup_longitude', 'pickup_latitude',\n",
              "       'dropoff_longitude', 'dropoff_latitude', 'trip_duration', 'pickup_day',\n",
              "       'pickup_hour', 'dropoff_day', 'dropoff_hour', 'pickup_latitude_round3',\n",
              "       'pickup_longitude_round3', 'dropoff_latitude_round3',\n",
              "       'dropoff_longitude_round3', 'trip_distance'],\n",
              "      dtype='object')"
            ]
          },
          "metadata": {},
          "execution_count": 26
        }
      ]
    },
    {
      "cell_type": "code",
      "metadata": {
        "colab": {
          "base_uri": "https://localhost:8080/",
          "height": 309
        },
        "id": "paC3hc1JGYo7",
        "outputId": "4b1b26d2-003b-45c8-d1fe-3ffd1e4d186a"
      },
      "source": [
        "# Converting the trip duration(sec) to trip duration(minutes)\n",
        "\n",
        "data['trip_duration_in_minutes']=data['trip_duration'].apply(lambda x:x/60)\n",
        "data.head()"
      ],
      "execution_count": 27,
      "outputs": [
        {
          "output_type": "execute_result",
          "data": {
            "text/html": [
              "<div>\n",
              "<style scoped>\n",
              "    .dataframe tbody tr th:only-of-type {\n",
              "        vertical-align: middle;\n",
              "    }\n",
              "\n",
              "    .dataframe tbody tr th {\n",
              "        vertical-align: top;\n",
              "    }\n",
              "\n",
              "    .dataframe thead th {\n",
              "        text-align: right;\n",
              "    }\n",
              "</style>\n",
              "<table border=\"1\" class=\"dataframe\">\n",
              "  <thead>\n",
              "    <tr style=\"text-align: right;\">\n",
              "      <th></th>\n",
              "      <th>id</th>\n",
              "      <th>vendor_id</th>\n",
              "      <th>pickup_datetime</th>\n",
              "      <th>dropoff_datetime</th>\n",
              "      <th>passenger_count</th>\n",
              "      <th>pickup_longitude</th>\n",
              "      <th>pickup_latitude</th>\n",
              "      <th>dropoff_longitude</th>\n",
              "      <th>dropoff_latitude</th>\n",
              "      <th>store_and_fwd_flag</th>\n",
              "      <th>trip_duration</th>\n",
              "      <th>pickup_date</th>\n",
              "      <th>pickup_day</th>\n",
              "      <th>pickup_hour</th>\n",
              "      <th>pickup_day_of_week</th>\n",
              "      <th>dropoff_date</th>\n",
              "      <th>dropoff_day</th>\n",
              "      <th>dropoff_hour</th>\n",
              "      <th>dropoff_day_of_week</th>\n",
              "      <th>pickup_latitude_round3</th>\n",
              "      <th>pickup_longitude_round3</th>\n",
              "      <th>dropoff_latitude_round3</th>\n",
              "      <th>dropoff_longitude_round3</th>\n",
              "      <th>trip_distance</th>\n",
              "      <th>trip_duration_in_minutes</th>\n",
              "    </tr>\n",
              "  </thead>\n",
              "  <tbody>\n",
              "    <tr>\n",
              "      <th>0</th>\n",
              "      <td>id2875421</td>\n",
              "      <td>2</td>\n",
              "      <td>2016-03-14 17:24:55</td>\n",
              "      <td>2016-03-14 17:32:30</td>\n",
              "      <td>1</td>\n",
              "      <td>-73.982155</td>\n",
              "      <td>40.767937</td>\n",
              "      <td>-73.964630</td>\n",
              "      <td>40.765602</td>\n",
              "      <td>N</td>\n",
              "      <td>455</td>\n",
              "      <td>2016-03-14</td>\n",
              "      <td>14</td>\n",
              "      <td>17</td>\n",
              "      <td>Monday</td>\n",
              "      <td>2016-03-14</td>\n",
              "      <td>14</td>\n",
              "      <td>17</td>\n",
              "      <td>Monday</td>\n",
              "      <td>40.768</td>\n",
              "      <td>-73.982</td>\n",
              "      <td>40.766</td>\n",
              "      <td>-73.965</td>\n",
              "      <td>1.498523</td>\n",
              "      <td>7.583333</td>\n",
              "    </tr>\n",
              "    <tr>\n",
              "      <th>1</th>\n",
              "      <td>id2377394</td>\n",
              "      <td>1</td>\n",
              "      <td>2016-06-12 00:43:35</td>\n",
              "      <td>2016-06-12 00:54:38</td>\n",
              "      <td>1</td>\n",
              "      <td>-73.980415</td>\n",
              "      <td>40.738564</td>\n",
              "      <td>-73.999481</td>\n",
              "      <td>40.731152</td>\n",
              "      <td>N</td>\n",
              "      <td>663</td>\n",
              "      <td>2016-06-12</td>\n",
              "      <td>12</td>\n",
              "      <td>0</td>\n",
              "      <td>Sunday</td>\n",
              "      <td>2016-06-12</td>\n",
              "      <td>12</td>\n",
              "      <td>0</td>\n",
              "      <td>Sunday</td>\n",
              "      <td>40.739</td>\n",
              "      <td>-73.980</td>\n",
              "      <td>40.731</td>\n",
              "      <td>-73.999</td>\n",
              "      <td>1.805510</td>\n",
              "      <td>11.050000</td>\n",
              "    </tr>\n",
              "    <tr>\n",
              "      <th>2</th>\n",
              "      <td>id3858529</td>\n",
              "      <td>2</td>\n",
              "      <td>2016-01-19 11:35:24</td>\n",
              "      <td>2016-01-19 12:10:48</td>\n",
              "      <td>1</td>\n",
              "      <td>-73.979027</td>\n",
              "      <td>40.763939</td>\n",
              "      <td>-74.005333</td>\n",
              "      <td>40.710087</td>\n",
              "      <td>N</td>\n",
              "      <td>2124</td>\n",
              "      <td>2016-01-19</td>\n",
              "      <td>19</td>\n",
              "      <td>11</td>\n",
              "      <td>Tuesday</td>\n",
              "      <td>2016-01-19</td>\n",
              "      <td>19</td>\n",
              "      <td>12</td>\n",
              "      <td>Tuesday</td>\n",
              "      <td>40.764</td>\n",
              "      <td>-73.979</td>\n",
              "      <td>40.710</td>\n",
              "      <td>-74.005</td>\n",
              "      <td>6.385108</td>\n",
              "      <td>35.400000</td>\n",
              "    </tr>\n",
              "    <tr>\n",
              "      <th>3</th>\n",
              "      <td>id3504673</td>\n",
              "      <td>2</td>\n",
              "      <td>2016-04-06 19:32:31</td>\n",
              "      <td>2016-04-06 19:39:40</td>\n",
              "      <td>1</td>\n",
              "      <td>-74.010040</td>\n",
              "      <td>40.719971</td>\n",
              "      <td>-74.012268</td>\n",
              "      <td>40.706718</td>\n",
              "      <td>N</td>\n",
              "      <td>429</td>\n",
              "      <td>2016-04-06</td>\n",
              "      <td>6</td>\n",
              "      <td>19</td>\n",
              "      <td>Wednesday</td>\n",
              "      <td>2016-04-06</td>\n",
              "      <td>6</td>\n",
              "      <td>19</td>\n",
              "      <td>Wednesday</td>\n",
              "      <td>40.720</td>\n",
              "      <td>-74.010</td>\n",
              "      <td>40.707</td>\n",
              "      <td>-74.012</td>\n",
              "      <td>1.485501</td>\n",
              "      <td>7.150000</td>\n",
              "    </tr>\n",
              "    <tr>\n",
              "      <th>4</th>\n",
              "      <td>id2181028</td>\n",
              "      <td>2</td>\n",
              "      <td>2016-03-26 13:30:55</td>\n",
              "      <td>2016-03-26 13:38:10</td>\n",
              "      <td>1</td>\n",
              "      <td>-73.973053</td>\n",
              "      <td>40.793209</td>\n",
              "      <td>-73.972923</td>\n",
              "      <td>40.782520</td>\n",
              "      <td>N</td>\n",
              "      <td>435</td>\n",
              "      <td>2016-03-26</td>\n",
              "      <td>26</td>\n",
              "      <td>13</td>\n",
              "      <td>Saturday</td>\n",
              "      <td>2016-03-26</td>\n",
              "      <td>26</td>\n",
              "      <td>13</td>\n",
              "      <td>Saturday</td>\n",
              "      <td>40.793</td>\n",
              "      <td>-73.973</td>\n",
              "      <td>40.783</td>\n",
              "      <td>-73.973</td>\n",
              "      <td>1.188590</td>\n",
              "      <td>7.250000</td>\n",
              "    </tr>\n",
              "  </tbody>\n",
              "</table>\n",
              "</div>"
            ],
            "text/plain": [
              "          id  vendor_id  ... trip_distance trip_duration_in_minutes\n",
              "0  id2875421          2  ...      1.498523                 7.583333\n",
              "1  id2377394          1  ...      1.805510                11.050000\n",
              "2  id3858529          2  ...      6.385108                35.400000\n",
              "3  id3504673          2  ...      1.485501                 7.150000\n",
              "4  id2181028          2  ...      1.188590                 7.250000\n",
              "\n",
              "[5 rows x 25 columns]"
            ]
          },
          "metadata": {},
          "execution_count": 27
        }
      ]
    },
    {
      "cell_type": "code",
      "metadata": {
        "colab": {
          "base_uri": "https://localhost:8080/",
          "height": 309
        },
        "id": "ZTRYPQBThCRs",
        "outputId": "4559b9eb-76a4-4809-8466-6967c4646b3e"
      },
      "source": [
        "# Converting the trip duration(sec) to trip duration(hour)\n",
        "\n",
        "data['trip_duration_in_hour']=data['trip_duration'].apply(lambda x:x/3600)\n",
        "data.head()"
      ],
      "execution_count": 28,
      "outputs": [
        {
          "output_type": "execute_result",
          "data": {
            "text/html": [
              "<div>\n",
              "<style scoped>\n",
              "    .dataframe tbody tr th:only-of-type {\n",
              "        vertical-align: middle;\n",
              "    }\n",
              "\n",
              "    .dataframe tbody tr th {\n",
              "        vertical-align: top;\n",
              "    }\n",
              "\n",
              "    .dataframe thead th {\n",
              "        text-align: right;\n",
              "    }\n",
              "</style>\n",
              "<table border=\"1\" class=\"dataframe\">\n",
              "  <thead>\n",
              "    <tr style=\"text-align: right;\">\n",
              "      <th></th>\n",
              "      <th>id</th>\n",
              "      <th>vendor_id</th>\n",
              "      <th>pickup_datetime</th>\n",
              "      <th>dropoff_datetime</th>\n",
              "      <th>passenger_count</th>\n",
              "      <th>pickup_longitude</th>\n",
              "      <th>pickup_latitude</th>\n",
              "      <th>dropoff_longitude</th>\n",
              "      <th>dropoff_latitude</th>\n",
              "      <th>store_and_fwd_flag</th>\n",
              "      <th>trip_duration</th>\n",
              "      <th>pickup_date</th>\n",
              "      <th>pickup_day</th>\n",
              "      <th>pickup_hour</th>\n",
              "      <th>pickup_day_of_week</th>\n",
              "      <th>dropoff_date</th>\n",
              "      <th>dropoff_day</th>\n",
              "      <th>dropoff_hour</th>\n",
              "      <th>dropoff_day_of_week</th>\n",
              "      <th>pickup_latitude_round3</th>\n",
              "      <th>pickup_longitude_round3</th>\n",
              "      <th>dropoff_latitude_round3</th>\n",
              "      <th>dropoff_longitude_round3</th>\n",
              "      <th>trip_distance</th>\n",
              "      <th>trip_duration_in_minutes</th>\n",
              "      <th>trip_duration_in_hour</th>\n",
              "    </tr>\n",
              "  </thead>\n",
              "  <tbody>\n",
              "    <tr>\n",
              "      <th>0</th>\n",
              "      <td>id2875421</td>\n",
              "      <td>2</td>\n",
              "      <td>2016-03-14 17:24:55</td>\n",
              "      <td>2016-03-14 17:32:30</td>\n",
              "      <td>1</td>\n",
              "      <td>-73.982155</td>\n",
              "      <td>40.767937</td>\n",
              "      <td>-73.964630</td>\n",
              "      <td>40.765602</td>\n",
              "      <td>N</td>\n",
              "      <td>455</td>\n",
              "      <td>2016-03-14</td>\n",
              "      <td>14</td>\n",
              "      <td>17</td>\n",
              "      <td>Monday</td>\n",
              "      <td>2016-03-14</td>\n",
              "      <td>14</td>\n",
              "      <td>17</td>\n",
              "      <td>Monday</td>\n",
              "      <td>40.768</td>\n",
              "      <td>-73.982</td>\n",
              "      <td>40.766</td>\n",
              "      <td>-73.965</td>\n",
              "      <td>1.498523</td>\n",
              "      <td>7.583333</td>\n",
              "      <td>0.126389</td>\n",
              "    </tr>\n",
              "    <tr>\n",
              "      <th>1</th>\n",
              "      <td>id2377394</td>\n",
              "      <td>1</td>\n",
              "      <td>2016-06-12 00:43:35</td>\n",
              "      <td>2016-06-12 00:54:38</td>\n",
              "      <td>1</td>\n",
              "      <td>-73.980415</td>\n",
              "      <td>40.738564</td>\n",
              "      <td>-73.999481</td>\n",
              "      <td>40.731152</td>\n",
              "      <td>N</td>\n",
              "      <td>663</td>\n",
              "      <td>2016-06-12</td>\n",
              "      <td>12</td>\n",
              "      <td>0</td>\n",
              "      <td>Sunday</td>\n",
              "      <td>2016-06-12</td>\n",
              "      <td>12</td>\n",
              "      <td>0</td>\n",
              "      <td>Sunday</td>\n",
              "      <td>40.739</td>\n",
              "      <td>-73.980</td>\n",
              "      <td>40.731</td>\n",
              "      <td>-73.999</td>\n",
              "      <td>1.805510</td>\n",
              "      <td>11.050000</td>\n",
              "      <td>0.184167</td>\n",
              "    </tr>\n",
              "    <tr>\n",
              "      <th>2</th>\n",
              "      <td>id3858529</td>\n",
              "      <td>2</td>\n",
              "      <td>2016-01-19 11:35:24</td>\n",
              "      <td>2016-01-19 12:10:48</td>\n",
              "      <td>1</td>\n",
              "      <td>-73.979027</td>\n",
              "      <td>40.763939</td>\n",
              "      <td>-74.005333</td>\n",
              "      <td>40.710087</td>\n",
              "      <td>N</td>\n",
              "      <td>2124</td>\n",
              "      <td>2016-01-19</td>\n",
              "      <td>19</td>\n",
              "      <td>11</td>\n",
              "      <td>Tuesday</td>\n",
              "      <td>2016-01-19</td>\n",
              "      <td>19</td>\n",
              "      <td>12</td>\n",
              "      <td>Tuesday</td>\n",
              "      <td>40.764</td>\n",
              "      <td>-73.979</td>\n",
              "      <td>40.710</td>\n",
              "      <td>-74.005</td>\n",
              "      <td>6.385108</td>\n",
              "      <td>35.400000</td>\n",
              "      <td>0.590000</td>\n",
              "    </tr>\n",
              "    <tr>\n",
              "      <th>3</th>\n",
              "      <td>id3504673</td>\n",
              "      <td>2</td>\n",
              "      <td>2016-04-06 19:32:31</td>\n",
              "      <td>2016-04-06 19:39:40</td>\n",
              "      <td>1</td>\n",
              "      <td>-74.010040</td>\n",
              "      <td>40.719971</td>\n",
              "      <td>-74.012268</td>\n",
              "      <td>40.706718</td>\n",
              "      <td>N</td>\n",
              "      <td>429</td>\n",
              "      <td>2016-04-06</td>\n",
              "      <td>6</td>\n",
              "      <td>19</td>\n",
              "      <td>Wednesday</td>\n",
              "      <td>2016-04-06</td>\n",
              "      <td>6</td>\n",
              "      <td>19</td>\n",
              "      <td>Wednesday</td>\n",
              "      <td>40.720</td>\n",
              "      <td>-74.010</td>\n",
              "      <td>40.707</td>\n",
              "      <td>-74.012</td>\n",
              "      <td>1.485501</td>\n",
              "      <td>7.150000</td>\n",
              "      <td>0.119167</td>\n",
              "    </tr>\n",
              "    <tr>\n",
              "      <th>4</th>\n",
              "      <td>id2181028</td>\n",
              "      <td>2</td>\n",
              "      <td>2016-03-26 13:30:55</td>\n",
              "      <td>2016-03-26 13:38:10</td>\n",
              "      <td>1</td>\n",
              "      <td>-73.973053</td>\n",
              "      <td>40.793209</td>\n",
              "      <td>-73.972923</td>\n",
              "      <td>40.782520</td>\n",
              "      <td>N</td>\n",
              "      <td>435</td>\n",
              "      <td>2016-03-26</td>\n",
              "      <td>26</td>\n",
              "      <td>13</td>\n",
              "      <td>Saturday</td>\n",
              "      <td>2016-03-26</td>\n",
              "      <td>26</td>\n",
              "      <td>13</td>\n",
              "      <td>Saturday</td>\n",
              "      <td>40.793</td>\n",
              "      <td>-73.973</td>\n",
              "      <td>40.783</td>\n",
              "      <td>-73.973</td>\n",
              "      <td>1.188590</td>\n",
              "      <td>7.250000</td>\n",
              "      <td>0.120833</td>\n",
              "    </tr>\n",
              "  </tbody>\n",
              "</table>\n",
              "</div>"
            ],
            "text/plain": [
              "          id  vendor_id  ... trip_duration_in_minutes trip_duration_in_hour\n",
              "0  id2875421          2  ...                 7.583333              0.126389\n",
              "1  id2377394          1  ...                11.050000              0.184167\n",
              "2  id3858529          2  ...                35.400000              0.590000\n",
              "3  id3504673          2  ...                 7.150000              0.119167\n",
              "4  id2181028          2  ...                 7.250000              0.120833\n",
              "\n",
              "[5 rows x 26 columns]"
            ]
          },
          "metadata": {},
          "execution_count": 28
        }
      ]
    },
    {
      "cell_type": "code",
      "metadata": {
        "id": "qn5fIsRNgiMW"
      },
      "source": [
        "warnings.filterwarnings('ignore')"
      ],
      "execution_count": 29,
      "outputs": []
    },
    {
      "cell_type": "code",
      "metadata": {
        "colab": {
          "base_uri": "https://localhost:8080/",
          "height": 368
        },
        "id": "FiZbkiqTfh_H",
        "outputId": "abd70cb8-6917-45a4-fda0-0037a12d7e46"
      },
      "source": [
        "plt.figure(figsize=(8,5))\n",
        "sns.distplot(data['trip_duration_in_hour']).set_title(\"Distribution of Trip Duration\")"
      ],
      "execution_count": 30,
      "outputs": [
        {
          "output_type": "execute_result",
          "data": {
            "text/plain": [
              "Text(0.5, 1.0, 'Distribution of Trip Duration')"
            ]
          },
          "metadata": {},
          "execution_count": 30
        },
        {
          "output_type": "display_data",
          "data": {
            "image/png": "[encoded data removed]",
            "text/plain": [
              "<Figure size 576x360 with 1 Axes>"
            ]
          },
          "metadata": {
            "needs_background": "light"
          }
        }
      ]
    },
    {
      "cell_type": "code",
      "metadata": {
        "colab": {
          "base_uri": "https://localhost:8080/",
          "height": 285
        },
        "id": "pg0FLJZPh75W",
        "outputId": "7c7f09b8-859a-404c-abfc-97f15f15f109"
      },
      "source": [
        "# Trip duration is highly right skewed , hence applying log to normalize\n",
        "\n",
        "sns.set()\n",
        "data['log_trip_duration'] = np.log(data['trip_duration'].values + 1)\n",
        "plt.hist(data['log_trip_duration'].values, bins=100)\n",
        "plt.xlabel('log(trip_duration)')\n",
        "plt.ylabel('number of train records')\n",
        "plt.show()"
      ],
      "execution_count": 31,
      "outputs": [
        {
          "output_type": "display_data",
          "data": {
            "image/png": "[encoded data removed]",
            "text/plain": [
              "<Figure size 432x288 with 1 Axes>"
            ]
          },
          "metadata": {}
        }
      ]
    },
    {
      "cell_type": "code",
      "metadata": {
        "colab": {
          "base_uri": "https://localhost:8080/",
          "height": 302
        },
        "id": "Zme9j-ezjzb1",
        "outputId": "012677fa-e848-4930-cbc2-b83a57b12f3f"
      },
      "source": [
        "# Countplot of pickup hour\n",
        "\n",
        "sns.countplot(data['pickup_hour'])"
      ],
      "execution_count": 32,
      "outputs": [
        {
          "output_type": "execute_result",
          "data": {
            "text/plain": [
              "<matplotlib.axes._subplots.AxesSubplot at 0x7ff1cb2b2510>"
            ]
          },
          "metadata": {},
          "execution_count": 32
        },
        {
          "output_type": "display_data",
          "data": {
            "image/png": "[encoded data removed]",
            "text/plain": [
              "<Figure size 432x288 with 1 Axes>"
            ]
          },
          "metadata": {}
        }
      ]
    },
    {
      "cell_type": "code",
      "metadata": {
        "colab": {
          "base_uri": "https://localhost:8080/",
          "height": 507
        },
        "id": "thRnPLKmkDja",
        "outputId": "4a30dbe9-4359-4c38-c840-e40769d5f366"
      },
      "source": [
        "# Countplot of pickupday of week\n",
        "\n",
        "fig = plt.figure(figsize=(8,7))\n",
        "sns.countplot(data['pickup_day_of_week'])\n",
        "plt.xticks(rotation = '45')"
      ],
      "execution_count": 33,
      "outputs": [
        {
          "output_type": "execute_result",
          "data": {
            "text/plain": [
              "(array([0, 1, 2, 3, 4, 5, 6]), <a list of 7 Text major ticklabel objects>)"
            ]
          },
          "metadata": {},
          "execution_count": 33
        },
        {
          "output_type": "display_data",
          "data": {
            "image/png": "[encoded data removed]",
            "text/plain": [
              "<Figure size 576x504 with 1 Axes>"
            ]
          },
          "metadata": {}
        }
      ]
    },
    {
      "cell_type": "code",
      "metadata": {
        "colab": {
          "base_uri": "https://localhost:8080/"
        },
        "id": "j_bsy3dUlGM1",
        "outputId": "de296f60-efe1-43f9-ce5f-903be720f404"
      },
      "source": [
        "data['vendor_id'].value_counts(normalize = True)*100"
      ],
      "execution_count": 34,
      "outputs": [
        {
          "output_type": "execute_result",
          "data": {
            "text/plain": [
              "2    53.495027\n",
              "1    46.504973\n",
              "Name: vendor_id, dtype: float64"
            ]
          },
          "metadata": {},
          "execution_count": 34
        }
      ]
    },
    {
      "cell_type": "code",
      "metadata": {
        "colab": {
          "base_uri": "https://localhost:8080/",
          "height": 411
        },
        "id": "BkV_tY9TkqCu",
        "outputId": "1c022e8d-d563-4585-f9ad-500c2b25f2d7"
      },
      "source": [
        "# Bar chart of vendor id\n",
        "\n",
        "fig = plt.figure(figsize=(8,6))\n",
        "g_vendor = data.groupby('vendor_id')['trip_duration'].mean()\n",
        "sns.barplot(g_vendor.index,g_vendor.values)"
      ],
      "execution_count": 35,
      "outputs": [
        {
          "output_type": "execute_result",
          "data": {
            "text/plain": [
              "<matplotlib.axes._subplots.AxesSubplot at 0x7ff1d50d0cd0>"
            ]
          },
          "metadata": {},
          "execution_count": 35
        },
        {
          "output_type": "display_data",
          "data": {
            "image/png": "[encoded data removed]",
            "text/plain": [
              "<Figure size 576x432 with 1 Axes>"
            ]
          },
          "metadata": {}
        }
      ]
    },
    {
      "cell_type": "code",
      "metadata": {
        "colab": {
          "base_uri": "https://localhost:8080/"
        },
        "id": "aZqs0jAHm-2l",
        "outputId": "f59c4445-9730-4f6b-e2ff-5d657632ac97"
      },
      "source": [
        "data['passenger_count'].value_counts()"
      ],
      "execution_count": 36,
      "outputs": [
        {
          "output_type": "execute_result",
          "data": {
            "text/plain": [
              "1    1033540\n",
              "2     210318\n",
              "5      78088\n",
              "3      59896\n",
              "6      48333\n",
              "4      28404\n",
              "0         60\n",
              "7          3\n",
              "9          1\n",
              "8          1\n",
              "Name: passenger_count, dtype: int64"
            ]
          },
          "metadata": {},
          "execution_count": 36
        }
      ]
    },
    {
      "cell_type": "code",
      "metadata": {
        "colab": {
          "base_uri": "https://localhost:8080/",
          "height": 399
        },
        "id": "Hh2ObZ7pkzeA",
        "outputId": "28a498eb-5197-4afa-fdd7-9a832340468a"
      },
      "source": [
        "# Passenger count\n",
        "\n",
        "fig = plt.figure(figsize=(8,7))\n",
        "sns.displot(data, x=\"passenger_count\", kind=\"kde\", bw_adjust=2)"
      ],
      "execution_count": 37,
      "outputs": [
        {
          "output_type": "execute_result",
          "data": {
            "text/plain": [
              "<seaborn.axisgrid.FacetGrid at 0x7ff1d54c8dd0>"
            ]
          },
          "metadata": {},
          "execution_count": 37
        },
        {
          "output_type": "display_data",
          "data": {
            "text/plain": [
              "<Figure size 576x504 with 0 Axes>"
            ]
          },
          "metadata": {}
        },
        {
          "output_type": "display_data",
          "data": {
            "image/png": "[encoded data removed]",
            "text/plain": [
              "<Figure size 360x360 with 1 Axes>"
            ]
          },
          "metadata": {}
        }
      ]
    },
    {
      "cell_type": "code",
      "metadata": {
        "colab": {
          "base_uri": "https://localhost:8080/",
          "height": 355
        },
        "id": "KOZFqHeLnKkl",
        "outputId": "d602327d-1b99-4309-e166-0b2b16884325"
      },
      "source": [
        "plt.figure(figsize=(8,5))\n",
        "plt.plot(data.groupby('pickup_date').count()[['vendor_id']], 'o-',label='data')\n",
        "\n",
        "plt.title('Distribution of Pickups Over time')"
      ],
      "execution_count": 38,
      "outputs": [
        {
          "output_type": "execute_result",
          "data": {
            "text/plain": [
              "Text(0.5, 1.0, 'Distribution of Pickups Over time')"
            ]
          },
          "metadata": {},
          "execution_count": 38
        },
        {
          "output_type": "display_data",
          "data": {
            "image/png": "[encoded data removed]",
            "text/plain": [
              "<Figure size 576x360 with 1 Axes>"
            ]
          },
          "metadata": {}
        }
      ]
    },
    {
      "cell_type": "code",
      "metadata": {
        "colab": {
          "base_uri": "https://localhost:8080/",
          "height": 445
        },
        "id": "Vptj2H_1o8eu",
        "outputId": "856f5a91-5f1f-4654-eb83-db7466e50566"
      },
      "source": [
        "# checking the outliers in the dataset\n",
        "\n",
        "data.boxplot()\n",
        "plt.xticks (rotation=90)\n",
        "plt.figure(figsize=(30,20))"
      ],
      "execution_count": 39,
      "outputs": [
        {
          "output_type": "execute_result",
          "data": {
            "text/plain": [
              "<Figure size 2160x1440 with 0 Axes>"
            ]
          },
          "metadata": {},
          "execution_count": 39
        },
        {
          "output_type": "display_data",
          "data": {
            "image/png": "[encoded data removed]",
            "text/plain": [
              "<Figure size 432x288 with 1 Axes>"
            ]
          },
          "metadata": {}
        },
        {
          "output_type": "display_data",
          "data": {
            "text/plain": [
              "<Figure size 2160x1440 with 0 Axes>"
            ]
          },
          "metadata": {}
        }
      ]
    },
    {
      "cell_type": "code",
      "metadata": {
        "colab": {
          "base_uri": "https://localhost:8080/",
          "height": 302
        },
        "id": "jfzLTf61q5Hc",
        "outputId": "867cfc26-ccbf-4462-b7d8-c12fbc04d617"
      },
      "source": [
        "# Most outliers are present in column trip_duration\n",
        "\n",
        "sns.boxplot(data['trip_duration_in_minutes'])"
      ],
      "execution_count": 40,
      "outputs": [
        {
          "output_type": "execute_result",
          "data": {
            "text/plain": [
              "<matplotlib.axes._subplots.AxesSubplot at 0x7ff20ff8b750>"
            ]
          },
          "metadata": {},
          "execution_count": 40
        },
        {
          "output_type": "display_data",
          "data": {
            "image/png": "[encoded data removed]",
            "text/plain": [
              "<Figure size 432x288 with 1 Axes>"
            ]
          },
          "metadata": {}
        }
      ]
    },
    {
      "cell_type": "code",
      "metadata": {
        "colab": {
          "base_uri": "https://localhost:8080/"
        },
        "id": "jS4fjBhUs1Mw",
        "outputId": "cd2af71b-b1cc-4388-90a7-d3a2e3d38d77"
      },
      "source": [
        "data['trip_duration'].sort_values(ascending=False).head(20)"
      ],
      "execution_count": 41,
      "outputs": [
        {
          "output_type": "execute_result",
          "data": {
            "text/plain": [
              "978383     3526282\n",
              "924150     2227612\n",
              "680594     2049578\n",
              "355003     1939736\n",
              "1234291      86392\n",
              "295382       86391\n",
              "73816        86390\n",
              "59891        86387\n",
              "1360439      86385\n",
              "753765       86379\n",
              "91717        86378\n",
              "1221666      86378\n",
              "66346        86377\n",
              "1138915      86377\n",
              "172662       86369\n",
              "779030       86369\n",
              "1284067      86369\n",
              "1269316      86369\n",
              "1213613      86367\n",
              "1233528      86367\n",
              "Name: trip_duration, dtype: int64"
            ]
          },
          "metadata": {},
          "execution_count": 41
        }
      ]
    },
    {
      "cell_type": "code",
      "metadata": {
        "colab": {
          "base_uri": "https://localhost:8080/"
        },
        "id": "6mInHY5OpE0C",
        "outputId": "3fa6a459-0edc-4aba-bc89-023acd424575"
      },
      "source": [
        "data['trip_duration'].value_counts(sort = True)"
      ],
      "execution_count": 42,
      "outputs": [
        {
          "output_type": "execute_result",
          "data": {
            "text/plain": [
              "368      1624\n",
              "408      1584\n",
              "348      1582\n",
              "367      1581\n",
              "358      1577\n",
              "         ... \n",
              "85305       1\n",
              "83256       1\n",
              "83884       1\n",
              "6419        1\n",
              "8522        1\n",
              "Name: trip_duration, Length: 7417, dtype: int64"
            ]
          },
          "metadata": {},
          "execution_count": 42
        }
      ]
    },
    {
      "cell_type": "code",
      "metadata": {
        "id": "zXeYRqZOq0uH"
      },
      "source": [
        "# Removing outliers\n",
        "\n",
        "data = data[data.trip_duration <=86392 ]\n",
        "data = data[data.trip_duration >= 30]"
      ],
      "execution_count": 43,
      "outputs": []
    },
    {
      "cell_type": "code",
      "metadata": {
        "id": "PGMbUo9npOEl"
      },
      "source": [
        "# Taking only those passenger count where the count is not zero\n",
        "\n",
        "data=data[data['passenger_count']!=0]"
      ],
      "execution_count": 44,
      "outputs": []
    },
    {
      "cell_type": "code",
      "metadata": {
        "colab": {
          "base_uri": "https://localhost:8080/",
          "height": 339
        },
        "id": "fQLmpOS7yGnh",
        "outputId": "51138c72-68a3-4a4c-aa72-2398c7302337"
      },
      "source": [
        "plt.figure(figsize = (10,5))\n",
        "sns.boxplot(data.trip_distance)\n",
        "plt.xlabel('Distance Travelled')\n",
        "plt.show()"
      ],
      "execution_count": 45,
      "outputs": [
        {
          "output_type": "display_data",
          "data": {
            "image/png": "[encoded data removed]",
            "text/plain": [
              "<Figure size 720x360 with 1 Axes>"
            ]
          },
          "metadata": {}
        }
      ]
    },
    {
      "cell_type": "code",
      "metadata": {
        "id": "Rk3CLZ85ycP7"
      },
      "source": [
        "# removing outliers in column trip_distance\n",
        "\n",
        "data = data[~(data.trip_distance > 100)]\n",
        "data = data[~(data.trip_distance < 1)]"
      ],
      "execution_count": 46,
      "outputs": []
    },
    {
      "cell_type": "code",
      "metadata": {
        "colab": {
          "base_uri": "https://localhost:8080/",
          "height": 549
        },
        "id": "11sUt9pitTNn",
        "outputId": "99801874-d12e-4fdd-b204-b2caf3cb59aa"
      },
      "source": [
        "data.head(10)"
      ],
      "execution_count": 47,
      "outputs": [
        {
          "output_type": "execute_result",
          "data": {
            "text/html": [
              "<div>\n",
              "<style scoped>\n",
              "    .dataframe tbody tr th:only-of-type {\n",
              "        vertical-align: middle;\n",
              "    }\n",
              "\n",
              "    .dataframe tbody tr th {\n",
              "        vertical-align: top;\n",
              "    }\n",
              "\n",
              "    .dataframe thead th {\n",
              "        text-align: right;\n",
              "    }\n",
              "</style>\n",
              "<table border=\"1\" class=\"dataframe\">\n",
              "  <thead>\n",
              "    <tr style=\"text-align: right;\">\n",
              "      <th></th>\n",
              "      <th>id</th>\n",
              "      <th>vendor_id</th>\n",
              "      <th>pickup_datetime</th>\n",
              "      <th>dropoff_datetime</th>\n",
              "      <th>passenger_count</th>\n",
              "      <th>pickup_longitude</th>\n",
              "      <th>pickup_latitude</th>\n",
              "      <th>dropoff_longitude</th>\n",
              "      <th>dropoff_latitude</th>\n",
              "      <th>store_and_fwd_flag</th>\n",
              "      <th>trip_duration</th>\n",
              "      <th>pickup_date</th>\n",
              "      <th>pickup_day</th>\n",
              "      <th>pickup_hour</th>\n",
              "      <th>pickup_day_of_week</th>\n",
              "      <th>dropoff_date</th>\n",
              "      <th>dropoff_day</th>\n",
              "      <th>dropoff_hour</th>\n",
              "      <th>dropoff_day_of_week</th>\n",
              "      <th>pickup_latitude_round3</th>\n",
              "      <th>pickup_longitude_round3</th>\n",
              "      <th>dropoff_latitude_round3</th>\n",
              "      <th>dropoff_longitude_round3</th>\n",
              "      <th>trip_distance</th>\n",
              "      <th>trip_duration_in_minutes</th>\n",
              "      <th>trip_duration_in_hour</th>\n",
              "      <th>log_trip_duration</th>\n",
              "    </tr>\n",
              "  </thead>\n",
              "  <tbody>\n",
              "    <tr>\n",
              "      <th>0</th>\n",
              "      <td>id2875421</td>\n",
              "      <td>2</td>\n",
              "      <td>2016-03-14 17:24:55</td>\n",
              "      <td>2016-03-14 17:32:30</td>\n",
              "      <td>1</td>\n",
              "      <td>-73.982155</td>\n",
              "      <td>40.767937</td>\n",
              "      <td>-73.964630</td>\n",
              "      <td>40.765602</td>\n",
              "      <td>N</td>\n",
              "      <td>455</td>\n",
              "      <td>2016-03-14</td>\n",
              "      <td>14</td>\n",
              "      <td>17</td>\n",
              "      <td>Monday</td>\n",
              "      <td>2016-03-14</td>\n",
              "      <td>14</td>\n",
              "      <td>17</td>\n",
              "      <td>Monday</td>\n",
              "      <td>40.768</td>\n",
              "      <td>-73.982</td>\n",
              "      <td>40.766</td>\n",
              "      <td>-73.965</td>\n",
              "      <td>1.498523</td>\n",
              "      <td>7.583333</td>\n",
              "      <td>0.126389</td>\n",
              "      <td>6.122493</td>\n",
              "    </tr>\n",
              "    <tr>\n",
              "      <th>1</th>\n",
              "      <td>id2377394</td>\n",
              "      <td>1</td>\n",
              "      <td>2016-06-12 00:43:35</td>\n",
              "      <td>2016-06-12 00:54:38</td>\n",
              "      <td>1</td>\n",
              "      <td>-73.980415</td>\n",
              "      <td>40.738564</td>\n",
              "      <td>-73.999481</td>\n",
              "      <td>40.731152</td>\n",
              "      <td>N</td>\n",
              "      <td>663</td>\n",
              "      <td>2016-06-12</td>\n",
              "      <td>12</td>\n",
              "      <td>0</td>\n",
              "      <td>Sunday</td>\n",
              "      <td>2016-06-12</td>\n",
              "      <td>12</td>\n",
              "      <td>0</td>\n",
              "      <td>Sunday</td>\n",
              "      <td>40.739</td>\n",
              "      <td>-73.980</td>\n",
              "      <td>40.731</td>\n",
              "      <td>-73.999</td>\n",
              "      <td>1.805510</td>\n",
              "      <td>11.050000</td>\n",
              "      <td>0.184167</td>\n",
              "      <td>6.498282</td>\n",
              "    </tr>\n",
              "    <tr>\n",
              "      <th>2</th>\n",
              "      <td>id3858529</td>\n",
              "      <td>2</td>\n",
              "      <td>2016-01-19 11:35:24</td>\n",
              "      <td>2016-01-19 12:10:48</td>\n",
              "      <td>1</td>\n",
              "      <td>-73.979027</td>\n",
              "      <td>40.763939</td>\n",
              "      <td>-74.005333</td>\n",
              "      <td>40.710087</td>\n",
              "      <td>N</td>\n",
              "      <td>2124</td>\n",
              "      <td>2016-01-19</td>\n",
              "      <td>19</td>\n",
              "      <td>11</td>\n",
              "      <td>Tuesday</td>\n",
              "      <td>2016-01-19</td>\n",
              "      <td>19</td>\n",
              "      <td>12</td>\n",
              "      <td>Tuesday</td>\n",
              "      <td>40.764</td>\n",
              "      <td>-73.979</td>\n",
              "      <td>40.710</td>\n",
              "      <td>-74.005</td>\n",
              "      <td>6.385108</td>\n",
              "      <td>35.400000</td>\n",
              "      <td>0.590000</td>\n",
              "      <td>7.661527</td>\n",
              "    </tr>\n",
              "    <tr>\n",
              "      <th>3</th>\n",
              "      <td>id3504673</td>\n",
              "      <td>2</td>\n",
              "      <td>2016-04-06 19:32:31</td>\n",
              "      <td>2016-04-06 19:39:40</td>\n",
              "      <td>1</td>\n",
              "      <td>-74.010040</td>\n",
              "      <td>40.719971</td>\n",
              "      <td>-74.012268</td>\n",
              "      <td>40.706718</td>\n",
              "      <td>N</td>\n",
              "      <td>429</td>\n",
              "      <td>2016-04-06</td>\n",
              "      <td>6</td>\n",
              "      <td>19</td>\n",
              "      <td>Wednesday</td>\n",
              "      <td>2016-04-06</td>\n",
              "      <td>6</td>\n",
              "      <td>19</td>\n",
              "      <td>Wednesday</td>\n",
              "      <td>40.720</td>\n",
              "      <td>-74.010</td>\n",
              "      <td>40.707</td>\n",
              "      <td>-74.012</td>\n",
              "      <td>1.485501</td>\n",
              "      <td>7.150000</td>\n",
              "      <td>0.119167</td>\n",
              "      <td>6.063785</td>\n",
              "    </tr>\n",
              "    <tr>\n",
              "      <th>4</th>\n",
              "      <td>id2181028</td>\n",
              "      <td>2</td>\n",
              "      <td>2016-03-26 13:30:55</td>\n",
              "      <td>2016-03-26 13:38:10</td>\n",
              "      <td>1</td>\n",
              "      <td>-73.973053</td>\n",
              "      <td>40.793209</td>\n",
              "      <td>-73.972923</td>\n",
              "      <td>40.782520</td>\n",
              "      <td>N</td>\n",
              "      <td>435</td>\n",
              "      <td>2016-03-26</td>\n",
              "      <td>26</td>\n",
              "      <td>13</td>\n",
              "      <td>Saturday</td>\n",
              "      <td>2016-03-26</td>\n",
              "      <td>26</td>\n",
              "      <td>13</td>\n",
              "      <td>Saturday</td>\n",
              "      <td>40.793</td>\n",
              "      <td>-73.973</td>\n",
              "      <td>40.783</td>\n",
              "      <td>-73.973</td>\n",
              "      <td>1.188590</td>\n",
              "      <td>7.250000</td>\n",
              "      <td>0.120833</td>\n",
              "      <td>6.077642</td>\n",
              "    </tr>\n",
              "    <tr>\n",
              "      <th>5</th>\n",
              "      <td>id0801584</td>\n",
              "      <td>2</td>\n",
              "      <td>2016-01-30 22:01:40</td>\n",
              "      <td>2016-01-30 22:09:03</td>\n",
              "      <td>6</td>\n",
              "      <td>-73.982857</td>\n",
              "      <td>40.742195</td>\n",
              "      <td>-73.992081</td>\n",
              "      <td>40.749184</td>\n",
              "      <td>N</td>\n",
              "      <td>443</td>\n",
              "      <td>2016-01-30</td>\n",
              "      <td>30</td>\n",
              "      <td>22</td>\n",
              "      <td>Saturday</td>\n",
              "      <td>2016-01-30</td>\n",
              "      <td>30</td>\n",
              "      <td>22</td>\n",
              "      <td>Saturday</td>\n",
              "      <td>40.742</td>\n",
              "      <td>-73.983</td>\n",
              "      <td>40.749</td>\n",
              "      <td>-73.992</td>\n",
              "      <td>1.098944</td>\n",
              "      <td>7.383333</td>\n",
              "      <td>0.123056</td>\n",
              "      <td>6.095825</td>\n",
              "    </tr>\n",
              "    <tr>\n",
              "      <th>6</th>\n",
              "      <td>id1813257</td>\n",
              "      <td>1</td>\n",
              "      <td>2016-06-17 22:34:59</td>\n",
              "      <td>2016-06-17 22:40:40</td>\n",
              "      <td>4</td>\n",
              "      <td>-73.969017</td>\n",
              "      <td>40.757839</td>\n",
              "      <td>-73.957405</td>\n",
              "      <td>40.765896</td>\n",
              "      <td>N</td>\n",
              "      <td>341</td>\n",
              "      <td>2016-06-17</td>\n",
              "      <td>17</td>\n",
              "      <td>22</td>\n",
              "      <td>Friday</td>\n",
              "      <td>2016-06-17</td>\n",
              "      <td>17</td>\n",
              "      <td>22</td>\n",
              "      <td>Friday</td>\n",
              "      <td>40.758</td>\n",
              "      <td>-73.969</td>\n",
              "      <td>40.766</td>\n",
              "      <td>-73.957</td>\n",
              "      <td>1.326280</td>\n",
              "      <td>5.683333</td>\n",
              "      <td>0.094722</td>\n",
              "      <td>5.834811</td>\n",
              "    </tr>\n",
              "    <tr>\n",
              "      <th>7</th>\n",
              "      <td>id1324603</td>\n",
              "      <td>2</td>\n",
              "      <td>2016-05-21 07:54:58</td>\n",
              "      <td>2016-05-21 08:20:49</td>\n",
              "      <td>1</td>\n",
              "      <td>-73.969276</td>\n",
              "      <td>40.797779</td>\n",
              "      <td>-73.922470</td>\n",
              "      <td>40.760559</td>\n",
              "      <td>N</td>\n",
              "      <td>1551</td>\n",
              "      <td>2016-05-21</td>\n",
              "      <td>21</td>\n",
              "      <td>7</td>\n",
              "      <td>Saturday</td>\n",
              "      <td>2016-05-21</td>\n",
              "      <td>21</td>\n",
              "      <td>8</td>\n",
              "      <td>Saturday</td>\n",
              "      <td>40.798</td>\n",
              "      <td>-73.969</td>\n",
              "      <td>40.761</td>\n",
              "      <td>-73.922</td>\n",
              "      <td>5.714989</td>\n",
              "      <td>25.850000</td>\n",
              "      <td>0.430833</td>\n",
              "      <td>7.347300</td>\n",
              "    </tr>\n",
              "    <tr>\n",
              "      <th>8</th>\n",
              "      <td>id1301050</td>\n",
              "      <td>1</td>\n",
              "      <td>2016-05-27 23:12:23</td>\n",
              "      <td>2016-05-27 23:16:38</td>\n",
              "      <td>1</td>\n",
              "      <td>-73.999481</td>\n",
              "      <td>40.738400</td>\n",
              "      <td>-73.985786</td>\n",
              "      <td>40.732815</td>\n",
              "      <td>N</td>\n",
              "      <td>255</td>\n",
              "      <td>2016-05-27</td>\n",
              "      <td>27</td>\n",
              "      <td>23</td>\n",
              "      <td>Friday</td>\n",
              "      <td>2016-05-27</td>\n",
              "      <td>27</td>\n",
              "      <td>23</td>\n",
              "      <td>Friday</td>\n",
              "      <td>40.738</td>\n",
              "      <td>-73.999</td>\n",
              "      <td>40.733</td>\n",
              "      <td>-73.986</td>\n",
              "      <td>1.310355</td>\n",
              "      <td>4.250000</td>\n",
              "      <td>0.070833</td>\n",
              "      <td>5.545177</td>\n",
              "    </tr>\n",
              "    <tr>\n",
              "      <th>9</th>\n",
              "      <td>id0012891</td>\n",
              "      <td>2</td>\n",
              "      <td>2016-03-10 21:45:01</td>\n",
              "      <td>2016-03-10 22:05:26</td>\n",
              "      <td>1</td>\n",
              "      <td>-73.981049</td>\n",
              "      <td>40.744339</td>\n",
              "      <td>-73.973000</td>\n",
              "      <td>40.789989</td>\n",
              "      <td>N</td>\n",
              "      <td>1225</td>\n",
              "      <td>2016-03-10</td>\n",
              "      <td>10</td>\n",
              "      <td>21</td>\n",
              "      <td>Thursday</td>\n",
              "      <td>2016-03-10</td>\n",
              "      <td>10</td>\n",
              "      <td>22</td>\n",
              "      <td>Thursday</td>\n",
              "      <td>40.744</td>\n",
              "      <td>-73.981</td>\n",
              "      <td>40.790</td>\n",
              "      <td>-73.973</td>\n",
              "      <td>5.121169</td>\n",
              "      <td>20.416667</td>\n",
              "      <td>0.340278</td>\n",
              "      <td>7.111512</td>\n",
              "    </tr>\n",
              "  </tbody>\n",
              "</table>\n",
              "</div>"
            ],
            "text/plain": [
              "          id  vendor_id  ... trip_duration_in_hour log_trip_duration\n",
              "0  id2875421          2  ...              0.126389          6.122493\n",
              "1  id2377394          1  ...              0.184167          6.498282\n",
              "2  id3858529          2  ...              0.590000          7.661527\n",
              "3  id3504673          2  ...              0.119167          6.063785\n",
              "4  id2181028          2  ...              0.120833          6.077642\n",
              "5  id0801584          2  ...              0.123056          6.095825\n",
              "6  id1813257          1  ...              0.094722          5.834811\n",
              "7  id1324603          2  ...              0.430833          7.347300\n",
              "8  id1301050          1  ...              0.070833          5.545177\n",
              "9  id0012891          2  ...              0.340278          7.111512\n",
              "\n",
              "[10 rows x 27 columns]"
            ]
          },
          "metadata": {},
          "execution_count": 47
        }
      ]
    },
    {
      "cell_type": "code",
      "metadata": {
        "colab": {
          "base_uri": "https://localhost:8080/"
        },
        "id": "Yya0ITJmtZKO",
        "outputId": "8ddaa7bd-140e-4859-8512-c8b044887ebb"
      },
      "source": [
        "data['store_and_fwd_flag'].value_counts(normalize=True)*100"
      ],
      "execution_count": 48,
      "outputs": [
        {
          "output_type": "execute_result",
          "data": {
            "text/plain": [
              "N    99.436118\n",
              "Y     0.563882\n",
              "Name: store_and_fwd_flag, dtype: float64"
            ]
          },
          "metadata": {},
          "execution_count": 48
        }
      ]
    },
    {
      "cell_type": "code",
      "metadata": {
        "colab": {
          "base_uri": "https://localhost:8080/",
          "height": 399
        },
        "id": "K6GxApQqtlcS",
        "outputId": "5203d247-fb7b-42c9-8990-9a2b5902df0a"
      },
      "source": [
        "sns.relplot(y=data.trip_distance,x='trip_duration',data=data)"
      ],
      "execution_count": 49,
      "outputs": [
        {
          "output_type": "execute_result",
          "data": {
            "text/plain": [
              "<seaborn.axisgrid.FacetGrid at 0x7ff20f2d0ad0>"
            ]
          },
          "metadata": {},
          "execution_count": 49
        },
        {
          "output_type": "display_data",
          "data": {
            "image/png": "[encoded data removed]",
            "text/plain": [
              "<Figure size 360x360 with 1 Axes>"
            ]
          },
          "metadata": {}
        }
      ]
    },
    {
      "cell_type": "code",
      "metadata": {
        "colab": {
          "base_uri": "https://localhost:8080/",
          "height": 302
        },
        "id": "YnvFOND2uCgy",
        "outputId": "a2656fe0-623d-42bf-c19a-a0f37364ee99"
      },
      "source": [
        "sns.barplot(y='passenger_count',x='vendor_id',data=data)"
      ],
      "execution_count": 50,
      "outputs": [
        {
          "output_type": "execute_result",
          "data": {
            "text/plain": [
              "<matplotlib.axes._subplots.AxesSubplot at 0x7ff20243ca90>"
            ]
          },
          "metadata": {},
          "execution_count": 50
        },
        {
          "output_type": "display_data",
          "data": {
            "image/png": "[encoded data removed]",
            "text/plain": [
              "<Figure size 432x288 with 1 Axes>"
            ]
          },
          "metadata": {}
        }
      ]
    },
    {
      "cell_type": "code",
      "metadata": {
        "colab": {
          "base_uri": "https://localhost:8080/",
          "height": 399
        },
        "id": "CSz-pz6gubo8",
        "outputId": "a51b558b-2501-4805-b58d-be08f6cabfad"
      },
      "source": [
        "sns.catplot(y='trip_distance',x='passenger_count',data=data,kind='strip')"
      ],
      "execution_count": 51,
      "outputs": [
        {
          "output_type": "execute_result",
          "data": {
            "text/plain": [
              "<seaborn.axisgrid.FacetGrid at 0x7ff1d5ec3450>"
            ]
          },
          "metadata": {},
          "execution_count": 51
        },
        {
          "output_type": "display_data",
          "data": {
            "image/png": "[encoded data removed]",
            "text/plain": [
              "<Figure size 360x360 with 1 Axes>"
            ]
          },
          "metadata": {}
        }
      ]
    },
    {
      "cell_type": "code",
      "metadata": {
        "colab": {
          "base_uri": "https://localhost:8080/",
          "height": 309
        },
        "id": "15bZxHcO0LbO",
        "outputId": "9dd5fc1a-aa51-4b3b-980f-1ba7a26adbd0"
      },
      "source": [
        "data.head()"
      ],
      "execution_count": 52,
      "outputs": [
        {
          "output_type": "execute_result",
          "data": {
            "text/html": [
              "<div>\n",
              "<style scoped>\n",
              "    .dataframe tbody tr th:only-of-type {\n",
              "        vertical-align: middle;\n",
              "    }\n",
              "\n",
              "    .dataframe tbody tr th {\n",
              "        vertical-align: top;\n",
              "    }\n",
              "\n",
              "    .dataframe thead th {\n",
              "        text-align: right;\n",
              "    }\n",
              "</style>\n",
              "<table border=\"1\" class=\"dataframe\">\n",
              "  <thead>\n",
              "    <tr style=\"text-align: right;\">\n",
              "      <th></th>\n",
              "      <th>id</th>\n",
              "      <th>vendor_id</th>\n",
              "      <th>pickup_datetime</th>\n",
              "      <th>dropoff_datetime</th>\n",
              "      <th>passenger_count</th>\n",
              "      <th>pickup_longitude</th>\n",
              "      <th>pickup_latitude</th>\n",
              "      <th>dropoff_longitude</th>\n",
              "      <th>dropoff_latitude</th>\n",
              "      <th>store_and_fwd_flag</th>\n",
              "      <th>trip_duration</th>\n",
              "      <th>pickup_date</th>\n",
              "      <th>pickup_day</th>\n",
              "      <th>pickup_hour</th>\n",
              "      <th>pickup_day_of_week</th>\n",
              "      <th>dropoff_date</th>\n",
              "      <th>dropoff_day</th>\n",
              "      <th>dropoff_hour</th>\n",
              "      <th>dropoff_day_of_week</th>\n",
              "      <th>pickup_latitude_round3</th>\n",
              "      <th>pickup_longitude_round3</th>\n",
              "      <th>dropoff_latitude_round3</th>\n",
              "      <th>dropoff_longitude_round3</th>\n",
              "      <th>trip_distance</th>\n",
              "      <th>trip_duration_in_minutes</th>\n",
              "      <th>trip_duration_in_hour</th>\n",
              "      <th>log_trip_duration</th>\n",
              "    </tr>\n",
              "  </thead>\n",
              "  <tbody>\n",
              "    <tr>\n",
              "      <th>0</th>\n",
              "      <td>id2875421</td>\n",
              "      <td>2</td>\n",
              "      <td>2016-03-14 17:24:55</td>\n",
              "      <td>2016-03-14 17:32:30</td>\n",
              "      <td>1</td>\n",
              "      <td>-73.982155</td>\n",
              "      <td>40.767937</td>\n",
              "      <td>-73.964630</td>\n",
              "      <td>40.765602</td>\n",
              "      <td>N</td>\n",
              "      <td>455</td>\n",
              "      <td>2016-03-14</td>\n",
              "      <td>14</td>\n",
              "      <td>17</td>\n",
              "      <td>Monday</td>\n",
              "      <td>2016-03-14</td>\n",
              "      <td>14</td>\n",
              "      <td>17</td>\n",
              "      <td>Monday</td>\n",
              "      <td>40.768</td>\n",
              "      <td>-73.982</td>\n",
              "      <td>40.766</td>\n",
              "      <td>-73.965</td>\n",
              "      <td>1.498523</td>\n",
              "      <td>7.583333</td>\n",
              "      <td>0.126389</td>\n",
              "      <td>6.122493</td>\n",
              "    </tr>\n",
              "    <tr>\n",
              "      <th>1</th>\n",
              "      <td>id2377394</td>\n",
              "      <td>1</td>\n",
              "      <td>2016-06-12 00:43:35</td>\n",
              "      <td>2016-06-12 00:54:38</td>\n",
              "      <td>1</td>\n",
              "      <td>-73.980415</td>\n",
              "      <td>40.738564</td>\n",
              "      <td>-73.999481</td>\n",
              "      <td>40.731152</td>\n",
              "      <td>N</td>\n",
              "      <td>663</td>\n",
              "      <td>2016-06-12</td>\n",
              "      <td>12</td>\n",
              "      <td>0</td>\n",
              "      <td>Sunday</td>\n",
              "      <td>2016-06-12</td>\n",
              "      <td>12</td>\n",
              "      <td>0</td>\n",
              "      <td>Sunday</td>\n",
              "      <td>40.739</td>\n",
              "      <td>-73.980</td>\n",
              "      <td>40.731</td>\n",
              "      <td>-73.999</td>\n",
              "      <td>1.805510</td>\n",
              "      <td>11.050000</td>\n",
              "      <td>0.184167</td>\n",
              "      <td>6.498282</td>\n",
              "    </tr>\n",
              "    <tr>\n",
              "      <th>2</th>\n",
              "      <td>id3858529</td>\n",
              "      <td>2</td>\n",
              "      <td>2016-01-19 11:35:24</td>\n",
              "      <td>2016-01-19 12:10:48</td>\n",
              "      <td>1</td>\n",
              "      <td>-73.979027</td>\n",
              "      <td>40.763939</td>\n",
              "      <td>-74.005333</td>\n",
              "      <td>40.710087</td>\n",
              "      <td>N</td>\n",
              "      <td>2124</td>\n",
              "      <td>2016-01-19</td>\n",
              "      <td>19</td>\n",
              "      <td>11</td>\n",
              "      <td>Tuesday</td>\n",
              "      <td>2016-01-19</td>\n",
              "      <td>19</td>\n",
              "      <td>12</td>\n",
              "      <td>Tuesday</td>\n",
              "      <td>40.764</td>\n",
              "      <td>-73.979</td>\n",
              "      <td>40.710</td>\n",
              "      <td>-74.005</td>\n",
              "      <td>6.385108</td>\n",
              "      <td>35.400000</td>\n",
              "      <td>0.590000</td>\n",
              "      <td>7.661527</td>\n",
              "    </tr>\n",
              "    <tr>\n",
              "      <th>3</th>\n",
              "      <td>id3504673</td>\n",
              "      <td>2</td>\n",
              "      <td>2016-04-06 19:32:31</td>\n",
              "      <td>2016-04-06 19:39:40</td>\n",
              "      <td>1</td>\n",
              "      <td>-74.010040</td>\n",
              "      <td>40.719971</td>\n",
              "      <td>-74.012268</td>\n",
              "      <td>40.706718</td>\n",
              "      <td>N</td>\n",
              "      <td>429</td>\n",
              "      <td>2016-04-06</td>\n",
              "      <td>6</td>\n",
              "      <td>19</td>\n",
              "      <td>Wednesday</td>\n",
              "      <td>2016-04-06</td>\n",
              "      <td>6</td>\n",
              "      <td>19</td>\n",
              "      <td>Wednesday</td>\n",
              "      <td>40.720</td>\n",
              "      <td>-74.010</td>\n",
              "      <td>40.707</td>\n",
              "      <td>-74.012</td>\n",
              "      <td>1.485501</td>\n",
              "      <td>7.150000</td>\n",
              "      <td>0.119167</td>\n",
              "      <td>6.063785</td>\n",
              "    </tr>\n",
              "    <tr>\n",
              "      <th>4</th>\n",
              "      <td>id2181028</td>\n",
              "      <td>2</td>\n",
              "      <td>2016-03-26 13:30:55</td>\n",
              "      <td>2016-03-26 13:38:10</td>\n",
              "      <td>1</td>\n",
              "      <td>-73.973053</td>\n",
              "      <td>40.793209</td>\n",
              "      <td>-73.972923</td>\n",
              "      <td>40.782520</td>\n",
              "      <td>N</td>\n",
              "      <td>435</td>\n",
              "      <td>2016-03-26</td>\n",
              "      <td>26</td>\n",
              "      <td>13</td>\n",
              "      <td>Saturday</td>\n",
              "      <td>2016-03-26</td>\n",
              "      <td>26</td>\n",
              "      <td>13</td>\n",
              "      <td>Saturday</td>\n",
              "      <td>40.793</td>\n",
              "      <td>-73.973</td>\n",
              "      <td>40.783</td>\n",
              "      <td>-73.973</td>\n",
              "      <td>1.188590</td>\n",
              "      <td>7.250000</td>\n",
              "      <td>0.120833</td>\n",
              "      <td>6.077642</td>\n",
              "    </tr>\n",
              "  </tbody>\n",
              "</table>\n",
              "</div>"
            ],
            "text/plain": [
              "          id  vendor_id  ... trip_duration_in_hour log_trip_duration\n",
              "0  id2875421          2  ...              0.126389          6.122493\n",
              "1  id2377394          1  ...              0.184167          6.498282\n",
              "2  id3858529          2  ...              0.590000          7.661527\n",
              "3  id3504673          2  ...              0.119167          6.063785\n",
              "4  id2181028          2  ...              0.120833          6.077642\n",
              "\n",
              "[5 rows x 27 columns]"
            ]
          },
          "metadata": {},
          "execution_count": 52
        }
      ]
    },
    {
      "cell_type": "code",
      "metadata": {
        "colab": {
          "base_uri": "https://localhost:8080/",
          "height": 224
        },
        "id": "yb4yqvXRwhX7",
        "outputId": "872f035d-734b-422e-fac4-ad4b88b6355b"
      },
      "source": [
        "\n",
        "data=data.drop(['id','pickup_datetime', 'dropoff_datetime','pickup_day_of_week','dropoff_day_of_week', 'store_and_fwd_flag',\n",
        "                'pickup_date','dropoff_date','trip_duration_in_minutes','pickup_longitude','pickup_latitude','dropoff_longitude',\n",
        "                'dropoff_latitude','trip_duration','dropoff_hour'], axis=1)\n",
        "data.head()"
      ],
      "execution_count": 53,
      "outputs": [
        {
          "output_type": "execute_result",
          "data": {
            "text/html": [
              "<div>\n",
              "<style scoped>\n",
              "    .dataframe tbody tr th:only-of-type {\n",
              "        vertical-align: middle;\n",
              "    }\n",
              "\n",
              "    .dataframe tbody tr th {\n",
              "        vertical-align: top;\n",
              "    }\n",
              "\n",
              "    .dataframe thead th {\n",
              "        text-align: right;\n",
              "    }\n",
              "</style>\n",
              "<table border=\"1\" class=\"dataframe\">\n",
              "  <thead>\n",
              "    <tr style=\"text-align: right;\">\n",
              "      <th></th>\n",
              "      <th>vendor_id</th>\n",
              "      <th>passenger_count</th>\n",
              "      <th>pickup_day</th>\n",
              "      <th>pickup_hour</th>\n",
              "      <th>dropoff_day</th>\n",
              "      <th>pickup_latitude_round3</th>\n",
              "      <th>pickup_longitude_round3</th>\n",
              "      <th>dropoff_latitude_round3</th>\n",
              "      <th>dropoff_longitude_round3</th>\n",
              "      <th>trip_distance</th>\n",
              "      <th>trip_duration_in_hour</th>\n",
              "      <th>log_trip_duration</th>\n",
              "    </tr>\n",
              "  </thead>\n",
              "  <tbody>\n",
              "    <tr>\n",
              "      <th>0</th>\n",
              "      <td>2</td>\n",
              "      <td>1</td>\n",
              "      <td>14</td>\n",
              "      <td>17</td>\n",
              "      <td>14</td>\n",
              "      <td>40.768</td>\n",
              "      <td>-73.982</td>\n",
              "      <td>40.766</td>\n",
              "      <td>-73.965</td>\n",
              "      <td>1.498523</td>\n",
              "      <td>0.126389</td>\n",
              "      <td>6.122493</td>\n",
              "    </tr>\n",
              "    <tr>\n",
              "      <th>1</th>\n",
              "      <td>1</td>\n",
              "      <td>1</td>\n",
              "      <td>12</td>\n",
              "      <td>0</td>\n",
              "      <td>12</td>\n",
              "      <td>40.739</td>\n",
              "      <td>-73.980</td>\n",
              "      <td>40.731</td>\n",
              "      <td>-73.999</td>\n",
              "      <td>1.805510</td>\n",
              "      <td>0.184167</td>\n",
              "      <td>6.498282</td>\n",
              "    </tr>\n",
              "    <tr>\n",
              "      <th>2</th>\n",
              "      <td>2</td>\n",
              "      <td>1</td>\n",
              "      <td>19</td>\n",
              "      <td>11</td>\n",
              "      <td>19</td>\n",
              "      <td>40.764</td>\n",
              "      <td>-73.979</td>\n",
              "      <td>40.710</td>\n",
              "      <td>-74.005</td>\n",
              "      <td>6.385108</td>\n",
              "      <td>0.590000</td>\n",
              "      <td>7.661527</td>\n",
              "    </tr>\n",
              "    <tr>\n",
              "      <th>3</th>\n",
              "      <td>2</td>\n",
              "      <td>1</td>\n",
              "      <td>6</td>\n",
              "      <td>19</td>\n",
              "      <td>6</td>\n",
              "      <td>40.720</td>\n",
              "      <td>-74.010</td>\n",
              "      <td>40.707</td>\n",
              "      <td>-74.012</td>\n",
              "      <td>1.485501</td>\n",
              "      <td>0.119167</td>\n",
              "      <td>6.063785</td>\n",
              "    </tr>\n",
              "    <tr>\n",
              "      <th>4</th>\n",
              "      <td>2</td>\n",
              "      <td>1</td>\n",
              "      <td>26</td>\n",
              "      <td>13</td>\n",
              "      <td>26</td>\n",
              "      <td>40.793</td>\n",
              "      <td>-73.973</td>\n",
              "      <td>40.783</td>\n",
              "      <td>-73.973</td>\n",
              "      <td>1.188590</td>\n",
              "      <td>0.120833</td>\n",
              "      <td>6.077642</td>\n",
              "    </tr>\n",
              "  </tbody>\n",
              "</table>\n",
              "</div>"
            ],
            "text/plain": [
              "   vendor_id  passenger_count  ...  trip_duration_in_hour  log_trip_duration\n",
              "0          2                1  ...               0.126389           6.122493\n",
              "1          1                1  ...               0.184167           6.498282\n",
              "2          2                1  ...               0.590000           7.661527\n",
              "3          2                1  ...               0.119167           6.063785\n",
              "4          2                1  ...               0.120833           6.077642\n",
              "\n",
              "[5 rows x 12 columns]"
            ]
          },
          "metadata": {},
          "execution_count": 53
        }
      ]
    },
    {
      "cell_type": "code",
      "metadata": {
        "colab": {
          "base_uri": "https://localhost:8080/",
          "height": 747
        },
        "id": "sDlbEmk01gwX",
        "outputId": "c1ef24a8-eaff-4850-f818-a32fc2e2e36a"
      },
      "source": [
        "# Correlation map\n",
        "\n",
        "plt.figure(figsize = (20,10))\n",
        "correlation = data.corr()\n",
        "sns.heatmap(abs(correlation),annot = True,cmap = 'crest')"
      ],
      "execution_count": 54,
      "outputs": [
        {
          "output_type": "execute_result",
          "data": {
            "text/plain": [
              "<matplotlib.axes._subplots.AxesSubplot at 0x7ff1cb2ae490>"
            ]
          },
          "metadata": {},
          "execution_count": 54
        },
        {
          "output_type": "display_data",
          "data": {
            "image/png": "[encoded data removed]",
            "text/plain": [
              "<Figure size 1440x720 with 2 Axes>"
            ]
          },
          "metadata": {}
        }
      ]
    },
    {
      "cell_type": "code",
      "metadata": {
        "id": "z1HL_UqA3yEa"
      },
      "source": [
        "from sklearn.model_selection import train_test_split"
      ],
      "execution_count": 3,
      "outputs": []
    },
    {
      "cell_type": "code",
      "metadata": {
        "id": "gtRdRL3j3rCY"
      },
      "source": [
        "# defining the dependent and independent variables\n",
        "\n",
        "X = data.drop(['trip_duration_in_hour','log_trip_duration','dropoff_day'], axis=1)\n",
        "y = np.log10(data['trip_duration_in_hour'])"
      ],
      "execution_count": 55,
      "outputs": []
    },
    {
      "cell_type": "code",
      "metadata": {
        "id": "USyYxwvU5WdT"
      },
      "source": [
        "# train test split\n",
        "\n",
        "X_train,X_test,y_train,y_test = train_test_split(X,y,test_size=0.2,random_state=10)"
      ],
      "execution_count": 56,
      "outputs": []
    },
    {
      "cell_type": "code",
      "metadata": {
        "colab": {
          "base_uri": "https://localhost:8080/"
        },
        "id": "Q_L3MOHK5eeQ",
        "outputId": "6a81a419-d95a-47be-99e0-208c2b1a4587"
      },
      "source": [
        "print(X_train.shape,y_train.shape)\n",
        "print(X_test.shape,y_test.shape)"
      ],
      "execution_count": 57,
      "outputs": [
        {
          "output_type": "stream",
          "name": "stdout",
          "text": [
            "(970132, 9) (970132,)\n",
            "(242534, 9) (242534,)\n"
          ]
        }
      ]
    },
    {
      "cell_type": "code",
      "metadata": {
        "id": "aICAQsS65r8T"
      },
      "source": [
        "from sklearn.preprocessing import StandardScaler\n",
        "scaler = StandardScaler()\n",
        "X_train = scaler.fit_transform(X_train)\n",
        "X_test = scaler.transform(X_test)"
      ],
      "execution_count": 58,
      "outputs": []
    },
    {
      "cell_type": "code",
      "metadata": {
        "id": "9tlWk9s76E0a"
      },
      "source": [
        "from sklearn.linear_model import LinearRegression\n",
        "from sklearn.metrics import r2_score\n",
        "from sklearn.metrics import mean_squared_error"
      ],
      "execution_count": 59,
      "outputs": []
    },
    {
      "cell_type": "markdown",
      "metadata": {
        "id": "CvMpzDHIenK4"
      },
      "source": [
        "**LINEAR REGRESSION**"
      ]
    },
    {
      "cell_type": "code",
      "metadata": {
        "colab": {
          "base_uri": "https://localhost:8080/"
        },
        "id": "bLyXUkPu6XlC",
        "outputId": "877db9dd-9a91-4798-f470-2e2fa5d6fcea"
      },
      "source": [
        "lr = LinearRegression()\n",
        "lr.fit(X_train,y_train)"
      ],
      "execution_count": 60,
      "outputs": [
        {
          "output_type": "execute_result",
          "data": {
            "text/plain": [
              "LinearRegression(copy_X=True, fit_intercept=True, n_jobs=None, normalize=False)"
            ]
          },
          "metadata": {},
          "execution_count": 60
        }
      ]
    },
    {
      "cell_type": "code",
      "metadata": {
        "id": "z1gwCYgl66iy"
      },
      "source": [
        "y_train_pred = lr.predict(X_train)\n",
        "y_pred = lr.predict(X_test)"
      ],
      "execution_count": 61,
      "outputs": []
    },
    {
      "cell_type": "code",
      "metadata": {
        "colab": {
          "base_uri": "https://localhost:8080/"
        },
        "id": "nQl6P5xH6-DN",
        "outputId": "c635fdd7-8628-41f5-d279-3b77579cd8a9"
      },
      "source": [
        "r2_score(y_train,y_train_pred)"
      ],
      "execution_count": 62,
      "outputs": [
        {
          "output_type": "execute_result",
          "data": {
            "text/plain": [
              "0.4289456133230962"
            ]
          },
          "metadata": {},
          "execution_count": 62
        }
      ]
    },
    {
      "cell_type": "code",
      "metadata": {
        "colab": {
          "base_uri": "https://localhost:8080/"
        },
        "id": "Rm6yqbme7E6P",
        "outputId": "43f568ad-4e17-4788-c9f7-daa450cbdd44"
      },
      "source": [
        "r2_score(y_test,y_pred)"
      ],
      "execution_count": 63,
      "outputs": [
        {
          "output_type": "execute_result",
          "data": {
            "text/plain": [
              "0.4319946824149352"
            ]
          },
          "metadata": {},
          "execution_count": 63
        }
      ]
    },
    {
      "cell_type": "code",
      "metadata": {
        "colab": {
          "base_uri": "https://localhost:8080/"
        },
        "id": "H7LPPj9C7It3",
        "outputId": "6da937b4-5092-41e0-d758-da3901374726"
      },
      "source": [
        "mean_squared_error(y_test,y_pred)"
      ],
      "execution_count": 64,
      "outputs": [
        {
          "output_type": "execute_result",
          "data": {
            "text/plain": [
              "0.04587193778161526"
            ]
          },
          "metadata": {},
          "execution_count": 64
        }
      ]
    },
    {
      "cell_type": "markdown",
      "metadata": {
        "id": "ZV7XRyudeymt"
      },
      "source": [
        "**LASSO REGRESSION**"
      ]
    },
    {
      "cell_type": "code",
      "metadata": {
        "colab": {
          "base_uri": "https://localhost:8080/"
        },
        "id": "F_HB94YFTgFZ",
        "outputId": "23f3bec4-4626-426b-86df-1c03a7cf7159"
      },
      "source": [
        "from sklearn.linear_model import Lasso\n",
        "from sklearn.model_selection import GridSearchCV\n",
        "\n",
        "lasso = Lasso()\n",
        "parameters = {'alpha': [1e-15,1e-13,1e-10,1e-8,1e-5,1e-4,1e-3,1e-2,1e-1,1,5,10,20,30,40,45,50,55,60,100]}\n",
        "\n",
        "lasso_regressor = GridSearchCV(estimator=lasso,param_grid = parameters , scoring='r2',cv=5)\n",
        "lasso_regressor.fit(X_train,y_train)"
      ],
      "execution_count": 66,
      "outputs": [
        {
          "output_type": "execute_result",
          "data": {
            "text/plain": [
              "GridSearchCV(cv=5, error_score=nan,\n",
              "             estimator=Lasso(alpha=1.0, copy_X=True, fit_intercept=True,\n",
              "                             max_iter=1000, normalize=False, positive=False,\n",
              "                             precompute=False, random_state=None,\n",
              "                             selection='cyclic', tol=0.0001, warm_start=False),\n",
              "             iid='deprecated', n_jobs=None,\n",
              "             param_grid={'alpha': [1e-15, 1e-13, 1e-10, 1e-08, 1e-05, 0.0001,\n",
              "                                   0.001, 0.01, 0.1, 1, 5, 10, 20, 30, 40, 45,\n",
              "                                   50, 55, 60, 100]},\n",
              "             pre_dispatch='2*n_jobs', refit=True, return_train_score=False,\n",
              "             scoring='r2', verbose=0)"
            ]
          },
          "metadata": {},
          "execution_count": 66
        }
      ]
    },
    {
      "cell_type": "code",
      "metadata": {
        "colab": {
          "base_uri": "https://localhost:8080/"
        },
        "id": "iZjU-UvgToVk",
        "outputId": "fde2dee8-13bf-45b9-bf7f-bbf52d75b559"
      },
      "source": [
        "lasso_regressor.best_params_"
      ],
      "execution_count": 67,
      "outputs": [
        {
          "output_type": "execute_result",
          "data": {
            "text/plain": [
              "{'alpha': 0.0001}"
            ]
          },
          "metadata": {},
          "execution_count": 67
        }
      ]
    },
    {
      "cell_type": "code",
      "metadata": {
        "colab": {
          "base_uri": "https://localhost:8080/"
        },
        "id": "gdwK5J7GTqZa",
        "outputId": "95192e31-2e25-4413-ace3-029aa1738f91"
      },
      "source": [
        "lasso_regressor.best_score_"
      ],
      "execution_count": 68,
      "outputs": [
        {
          "output_type": "execute_result",
          "data": {
            "text/plain": [
              "0.42868407361975375"
            ]
          },
          "metadata": {},
          "execution_count": 68
        }
      ]
    },
    {
      "cell_type": "code",
      "metadata": {
        "colab": {
          "base_uri": "https://localhost:8080/"
        },
        "id": "OzZgQ97TTrBw",
        "outputId": "ccd13e78-c7e2-4416-d9a8-0a4df2dbd18b"
      },
      "source": [
        "lasso_regressor.score(X_train,y_train)"
      ],
      "execution_count": 69,
      "outputs": [
        {
          "output_type": "execute_result",
          "data": {
            "text/plain": [
              "0.42894397979291565"
            ]
          },
          "metadata": {},
          "execution_count": 69
        }
      ]
    },
    {
      "cell_type": "code",
      "metadata": {
        "id": "FjLb4CiNTtge"
      },
      "source": [
        "y_pred_lasso_train = lasso_regressor.predict(X_train)\n",
        "y_pred_lasso_test = lasso_regressor.predict(X_test)"
      ],
      "execution_count": 70,
      "outputs": []
    },
    {
      "cell_type": "code",
      "metadata": {
        "colab": {
          "base_uri": "https://localhost:8080/"
        },
        "id": "KoQR6ro9T0WL",
        "outputId": "a16d2ccc-03d7-401f-dc40-593c4239f964"
      },
      "source": [
        "lasso_train_mse  = mean_squared_error(y_train, y_pred_lasso_train)\n",
        "print(\"Train MSE for lasso regression  :\" , lasso_train_mse)\n",
        "\n",
        "lasso_train_rmse = np.sqrt(lasso_train_mse)\n",
        "print(\"Train RMSE for lasso regression :\" ,lasso_train_rmse)\n",
        "\n",
        "lasso_train_r2 = r2_score(y_train, y_pred_lasso_train)\n",
        "print(\"Train R2 score for lasso regression :\" ,lasso_train_r2)\n",
        "\n",
        "lasso_train_r2_= 1-(1-r2_score(y_train, y_pred_lasso_train))*((X_train.shape[0]-1)/(X_train.shape[0]-X_train.shape[1]-1))\n",
        "print(\"Train Adjusted R2 score for lasso regression : \", lasso_train_r2)"
      ],
      "execution_count": 71,
      "outputs": [
        {
          "output_type": "stream",
          "name": "stdout",
          "text": [
            "Train MSE for lasso regression  : 0.04636332521263933\n",
            "Train RMSE for lasso regression : 0.21532144624407326\n",
            "Train R2 score for lasso regression : 0.42894397979291565\n",
            "Train Adjusted R2 score for lasso regression :  0.42894397979291565\n"
          ]
        }
      ]
    },
    {
      "cell_type": "code",
      "metadata": {
        "colab": {
          "base_uri": "https://localhost:8080/"
        },
        "id": "SNBJcoDqT1D6",
        "outputId": "f8f80b8e-cc0e-4301-8467-123dcfc56cf7"
      },
      "source": [
        "lasso_test_mse  = mean_squared_error(y_test, y_pred_lasso_test)\n",
        "print(\"Test MSE for lasso regression :\" , lasso_test_mse)\n",
        "\n",
        "lasso_test_rmse = np.sqrt(lasso_test_mse)\n",
        "print(\"Test RMSE for lasso regression :\" ,lasso_test_rmse)\n",
        "\n",
        "lasso_test_r2 = r2_score(y_test, y_pred_lasso_test)\n",
        "print(\"Test R2 for lasso regression :\" ,lasso_test_r2)\n",
        "\n",
        "lasso_test_r2_= 1-(1-r2_score(y_test, y_pred_lasso_test))*((X_test.shape[0]-1)/(X_test.shape[0]-X_test.shape[1]-1))\n",
        "print(\"Test Adjusted R2 for lasso regression: \", lasso_test_r2_)"
      ],
      "execution_count": 72,
      "outputs": [
        {
          "output_type": "stream",
          "name": "stdout",
          "text": [
            "Test MSE for lasso regression : 0.04587349960778216\n",
            "Test RMSE for lasso regression : 0.2141809973078428\n",
            "Test R2 for lasso regression : 0.43197534323697917\n",
            "Test Adjusted R2 for lasso regression:  0.4319542639957047\n"
          ]
        }
      ]
    },
    {
      "cell_type": "markdown",
      "metadata": {
        "id": "XthmeVdCe_pG"
      },
      "source": [
        "**RIDGE REGRESSION**"
      ]
    },
    {
      "cell_type": "code",
      "metadata": {
        "id": "xONQ7T8CVwpN"
      },
      "source": [
        "from sklearn.linear_model import Ridge\n",
        "from sklearn.model_selection import GridSearchCV"
      ],
      "execution_count": 73,
      "outputs": []
    },
    {
      "cell_type": "code",
      "metadata": {
        "colab": {
          "base_uri": "https://localhost:8080/"
        },
        "id": "O04b4fLpVxkj",
        "outputId": "bb171d80-9bda-444d-d780-443bdbb22479"
      },
      "source": [
        "ridge = Ridge()\n",
        "params ={'alpha': [1e-15,1e-13,1e-10,1e-8,1e-5,1e-4,1e-3,1e-2,1e-1,1,5,10,20,30,40,45,50,55,60,100]}\n",
        "\n",
        "# applying gridsearch \n",
        "ridge_regressor = GridSearchCV(estimator=ridge , scoring='r2', param_grid=params, cv=3  , verbose=2)\n",
        "ridge_regressor.fit(X_train,y_train)"
      ],
      "execution_count": 74,
      "outputs": [
        {
          "output_type": "stream",
          "name": "stdout",
          "text": [
            "Fitting 3 folds for each of 20 candidates, totalling 60 fits\n",
            "[CV] alpha=1e-15 .....................................................\n",
            "[CV] ...................................... alpha=1e-15, total=   0.1s\n",
            "[CV] alpha=1e-15 .....................................................\n"
          ]
        },
        {
          "output_type": "stream",
          "name": "stderr",
          "text": [
            "[Parallel(n_jobs=1)]: Using backend SequentialBackend with 1 concurrent workers.\n",
            "[Parallel(n_jobs=1)]: Done   1 out of   1 | elapsed:    0.1s remaining:    0.0s\n"
          ]
        },
        {
          "output_type": "stream",
          "name": "stdout",
          "text": [
            "[CV] ...................................... alpha=1e-15, total=   0.2s\n",
            "[CV] alpha=1e-15 .....................................................\n",
            "[CV] ...................................... alpha=1e-15, total=   0.2s\n",
            "[CV] alpha=1e-13 .....................................................\n",
            "[CV] ...................................... alpha=1e-13, total=   0.2s\n",
            "[CV] alpha=1e-13 .....................................................\n",
            "[CV] ...................................... alpha=1e-13, total=   0.2s\n",
            "[CV] alpha=1e-13 .....................................................\n",
            "[CV] ...................................... alpha=1e-13, total=   0.2s\n",
            "[CV] alpha=1e-10 .....................................................\n",
            "[CV] ...................................... alpha=1e-10, total=   0.2s\n",
            "[CV] alpha=1e-10 .....................................................\n",
            "[CV] ...................................... alpha=1e-10, total=   0.2s\n",
            "[CV] alpha=1e-10 .....................................................\n",
            "[CV] ...................................... alpha=1e-10, total=   0.2s\n",
            "[CV] alpha=1e-08 .....................................................\n",
            "[CV] ...................................... alpha=1e-08, total=   0.2s\n",
            "[CV] alpha=1e-08 .....................................................\n",
            "[CV] ...................................... alpha=1e-08, total=   0.2s\n",
            "[CV] alpha=1e-08 .....................................................\n",
            "[CV] ...................................... alpha=1e-08, total=   0.2s\n",
            "[CV] alpha=1e-05 .....................................................\n",
            "[CV] ...................................... alpha=1e-05, total=   0.2s\n",
            "[CV] alpha=1e-05 .....................................................\n",
            "[CV] ...................................... alpha=1e-05, total=   0.2s\n",
            "[CV] alpha=1e-05 .....................................................\n",
            "[CV] ...................................... alpha=1e-05, total=   0.2s\n",
            "[CV] alpha=0.0001 ....................................................\n",
            "[CV] ..................................... alpha=0.0001, total=   0.2s\n",
            "[CV] alpha=0.0001 ....................................................\n",
            "[CV] ..................................... alpha=0.0001, total=   0.2s\n",
            "[CV] alpha=0.0001 ....................................................\n",
            "[CV] ..................................... alpha=0.0001, total=   0.2s\n",
            "[CV] alpha=0.001 .....................................................\n",
            "[CV] ...................................... alpha=0.001, total=   0.2s\n",
            "[CV] alpha=0.001 .....................................................\n",
            "[CV] ...................................... alpha=0.001, total=   0.2s\n",
            "[CV] alpha=0.001 .....................................................\n",
            "[CV] ...................................... alpha=0.001, total=   0.2s\n",
            "[CV] alpha=0.01 ......................................................\n",
            "[CV] ....................................... alpha=0.01, total=   0.2s\n",
            "[CV] alpha=0.01 ......................................................\n",
            "[CV] ....................................... alpha=0.01, total=   0.2s\n",
            "[CV] alpha=0.01 ......................................................\n",
            "[CV] ....................................... alpha=0.01, total=   0.2s\n",
            "[CV] alpha=0.1 .......................................................\n",
            "[CV] ........................................ alpha=0.1, total=   0.2s\n",
            "[CV] alpha=0.1 .......................................................\n",
            "[CV] ........................................ alpha=0.1, total=   0.2s\n",
            "[CV] alpha=0.1 .......................................................\n",
            "[CV] ........................................ alpha=0.1, total=   0.2s\n",
            "[CV] alpha=1 .........................................................\n",
            "[CV] .......................................... alpha=1, total=   0.2s\n",
            "[CV] alpha=1 .........................................................\n",
            "[CV] .......................................... alpha=1, total=   0.2s\n",
            "[CV] alpha=1 .........................................................\n",
            "[CV] .......................................... alpha=1, total=   0.2s\n",
            "[CV] alpha=5 .........................................................\n",
            "[CV] .......................................... alpha=5, total=   0.2s\n",
            "[CV] alpha=5 .........................................................\n",
            "[CV] .......................................... alpha=5, total=   0.2s\n",
            "[CV] alpha=5 .........................................................\n",
            "[CV] .......................................... alpha=5, total=   0.2s\n",
            "[CV] alpha=10 ........................................................\n",
            "[CV] ......................................... alpha=10, total=   0.2s\n",
            "[CV] alpha=10 ........................................................\n",
            "[CV] ......................................... alpha=10, total=   0.2s\n",
            "[CV] alpha=10 ........................................................\n",
            "[CV] ......................................... alpha=10, total=   0.2s\n",
            "[CV] alpha=20 ........................................................\n",
            "[CV] ......................................... alpha=20, total=   0.2s\n",
            "[CV] alpha=20 ........................................................\n",
            "[CV] ......................................... alpha=20, total=   0.2s\n",
            "[CV] alpha=20 ........................................................\n",
            "[CV] ......................................... alpha=20, total=   0.2s\n",
            "[CV] alpha=30 ........................................................\n",
            "[CV] ......................................... alpha=30, total=   0.2s\n",
            "[CV] alpha=30 ........................................................\n",
            "[CV] ......................................... alpha=30, total=   0.2s\n",
            "[CV] alpha=30 ........................................................\n",
            "[CV] ......................................... alpha=30, total=   0.2s\n",
            "[CV] alpha=40 ........................................................\n",
            "[CV] ......................................... alpha=40, total=   0.2s\n",
            "[CV] alpha=40 ........................................................\n",
            "[CV] ......................................... alpha=40, total=   0.2s\n",
            "[CV] alpha=40 ........................................................\n",
            "[CV] ......................................... alpha=40, total=   0.2s\n",
            "[CV] alpha=45 ........................................................\n",
            "[CV] ......................................... alpha=45, total=   0.2s\n",
            "[CV] alpha=45 ........................................................\n",
            "[CV] ......................................... alpha=45, total=   0.2s\n",
            "[CV] alpha=45 ........................................................\n",
            "[CV] ......................................... alpha=45, total=   0.2s\n",
            "[CV] alpha=50 ........................................................\n",
            "[CV] ......................................... alpha=50, total=   0.2s\n",
            "[CV] alpha=50 ........................................................\n",
            "[CV] ......................................... alpha=50, total=   0.2s\n",
            "[CV] alpha=50 ........................................................\n",
            "[CV] ......................................... alpha=50, total=   0.2s\n",
            "[CV] alpha=55 ........................................................\n",
            "[CV] ......................................... alpha=55, total=   0.2s\n",
            "[CV] alpha=55 ........................................................\n",
            "[CV] ......................................... alpha=55, total=   0.2s\n",
            "[CV] alpha=55 ........................................................\n",
            "[CV] ......................................... alpha=55, total=   0.2s\n",
            "[CV] alpha=60 ........................................................\n",
            "[CV] ......................................... alpha=60, total=   0.2s\n",
            "[CV] alpha=60 ........................................................\n",
            "[CV] ......................................... alpha=60, total=   0.2s\n",
            "[CV] alpha=60 ........................................................\n",
            "[CV] ......................................... alpha=60, total=   0.2s\n",
            "[CV] alpha=100 .......................................................\n",
            "[CV] ........................................ alpha=100, total=   0.2s\n",
            "[CV] alpha=100 .......................................................\n",
            "[CV] ........................................ alpha=100, total=   0.2s\n",
            "[CV] alpha=100 .......................................................\n",
            "[CV] ........................................ alpha=100, total=   0.2s\n"
          ]
        },
        {
          "output_type": "stream",
          "name": "stderr",
          "text": [
            "[Parallel(n_jobs=1)]: Done  60 out of  60 | elapsed:   10.6s finished\n"
          ]
        },
        {
          "output_type": "execute_result",
          "data": {
            "text/plain": [
              "GridSearchCV(cv=3, error_score=nan,\n",
              "             estimator=Ridge(alpha=1.0, copy_X=True, fit_intercept=True,\n",
              "                             max_iter=None, normalize=False, random_state=None,\n",
              "                             solver='auto', tol=0.001),\n",
              "             iid='deprecated', n_jobs=None,\n",
              "             param_grid={'alpha': [1e-15, 1e-13, 1e-10, 1e-08, 1e-05, 0.0001,\n",
              "                                   0.001, 0.01, 0.1, 1, 5, 10, 20, 30, 40, 45,\n",
              "                                   50, 55, 60, 100]},\n",
              "             pre_dispatch='2*n_jobs', refit=True, return_train_score=False,\n",
              "             scoring='r2', verbose=2)"
            ]
          },
          "metadata": {},
          "execution_count": 74
        }
      ]
    },
    {
      "cell_type": "code",
      "metadata": {
        "colab": {
          "base_uri": "https://localhost:8080/"
        },
        "id": "YDL7zM2rVwmA",
        "outputId": "764a8d76-70b9-4217-cd8e-c6bf04c5a596"
      },
      "source": [
        "print(\"the best alpha for ridge is :\",ridge_regressor.best_params_)\n",
        "print(\"the best r2 score for ridge is:\",ridge_regressor.best_score_)"
      ],
      "execution_count": 75,
      "outputs": [
        {
          "output_type": "stream",
          "name": "stdout",
          "text": [
            "the best alpha for ridge is : {'alpha': 100}\n",
            "the best r2 score for ridge is: 0.42865642417888944\n"
          ]
        }
      ]
    },
    {
      "cell_type": "code",
      "metadata": {
        "id": "uIy8QiisVwhe"
      },
      "source": [
        "y_pred_ridge_train = ridge_regressor.predict(X_train)\n",
        "y_pred_ridge_test = ridge_regressor.predict(X_test)"
      ],
      "execution_count": 76,
      "outputs": []
    },
    {
      "cell_type": "code",
      "metadata": {
        "colab": {
          "base_uri": "https://localhost:8080/"
        },
        "id": "CRxN5datVwaA",
        "outputId": "8a898821-bdb5-4ddd-f5e4-eb381ff201aa"
      },
      "source": [
        "ridge_train_mse = print(\" mse value for ridge train is:\",  mean_squared_error(y_train , y_pred_ridge_train))\n",
        "ridge_train_r2 = print(\"r2 score for the ridge train is: \", r2_score(y_train,y_pred_ridge_train))\n",
        "ridge_train_r2_= print(\"Train Adjusted R2 : \",1-(1-r2_score(y_train, y_pred_ridge_train))*((X_train.shape[0]-1)/(X_train.shape[0]-X_train.shape[1]-1)))"
      ],
      "execution_count": 77,
      "outputs": [
        {
          "output_type": "stream",
          "name": "stdout",
          "text": [
            " mse value for ridge train is: 0.04636319349165875\n",
            "r2 score for the ridge train is:  0.4289456021972319\n",
            "Train Adjusted R2 :  0.428940304420684\n"
          ]
        }
      ]
    },
    {
      "cell_type": "code",
      "metadata": {
        "colab": {
          "base_uri": "https://localhost:8080/"
        },
        "id": "AOpz9dshVwN4",
        "outputId": "67cea2d9-cd19-4175-9b2d-a731b2400dcc"
      },
      "source": [
        "ridge_test_mse = print(\"mse for ridge test is:\", mean_squared_error(y_test,y_pred_ridge_test))\n",
        "ridge_test_r2 = print(\"r2 score for the ridge train is: \", r2_score(y_test,y_pred_ridge_test))\n",
        "ridge_test_r2_adj=print(\"Test Adjusted R2 : \", 1-(1-r2_score(y_test, y_pred_ridge_test))*((X_test.shape[0]-1)/(X_test.shape[0]-X_test.shape[1]-1)))"
      ],
      "execution_count": 78,
      "outputs": [
        {
          "output_type": "stream",
          "name": "stdout",
          "text": [
            "mse for ridge test is: 0.04587207630964457\n",
            "r2 score for the ridge train is:  0.43199296710354684\n",
            "Test Adjusted R2 :  0.4319718885162892\n"
          ]
        }
      ]
    },
    {
      "cell_type": "markdown",
      "metadata": {
        "id": "8NOfbZMAfE06"
      },
      "source": [
        "**DECISION TREE**"
      ]
    },
    {
      "cell_type": "code",
      "metadata": {
        "id": "Lw_84fGl7LXm"
      },
      "source": [
        "from sklearn.tree import DecisionTreeRegressor"
      ],
      "execution_count": 79,
      "outputs": []
    },
    {
      "cell_type": "code",
      "metadata": {
        "id": "lkg4n9iD8RYe"
      },
      "source": [
        "max_depth = [3,4,7,10]\n",
        "min_samples_split = [12,23,29]\n",
        "min_samples_leaf = [8,16,22]\n",
        "param_dict_dt = {\n",
        "              'max_depth' : max_depth,\n",
        "              'min_samples_split' : min_samples_split,\n",
        "              'min_samples_leaf' : min_samples_leaf}"
      ],
      "execution_count": 80,
      "outputs": []
    },
    {
      "cell_type": "code",
      "metadata": {
        "colab": {
          "base_uri": "https://localhost:8080/"
        },
        "id": "LQBvYWvF8dwS",
        "outputId": "9d042bdb-3f59-453a-d5de-5d8a8e6d68d8"
      },
      "source": [
        "from sklearn.model_selection import GridSearchCV\n",
        "dt = DecisionTreeRegressor()\n",
        "\n",
        "#grid search\n",
        "dt_grid_search = GridSearchCV(estimator=dt, param_grid=param_dict_dt , cv=3,verbose=2,scoring='r2')\n",
        "\n",
        "dt_grid_search.fit(X_train , y_train)"
      ],
      "execution_count": 81,
      "outputs": [
        {
          "output_type": "stream",
          "name": "stdout",
          "text": [
            "Fitting 3 folds for each of 36 candidates, totalling 108 fits\n",
            "[CV] max_depth=3, min_samples_leaf=8, min_samples_split=12 ...........\n"
          ]
        },
        {
          "output_type": "stream",
          "name": "stderr",
          "text": [
            "[Parallel(n_jobs=1)]: Using backend SequentialBackend with 1 concurrent workers.\n"
          ]
        },
        {
          "output_type": "stream",
          "name": "stdout",
          "text": [
            "[CV]  max_depth=3, min_samples_leaf=8, min_samples_split=12, total=   1.6s\n",
            "[CV] max_depth=3, min_samples_leaf=8, min_samples_split=12 ...........\n"
          ]
        },
        {
          "output_type": "stream",
          "name": "stderr",
          "text": [
            "[Parallel(n_jobs=1)]: Done   1 out of   1 | elapsed:    1.6s remaining:    0.0s\n"
          ]
        },
        {
          "output_type": "stream",
          "name": "stdout",
          "text": [
            "[CV]  max_depth=3, min_samples_leaf=8, min_samples_split=12, total=   1.5s\n",
            "[CV] max_depth=3, min_samples_leaf=8, min_samples_split=12 ...........\n",
            "[CV]  max_depth=3, min_samples_leaf=8, min_samples_split=12, total=   1.6s\n",
            "[CV] max_depth=3, min_samples_leaf=8, min_samples_split=23 ...........\n",
            "[CV]  max_depth=3, min_samples_leaf=8, min_samples_split=23, total=   1.6s\n",
            "[CV] max_depth=3, min_samples_leaf=8, min_samples_split=23 ...........\n",
            "[CV]  max_depth=3, min_samples_leaf=8, min_samples_split=23, total=   1.6s\n",
            "[CV] max_depth=3, min_samples_leaf=8, min_samples_split=23 ...........\n",
            "[CV]  max_depth=3, min_samples_leaf=8, min_samples_split=23, total=   1.5s\n",
            "[CV] max_depth=3, min_samples_leaf=8, min_samples_split=29 ...........\n",
            "[CV]  max_depth=3, min_samples_leaf=8, min_samples_split=29, total=   1.5s\n",
            "[CV] max_depth=3, min_samples_leaf=8, min_samples_split=29 ...........\n",
            "[CV]  max_depth=3, min_samples_leaf=8, min_samples_split=29, total=   1.6s\n",
            "[CV] max_depth=3, min_samples_leaf=8, min_samples_split=29 ...........\n",
            "[CV]  max_depth=3, min_samples_leaf=8, min_samples_split=29, total=   1.6s\n",
            "[CV] max_depth=3, min_samples_leaf=16, min_samples_split=12 ..........\n",
            "[CV]  max_depth=3, min_samples_leaf=16, min_samples_split=12, total=   1.6s\n",
            "[CV] max_depth=3, min_samples_leaf=16, min_samples_split=12 ..........\n",
            "[CV]  max_depth=3, min_samples_leaf=16, min_samples_split=12, total=   1.6s\n",
            "[CV] max_depth=3, min_samples_leaf=16, min_samples_split=12 ..........\n",
            "[CV]  max_depth=3, min_samples_leaf=16, min_samples_split=12, total=   1.6s\n",
            "[CV] max_depth=3, min_samples_leaf=16, min_samples_split=23 ..........\n",
            "[CV]  max_depth=3, min_samples_leaf=16, min_samples_split=23, total=   1.5s\n",
            "[CV] max_depth=3, min_samples_leaf=16, min_samples_split=23 ..........\n",
            "[CV]  max_depth=3, min_samples_leaf=16, min_samples_split=23, total=   1.6s\n",
            "[CV] max_depth=3, min_samples_leaf=16, min_samples_split=23 ..........\n",
            "[CV]  max_depth=3, min_samples_leaf=16, min_samples_split=23, total=   1.6s\n",
            "[CV] max_depth=3, min_samples_leaf=16, min_samples_split=29 ..........\n",
            "[CV]  max_depth=3, min_samples_leaf=16, min_samples_split=29, total=   1.6s\n",
            "[CV] max_depth=3, min_samples_leaf=16, min_samples_split=29 ..........\n",
            "[CV]  max_depth=3, min_samples_leaf=16, min_samples_split=29, total=   1.6s\n",
            "[CV] max_depth=3, min_samples_leaf=16, min_samples_split=29 ..........\n",
            "[CV]  max_depth=3, min_samples_leaf=16, min_samples_split=29, total=   1.6s\n",
            "[CV] max_depth=3, min_samples_leaf=22, min_samples_split=12 ..........\n",
            "[CV]  max_depth=3, min_samples_leaf=22, min_samples_split=12, total=   1.6s\n",
            "[CV] max_depth=3, min_samples_leaf=22, min_samples_split=12 ..........\n",
            "[CV]  max_depth=3, min_samples_leaf=22, min_samples_split=12, total=   1.6s\n",
            "[CV] max_depth=3, min_samples_leaf=22, min_samples_split=12 ..........\n",
            "[CV]  max_depth=3, min_samples_leaf=22, min_samples_split=12, total=   1.5s\n",
            "[CV] max_depth=3, min_samples_leaf=22, min_samples_split=23 ..........\n",
            "[CV]  max_depth=3, min_samples_leaf=22, min_samples_split=23, total=   1.6s\n",
            "[CV] max_depth=3, min_samples_leaf=22, min_samples_split=23 ..........\n",
            "[CV]  max_depth=3, min_samples_leaf=22, min_samples_split=23, total=   1.5s\n",
            "[CV] max_depth=3, min_samples_leaf=22, min_samples_split=23 ..........\n",
            "[CV]  max_depth=3, min_samples_leaf=22, min_samples_split=23, total=   1.5s\n",
            "[CV] max_depth=3, min_samples_leaf=22, min_samples_split=29 ..........\n",
            "[CV]  max_depth=3, min_samples_leaf=22, min_samples_split=29, total=   1.6s\n",
            "[CV] max_depth=3, min_samples_leaf=22, min_samples_split=29 ..........\n",
            "[CV]  max_depth=3, min_samples_leaf=22, min_samples_split=29, total=   1.6s\n",
            "[CV] max_depth=3, min_samples_leaf=22, min_samples_split=29 ..........\n",
            "[CV]  max_depth=3, min_samples_leaf=22, min_samples_split=29, total=   1.6s\n",
            "[CV] max_depth=4, min_samples_leaf=8, min_samples_split=12 ...........\n",
            "[CV]  max_depth=4, min_samples_leaf=8, min_samples_split=12, total=   2.0s\n",
            "[CV] max_depth=4, min_samples_leaf=8, min_samples_split=12 ...........\n",
            "[CV]  max_depth=4, min_samples_leaf=8, min_samples_split=12, total=   2.0s\n",
            "[CV] max_depth=4, min_samples_leaf=8, min_samples_split=12 ...........\n",
            "[CV]  max_depth=4, min_samples_leaf=8, min_samples_split=12, total=   2.1s\n",
            "[CV] max_depth=4, min_samples_leaf=8, min_samples_split=23 ...........\n",
            "[CV]  max_depth=4, min_samples_leaf=8, min_samples_split=23, total=   2.0s\n",
            "[CV] max_depth=4, min_samples_leaf=8, min_samples_split=23 ...........\n",
            "[CV]  max_depth=4, min_samples_leaf=8, min_samples_split=23, total=   2.0s\n",
            "[CV] max_depth=4, min_samples_leaf=8, min_samples_split=23 ...........\n",
            "[CV]  max_depth=4, min_samples_leaf=8, min_samples_split=23, total=   2.1s\n",
            "[CV] max_depth=4, min_samples_leaf=8, min_samples_split=29 ...........\n",
            "[CV]  max_depth=4, min_samples_leaf=8, min_samples_split=29, total=   2.1s\n",
            "[CV] max_depth=4, min_samples_leaf=8, min_samples_split=29 ...........\n",
            "[CV]  max_depth=4, min_samples_leaf=8, min_samples_split=29, total=   2.1s\n",
            "[CV] max_depth=4, min_samples_leaf=8, min_samples_split=29 ...........\n",
            "[CV]  max_depth=4, min_samples_leaf=8, min_samples_split=29, total=   2.0s\n",
            "[CV] max_depth=4, min_samples_leaf=16, min_samples_split=12 ..........\n",
            "[CV]  max_depth=4, min_samples_leaf=16, min_samples_split=12, total=   2.0s\n",
            "[CV] max_depth=4, min_samples_leaf=16, min_samples_split=12 ..........\n",
            "[CV]  max_depth=4, min_samples_leaf=16, min_samples_split=12, total=   2.0s\n",
            "[CV] max_depth=4, min_samples_leaf=16, min_samples_split=12 ..........\n",
            "[CV]  max_depth=4, min_samples_leaf=16, min_samples_split=12, total=   2.0s\n",
            "[CV] max_depth=4, min_samples_leaf=16, min_samples_split=23 ..........\n",
            "[CV]  max_depth=4, min_samples_leaf=16, min_samples_split=23, total=   2.0s\n",
            "[CV] max_depth=4, min_samples_leaf=16, min_samples_split=23 ..........\n",
            "[CV]  max_depth=4, min_samples_leaf=16, min_samples_split=23, total=   2.0s\n",
            "[CV] max_depth=4, min_samples_leaf=16, min_samples_split=23 ..........\n",
            "[CV]  max_depth=4, min_samples_leaf=16, min_samples_split=23, total=   2.0s\n",
            "[CV] max_depth=4, min_samples_leaf=16, min_samples_split=29 ..........\n",
            "[CV]  max_depth=4, min_samples_leaf=16, min_samples_split=29, total=   2.1s\n",
            "[CV] max_depth=4, min_samples_leaf=16, min_samples_split=29 ..........\n",
            "[CV]  max_depth=4, min_samples_leaf=16, min_samples_split=29, total=   2.0s\n",
            "[CV] max_depth=4, min_samples_leaf=16, min_samples_split=29 ..........\n",
            "[CV]  max_depth=4, min_samples_leaf=16, min_samples_split=29, total=   2.0s\n",
            "[CV] max_depth=4, min_samples_leaf=22, min_samples_split=12 ..........\n",
            "[CV]  max_depth=4, min_samples_leaf=22, min_samples_split=12, total=   2.0s\n",
            "[CV] max_depth=4, min_samples_leaf=22, min_samples_split=12 ..........\n",
            "[CV]  max_depth=4, min_samples_leaf=22, min_samples_split=12, total=   2.1s\n",
            "[CV] max_depth=4, min_samples_leaf=22, min_samples_split=12 ..........\n",
            "[CV]  max_depth=4, min_samples_leaf=22, min_samples_split=12, total=   2.0s\n",
            "[CV] max_depth=4, min_samples_leaf=22, min_samples_split=23 ..........\n",
            "[CV]  max_depth=4, min_samples_leaf=22, min_samples_split=23, total=   2.0s\n",
            "[CV] max_depth=4, min_samples_leaf=22, min_samples_split=23 ..........\n",
            "[CV]  max_depth=4, min_samples_leaf=22, min_samples_split=23, total=   2.1s\n",
            "[CV] max_depth=4, min_samples_leaf=22, min_samples_split=23 ..........\n",
            "[CV]  max_depth=4, min_samples_leaf=22, min_samples_split=23, total=   2.0s\n",
            "[CV] max_depth=4, min_samples_leaf=22, min_samples_split=29 ..........\n",
            "[CV]  max_depth=4, min_samples_leaf=22, min_samples_split=29, total=   2.0s\n",
            "[CV] max_depth=4, min_samples_leaf=22, min_samples_split=29 ..........\n",
            "[CV]  max_depth=4, min_samples_leaf=22, min_samples_split=29, total=   2.0s\n",
            "[CV] max_depth=4, min_samples_leaf=22, min_samples_split=29 ..........\n",
            "[CV]  max_depth=4, min_samples_leaf=22, min_samples_split=29, total=   2.0s\n",
            "[CV] max_depth=7, min_samples_leaf=8, min_samples_split=12 ...........\n",
            "[CV]  max_depth=7, min_samples_leaf=8, min_samples_split=12, total=   3.3s\n",
            "[CV] max_depth=7, min_samples_leaf=8, min_samples_split=12 ...........\n",
            "[CV]  max_depth=7, min_samples_leaf=8, min_samples_split=12, total=   3.3s\n",
            "[CV] max_depth=7, min_samples_leaf=8, min_samples_split=12 ...........\n",
            "[CV]  max_depth=7, min_samples_leaf=8, min_samples_split=12, total=   3.3s\n",
            "[CV] max_depth=7, min_samples_leaf=8, min_samples_split=23 ...........\n",
            "[CV]  max_depth=7, min_samples_leaf=8, min_samples_split=23, total=   3.3s\n",
            "[CV] max_depth=7, min_samples_leaf=8, min_samples_split=23 ...........\n",
            "[CV]  max_depth=7, min_samples_leaf=8, min_samples_split=23, total=   3.3s\n",
            "[CV] max_depth=7, min_samples_leaf=8, min_samples_split=23 ...........\n",
            "[CV]  max_depth=7, min_samples_leaf=8, min_samples_split=23, total=   3.3s\n",
            "[CV] max_depth=7, min_samples_leaf=8, min_samples_split=29 ...........\n",
            "[CV]  max_depth=7, min_samples_leaf=8, min_samples_split=29, total=   3.3s\n",
            "[CV] max_depth=7, min_samples_leaf=8, min_samples_split=29 ...........\n",
            "[CV]  max_depth=7, min_samples_leaf=8, min_samples_split=29, total=   3.3s\n",
            "[CV] max_depth=7, min_samples_leaf=8, min_samples_split=29 ...........\n",
            "[CV]  max_depth=7, min_samples_leaf=8, min_samples_split=29, total=   3.3s\n",
            "[CV] max_depth=7, min_samples_leaf=16, min_samples_split=12 ..........\n",
            "[CV]  max_depth=7, min_samples_leaf=16, min_samples_split=12, total=   3.3s\n",
            "[CV] max_depth=7, min_samples_leaf=16, min_samples_split=12 ..........\n",
            "[CV]  max_depth=7, min_samples_leaf=16, min_samples_split=12, total=   3.3s\n",
            "[CV] max_depth=7, min_samples_leaf=16, min_samples_split=12 ..........\n",
            "[CV]  max_depth=7, min_samples_leaf=16, min_samples_split=12, total=   3.4s\n",
            "[CV] max_depth=7, min_samples_leaf=16, min_samples_split=23 ..........\n",
            "[CV]  max_depth=7, min_samples_leaf=16, min_samples_split=23, total=   3.4s\n",
            "[CV] max_depth=7, min_samples_leaf=16, min_samples_split=23 ..........\n",
            "[CV]  max_depth=7, min_samples_leaf=16, min_samples_split=23, total=   3.4s\n",
            "[CV] max_depth=7, min_samples_leaf=16, min_samples_split=23 ..........\n",
            "[CV]  max_depth=7, min_samples_leaf=16, min_samples_split=23, total=   3.4s\n",
            "[CV] max_depth=7, min_samples_leaf=16, min_samples_split=29 ..........\n",
            "[CV]  max_depth=7, min_samples_leaf=16, min_samples_split=29, total=   3.4s\n",
            "[CV] max_depth=7, min_samples_leaf=16, min_samples_split=29 ..........\n",
            "[CV]  max_depth=7, min_samples_leaf=16, min_samples_split=29, total=   3.4s\n",
            "[CV] max_depth=7, min_samples_leaf=16, min_samples_split=29 ..........\n",
            "[CV]  max_depth=7, min_samples_leaf=16, min_samples_split=29, total=   3.3s\n",
            "[CV] max_depth=7, min_samples_leaf=22, min_samples_split=12 ..........\n",
            "[CV]  max_depth=7, min_samples_leaf=22, min_samples_split=12, total=   3.4s\n",
            "[CV] max_depth=7, min_samples_leaf=22, min_samples_split=12 ..........\n",
            "[CV]  max_depth=7, min_samples_leaf=22, min_samples_split=12, total=   3.4s\n",
            "[CV] max_depth=7, min_samples_leaf=22, min_samples_split=12 ..........\n",
            "[CV]  max_depth=7, min_samples_leaf=22, min_samples_split=12, total=   3.4s\n",
            "[CV] max_depth=7, min_samples_leaf=22, min_samples_split=23 ..........\n",
            "[CV]  max_depth=7, min_samples_leaf=22, min_samples_split=23, total=   3.3s\n",
            "[CV] max_depth=7, min_samples_leaf=22, min_samples_split=23 ..........\n",
            "[CV]  max_depth=7, min_samples_leaf=22, min_samples_split=23, total=   3.3s\n",
            "[CV] max_depth=7, min_samples_leaf=22, min_samples_split=23 ..........\n",
            "[CV]  max_depth=7, min_samples_leaf=22, min_samples_split=23, total=   3.4s\n",
            "[CV] max_depth=7, min_samples_leaf=22, min_samples_split=29 ..........\n",
            "[CV]  max_depth=7, min_samples_leaf=22, min_samples_split=29, total=   3.3s\n",
            "[CV] max_depth=7, min_samples_leaf=22, min_samples_split=29 ..........\n",
            "[CV]  max_depth=7, min_samples_leaf=22, min_samples_split=29, total=   3.3s\n",
            "[CV] max_depth=7, min_samples_leaf=22, min_samples_split=29 ..........\n",
            "[CV]  max_depth=7, min_samples_leaf=22, min_samples_split=29, total=   3.3s\n",
            "[CV] max_depth=10, min_samples_leaf=8, min_samples_split=12 ..........\n",
            "[CV]  max_depth=10, min_samples_leaf=8, min_samples_split=12, total=   4.4s\n",
            "[CV] max_depth=10, min_samples_leaf=8, min_samples_split=12 ..........\n",
            "[CV]  max_depth=10, min_samples_leaf=8, min_samples_split=12, total=   4.4s\n",
            "[CV] max_depth=10, min_samples_leaf=8, min_samples_split=12 ..........\n",
            "[CV]  max_depth=10, min_samples_leaf=8, min_samples_split=12, total=   4.4s\n",
            "[CV] max_depth=10, min_samples_leaf=8, min_samples_split=23 ..........\n",
            "[CV]  max_depth=10, min_samples_leaf=8, min_samples_split=23, total=   4.4s\n",
            "[CV] max_depth=10, min_samples_leaf=8, min_samples_split=23 ..........\n",
            "[CV]  max_depth=10, min_samples_leaf=8, min_samples_split=23, total=   4.4s\n",
            "[CV] max_depth=10, min_samples_leaf=8, min_samples_split=23 ..........\n",
            "[CV]  max_depth=10, min_samples_leaf=8, min_samples_split=23, total=   4.4s\n",
            "[CV] max_depth=10, min_samples_leaf=8, min_samples_split=29 ..........\n",
            "[CV]  max_depth=10, min_samples_leaf=8, min_samples_split=29, total=   4.4s\n",
            "[CV] max_depth=10, min_samples_leaf=8, min_samples_split=29 ..........\n",
            "[CV]  max_depth=10, min_samples_leaf=8, min_samples_split=29, total=   4.4s\n",
            "[CV] max_depth=10, min_samples_leaf=8, min_samples_split=29 ..........\n",
            "[CV]  max_depth=10, min_samples_leaf=8, min_samples_split=29, total=   4.4s\n",
            "[CV] max_depth=10, min_samples_leaf=16, min_samples_split=12 .........\n",
            "[CV]  max_depth=10, min_samples_leaf=16, min_samples_split=12, total=   4.4s\n",
            "[CV] max_depth=10, min_samples_leaf=16, min_samples_split=12 .........\n",
            "[CV]  max_depth=10, min_samples_leaf=16, min_samples_split=12, total=   4.4s\n",
            "[CV] max_depth=10, min_samples_leaf=16, min_samples_split=12 .........\n",
            "[CV]  max_depth=10, min_samples_leaf=16, min_samples_split=12, total=   4.4s\n",
            "[CV] max_depth=10, min_samples_leaf=16, min_samples_split=23 .........\n",
            "[CV]  max_depth=10, min_samples_leaf=16, min_samples_split=23, total=   4.4s\n",
            "[CV] max_depth=10, min_samples_leaf=16, min_samples_split=23 .........\n",
            "[CV]  max_depth=10, min_samples_leaf=16, min_samples_split=23, total=   4.4s\n",
            "[CV] max_depth=10, min_samples_leaf=16, min_samples_split=23 .........\n",
            "[CV]  max_depth=10, min_samples_leaf=16, min_samples_split=23, total=   4.4s\n",
            "[CV] max_depth=10, min_samples_leaf=16, min_samples_split=29 .........\n",
            "[CV]  max_depth=10, min_samples_leaf=16, min_samples_split=29, total=   4.4s\n",
            "[CV] max_depth=10, min_samples_leaf=16, min_samples_split=29 .........\n",
            "[CV]  max_depth=10, min_samples_leaf=16, min_samples_split=29, total=   4.5s\n",
            "[CV] max_depth=10, min_samples_leaf=16, min_samples_split=29 .........\n",
            "[CV]  max_depth=10, min_samples_leaf=16, min_samples_split=29, total=   4.5s\n",
            "[CV] max_depth=10, min_samples_leaf=22, min_samples_split=12 .........\n",
            "[CV]  max_depth=10, min_samples_leaf=22, min_samples_split=12, total=   4.5s\n",
            "[CV] max_depth=10, min_samples_leaf=22, min_samples_split=12 .........\n",
            "[CV]  max_depth=10, min_samples_leaf=22, min_samples_split=12, total=   4.4s\n",
            "[CV] max_depth=10, min_samples_leaf=22, min_samples_split=12 .........\n",
            "[CV]  max_depth=10, min_samples_leaf=22, min_samples_split=12, total=   4.4s\n",
            "[CV] max_depth=10, min_samples_leaf=22, min_samples_split=23 .........\n",
            "[CV]  max_depth=10, min_samples_leaf=22, min_samples_split=23, total=   4.4s\n",
            "[CV] max_depth=10, min_samples_leaf=22, min_samples_split=23 .........\n",
            "[CV]  max_depth=10, min_samples_leaf=22, min_samples_split=23, total=   4.4s\n",
            "[CV] max_depth=10, min_samples_leaf=22, min_samples_split=23 .........\n",
            "[CV]  max_depth=10, min_samples_leaf=22, min_samples_split=23, total=   4.4s\n",
            "[CV] max_depth=10, min_samples_leaf=22, min_samples_split=29 .........\n",
            "[CV]  max_depth=10, min_samples_leaf=22, min_samples_split=29, total=   4.5s\n",
            "[CV] max_depth=10, min_samples_leaf=22, min_samples_split=29 .........\n",
            "[CV]  max_depth=10, min_samples_leaf=22, min_samples_split=29, total=   4.4s\n",
            "[CV] max_depth=10, min_samples_leaf=22, min_samples_split=29 .........\n",
            "[CV]  max_depth=10, min_samples_leaf=22, min_samples_split=29, total=   4.4s\n"
          ]
        },
        {
          "output_type": "stream",
          "name": "stderr",
          "text": [
            "[Parallel(n_jobs=1)]: Done 108 out of 108 | elapsed:  5.1min finished\n"
          ]
        },
        {
          "output_type": "execute_result",
          "data": {
            "text/plain": [
              "GridSearchCV(cv=3, error_score=nan,\n",
              "             estimator=DecisionTreeRegressor(ccp_alpha=0.0, criterion='mse',\n",
              "                                             max_depth=None, max_features=None,\n",
              "                                             max_leaf_nodes=None,\n",
              "                                             min_impurity_decrease=0.0,\n",
              "                                             min_impurity_split=None,\n",
              "                                             min_samples_leaf=1,\n",
              "                                             min_samples_split=2,\n",
              "                                             min_weight_fraction_leaf=0.0,\n",
              "                                             presort='deprecated',\n",
              "                                             random_state=None,\n",
              "                                             splitter='best'),\n",
              "             iid='deprecated', n_jobs=None,\n",
              "             param_grid={'max_depth': [3, 4, 7, 10],\n",
              "                         'min_samples_leaf': [8, 16, 22],\n",
              "                         'min_samples_split': [12, 23, 29]},\n",
              "             pre_dispatch='2*n_jobs', refit=True, return_train_score=False,\n",
              "             scoring='r2', verbose=2)"
            ]
          },
          "metadata": {},
          "execution_count": 81
        }
      ]
    },
    {
      "cell_type": "code",
      "metadata": {
        "colab": {
          "base_uri": "https://localhost:8080/"
        },
        "id": "VXoFp5v-81sl",
        "outputId": "089678d6-1ae8-47ac-8342-9186d2b8133c"
      },
      "source": [
        "dt_grid_search.best_score_"
      ],
      "execution_count": 82,
      "outputs": [
        {
          "output_type": "execute_result",
          "data": {
            "text/plain": [
              "0.6360639922001375"
            ]
          },
          "metadata": {},
          "execution_count": 82
        }
      ]
    },
    {
      "cell_type": "code",
      "metadata": {
        "colab": {
          "base_uri": "https://localhost:8080/"
        },
        "id": "QCOkc8KYS4bX",
        "outputId": "c4199612-6b72-4c88-bedf-3b9f45406c13"
      },
      "source": [
        "dt_grid_search.best_params_"
      ],
      "execution_count": 83,
      "outputs": [
        {
          "output_type": "execute_result",
          "data": {
            "text/plain": [
              "{'max_depth': 10, 'min_samples_leaf': 22, 'min_samples_split': 12}"
            ]
          },
          "metadata": {},
          "execution_count": 83
        }
      ]
    },
    {
      "cell_type": "code",
      "metadata": {
        "colab": {
          "base_uri": "https://localhost:8080/"
        },
        "id": "EFw8sZorS52C",
        "outputId": "7434d6c9-e5a8-4a32-c3e4-faba6a52acdf"
      },
      "source": [
        "dt_grid_search.best_estimator_"
      ],
      "execution_count": 84,
      "outputs": [
        {
          "output_type": "execute_result",
          "data": {
            "text/plain": [
              "DecisionTreeRegressor(ccp_alpha=0.0, criterion='mse', max_depth=10,\n",
              "                      max_features=None, max_leaf_nodes=None,\n",
              "                      min_impurity_decrease=0.0, min_impurity_split=None,\n",
              "                      min_samples_leaf=22, min_samples_split=12,\n",
              "                      min_weight_fraction_leaf=0.0, presort='deprecated',\n",
              "                      random_state=None, splitter='best')"
            ]
          },
          "metadata": {},
          "execution_count": 84
        }
      ]
    },
    {
      "cell_type": "code",
      "metadata": {
        "id": "9FGO6OmaS_DW"
      },
      "source": [
        "dt_train_pred = dt_grid_search.predict(X_train)\n",
        "dt_test_pred = dt_grid_search.predict(X_test)"
      ],
      "execution_count": 85,
      "outputs": []
    },
    {
      "cell_type": "code",
      "metadata": {
        "colab": {
          "base_uri": "https://localhost:8080/"
        },
        "id": "DcXGuXmcTC5r",
        "outputId": "e3a2b287-131c-4392-ddb4-0192cbd04254"
      },
      "source": [
        "dt_train_mse= print(\"mse for the decision tree on training is:\", mean_squared_error(y_train , dt_train_pred))\n",
        "dt_train_r2 = print(\"Train R2 :\",r2_score(y_train, dt_train_pred))\n",
        "dt_train_r2_adj = print(\"Train Adjusted R2 : \",1-(1-r2_score(y_train, dt_train_pred))*((X_train.shape[0]-1)/(X_train.shape[0]-X_train.shape[1]-1)))"
      ],
      "execution_count": 86,
      "outputs": [
        {
          "output_type": "stream",
          "name": "stdout",
          "text": [
            "mse for the decision tree on training is: 0.029121999143723737\n",
            "Train R2 : 0.6413050001220505\n",
            "Train Adjusted R2 :  0.6413016724426464\n"
          ]
        }
      ]
    },
    {
      "cell_type": "code",
      "metadata": {
        "colab": {
          "base_uri": "https://localhost:8080/"
        },
        "id": "xU9posRsTHYH",
        "outputId": "67074724-36e6-4041-e43b-e5796535727b"
      },
      "source": [
        "dt_test_mse = print(\"mse for the test is :\" , mean_squared_error(y_test , dt_test_pred))\n",
        "dt_test_r2 = print(\"r2 score for the test is:\",r2_score(y_test,dt_test_pred))\n",
        "dt_test_r2_adj = print(\"Train Adjusted R2 : \",1-(1-r2_score(y_test, dt_test_pred))*((X_train.shape[0]-1)/(X_train.shape[0]-X_train.shape[1]-1)))\n"
      ],
      "execution_count": 87,
      "outputs": [
        {
          "output_type": "stream",
          "name": "stdout",
          "text": [
            "mse for the test is : 0.02929686985206241\n",
            "r2 score for the test is: 0.6372340330641454\n",
            "Train Adjusted R2 :  0.637230667617632\n"
          ]
        }
      ]
    },
    {
      "cell_type": "code",
      "metadata": {
        "id": "XfZnRS4oTLMH"
      },
      "source": [
        ""
      ],
      "execution_count": null,
      "outputs": []
    }
  ]
}