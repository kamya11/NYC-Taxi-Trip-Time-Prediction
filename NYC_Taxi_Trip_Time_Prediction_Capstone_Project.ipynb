{
  "nbformat": 4,
  "nbformat_minor": 0,
  "metadata": {
    "kernelspec": {
      "display_name": "Python 3",
      "language": "python",
      "name": "python3"
    },
    "language_info": {
      "codemirror_mode": {
        "name": "ipython",
        "version": 3
      },
      "file_extension": ".py",
      "mimetype": "text/x-python",
      "name": "python",
      "nbconvert_exporter": "python",
      "pygments_lexer": "ipython3",
      "version": "3.6.6"
    },
    "colab": {
      "name": "NYC Taxi Trip Time Prediction - Capstone Project.ipynb",
      "provenance": [],
      "collapsed_sections": [],
      "include_colab_link": true
    }
  },
  "cells": [
    {
      "cell_type": "markdown",
      "metadata": {
        "id": "view-in-github",
        "colab_type": "text"
      },
      "source": [
        "<a href=\"https://colab.research.google.com/github/kamya11/NYC-Taxi-Trip-Time-Prediction/blob/main/NYC_Taxi_Trip_Time_Prediction_Capstone_Project.ipynb\" target=\"_parent\"><img src=\"https://colab.research.google.com/assets/colab-badge.svg\" alt=\"Open In Colab\"/></a>"
      ]
    },
    {
      "cell_type": "markdown",
      "metadata": {
        "id": "tOGC-qoyhJeX"
      },
      "source": [
        "# <b><u> Project Title : Taxi trip time Prediction : Predicting total ride duration of taxi trips in New York City</u></b>"
      ]
    },
    {
      "cell_type": "markdown",
      "metadata": {
        "id": "Y06xIdG26kRF"
      },
      "source": [
        "## <b> Problem Description </b>\n",
        "\n",
        "### Your task is to build a model that predicts the total ride duration of taxi trips in New York City. Your primary dataset is one released by the NYC Taxi and Limousine Commission, which includes pickup time, geo-coordinates, number of passengers, and several other variables."
      ]
    },
    {
      "cell_type": "markdown",
      "metadata": {
        "id": "WWeU1f9bwqQq"
      },
      "source": [
        "## <b> Data Description </b>\n",
        "\n",
        "### The dataset is based on the 2016 NYC Yellow Cab trip record data made available in Big Query on Google Cloud Platform. The data was originally published by the NYC Taxi and Limousine Commission (TLC). The data was sampled and cleaned for the purposes of this project. Based on individual trip attributes, you should predict the duration of each trip in the test set.\n",
        "\n",
        "### <b>NYC Taxi Data.csv</b> - the training set (contains 1458644 trip records)\n",
        "\n",
        "\n",
        "### Data fields\n",
        "* #### id - a unique identifier for each trip\n",
        "* #### vendor_id - a code indicating the provider associated with the trip record\n",
        "* #### pickup_datetime - date and time when the meter was engaged\n",
        "* #### dropoff_datetime - date and time when the meter was disengaged\n",
        "* #### passenger_count - the number of passengers in the vehicle (driver entered value)\n",
        "* #### pickup_longitude - the longitude where the meter was engaged\n",
        "* #### pickup_latitude - the latitude where the meter was engaged\n",
        "* #### dropoff_longitude - the longitude where the meter was disengaged\n",
        "* #### dropoff_latitude - the latitude where the meter was disengaged\n",
        "* #### store_and_fwd_flag - This flag indicates whether the trip record was held in vehicle memory before sending to the vendor because the vehicle did not have a connection to the server - Y=store and forward; N=not a store and forward trip\n",
        "* #### trip_duration - duration of the trip in seconds"
      ]
    },
    {
      "cell_type": "code",
      "metadata": {
        "id": "__WNHgI-9bwI"
      },
      "source": [
        "import pandas as pd\n",
        "import matplotlib.pyplot as plt\n",
        "import seaborn as sns\n",
        "import numpy as np\n",
        "import warnings\n",
        "from datetime import datetime\n"
      ],
      "execution_count": 22,
      "outputs": []
    },
    {
      "cell_type": "code",
      "metadata": {
        "id": "dByMsuzT8Tnw",
        "colab": {
          "base_uri": "https://localhost:8080/"
        },
        "outputId": "124c815d-8966-485b-bf27-ab5df5b4083c"
      },
      "source": [
        "from google.colab import drive\n",
        "drive.mount('/content/drive',force_remount=True)"
      ],
      "execution_count": 1,
      "outputs": [
        {
          "output_type": "stream",
          "name": "stdout",
          "text": [
            "Mounted at /content/drive\n"
          ]
        }
      ]
    },
    {
      "cell_type": "code",
      "metadata": {
        "colab": {
          "base_uri": "https://localhost:8080/",
          "height": 309
        },
        "id": "UUhDdAdD9as3",
        "outputId": "cd7ab820-951a-4c57-fc13-61b1f11b6e47"
      },
      "source": [
        "data= pd.read_csv(\"/content/drive/MyDrive/NYC Taxi Data.csv\")\n",
        "data.head()"
      ],
      "execution_count": 49,
      "outputs": [
        {
          "output_type": "execute_result",
          "data": {
            "text/html": [
              "<div>\n",
              "<style scoped>\n",
              "    .dataframe tbody tr th:only-of-type {\n",
              "        vertical-align: middle;\n",
              "    }\n",
              "\n",
              "    .dataframe tbody tr th {\n",
              "        vertical-align: top;\n",
              "    }\n",
              "\n",
              "    .dataframe thead th {\n",
              "        text-align: right;\n",
              "    }\n",
              "</style>\n",
              "<table border=\"1\" class=\"dataframe\">\n",
              "  <thead>\n",
              "    <tr style=\"text-align: right;\">\n",
              "      <th></th>\n",
              "      <th>id</th>\n",
              "      <th>vendor_id</th>\n",
              "      <th>pickup_datetime</th>\n",
              "      <th>dropoff_datetime</th>\n",
              "      <th>passenger_count</th>\n",
              "      <th>pickup_longitude</th>\n",
              "      <th>pickup_latitude</th>\n",
              "      <th>dropoff_longitude</th>\n",
              "      <th>dropoff_latitude</th>\n",
              "      <th>store_and_fwd_flag</th>\n",
              "      <th>trip_duration</th>\n",
              "    </tr>\n",
              "  </thead>\n",
              "  <tbody>\n",
              "    <tr>\n",
              "      <th>0</th>\n",
              "      <td>id2875421</td>\n",
              "      <td>2</td>\n",
              "      <td>2016-03-14 17:24:55</td>\n",
              "      <td>2016-03-14 17:32:30</td>\n",
              "      <td>1</td>\n",
              "      <td>-73.982155</td>\n",
              "      <td>40.767937</td>\n",
              "      <td>-73.964630</td>\n",
              "      <td>40.765602</td>\n",
              "      <td>N</td>\n",
              "      <td>455</td>\n",
              "    </tr>\n",
              "    <tr>\n",
              "      <th>1</th>\n",
              "      <td>id2377394</td>\n",
              "      <td>1</td>\n",
              "      <td>2016-06-12 00:43:35</td>\n",
              "      <td>2016-06-12 00:54:38</td>\n",
              "      <td>1</td>\n",
              "      <td>-73.980415</td>\n",
              "      <td>40.738564</td>\n",
              "      <td>-73.999481</td>\n",
              "      <td>40.731152</td>\n",
              "      <td>N</td>\n",
              "      <td>663</td>\n",
              "    </tr>\n",
              "    <tr>\n",
              "      <th>2</th>\n",
              "      <td>id3858529</td>\n",
              "      <td>2</td>\n",
              "      <td>2016-01-19 11:35:24</td>\n",
              "      <td>2016-01-19 12:10:48</td>\n",
              "      <td>1</td>\n",
              "      <td>-73.979027</td>\n",
              "      <td>40.763939</td>\n",
              "      <td>-74.005333</td>\n",
              "      <td>40.710087</td>\n",
              "      <td>N</td>\n",
              "      <td>2124</td>\n",
              "    </tr>\n",
              "    <tr>\n",
              "      <th>3</th>\n",
              "      <td>id3504673</td>\n",
              "      <td>2</td>\n",
              "      <td>2016-04-06 19:32:31</td>\n",
              "      <td>2016-04-06 19:39:40</td>\n",
              "      <td>1</td>\n",
              "      <td>-74.010040</td>\n",
              "      <td>40.719971</td>\n",
              "      <td>-74.012268</td>\n",
              "      <td>40.706718</td>\n",
              "      <td>N</td>\n",
              "      <td>429</td>\n",
              "    </tr>\n",
              "    <tr>\n",
              "      <th>4</th>\n",
              "      <td>id2181028</td>\n",
              "      <td>2</td>\n",
              "      <td>2016-03-26 13:30:55</td>\n",
              "      <td>2016-03-26 13:38:10</td>\n",
              "      <td>1</td>\n",
              "      <td>-73.973053</td>\n",
              "      <td>40.793209</td>\n",
              "      <td>-73.972923</td>\n",
              "      <td>40.782520</td>\n",
              "      <td>N</td>\n",
              "      <td>435</td>\n",
              "    </tr>\n",
              "  </tbody>\n",
              "</table>\n",
              "</div>"
            ],
            "text/plain": [
              "          id  vendor_id  ... store_and_fwd_flag trip_duration\n",
              "0  id2875421          2  ...                  N           455\n",
              "1  id2377394          1  ...                  N           663\n",
              "2  id3858529          2  ...                  N          2124\n",
              "3  id3504673          2  ...                  N           429\n",
              "4  id2181028          2  ...                  N           435\n",
              "\n",
              "[5 rows x 11 columns]"
            ]
          },
          "metadata": {},
          "execution_count": 49
        }
      ]
    },
    {
      "cell_type": "code",
      "metadata": {
        "colab": {
          "base_uri": "https://localhost:8080/"
        },
        "id": "Ar5DGaPU9jIy",
        "outputId": "38cc0f79-91bc-4866-a116-2a557ee1fba1"
      },
      "source": [
        "data.shape"
      ],
      "execution_count": 50,
      "outputs": [
        {
          "output_type": "execute_result",
          "data": {
            "text/plain": [
              "(1458644, 11)"
            ]
          },
          "metadata": {},
          "execution_count": 50
        }
      ]
    },
    {
      "cell_type": "code",
      "metadata": {
        "colab": {
          "base_uri": "https://localhost:8080/"
        },
        "id": "LDCvnMP2AUYU",
        "outputId": "22b586b6-6907-4c1b-abc9-97bc108434d3"
      },
      "source": [
        "data.dtypes"
      ],
      "execution_count": 51,
      "outputs": [
        {
          "output_type": "execute_result",
          "data": {
            "text/plain": [
              "id                     object\n",
              "vendor_id               int64\n",
              "pickup_datetime        object\n",
              "dropoff_datetime       object\n",
              "passenger_count         int64\n",
              "pickup_longitude      float64\n",
              "pickup_latitude       float64\n",
              "dropoff_longitude     float64\n",
              "dropoff_latitude      float64\n",
              "store_and_fwd_flag     object\n",
              "trip_duration           int64\n",
              "dtype: object"
            ]
          },
          "metadata": {},
          "execution_count": 51
        }
      ]
    },
    {
      "cell_type": "code",
      "metadata": {
        "colab": {
          "base_uri": "https://localhost:8080/"
        },
        "id": "OJYTVubW-Con",
        "outputId": "e9b7d8ce-99f1-403b-9add-d2153f1eb00b"
      },
      "source": [
        "data.columns"
      ],
      "execution_count": 52,
      "outputs": [
        {
          "output_type": "execute_result",
          "data": {
            "text/plain": [
              "Index(['id', 'vendor_id', 'pickup_datetime', 'dropoff_datetime',\n",
              "       'passenger_count', 'pickup_longitude', 'pickup_latitude',\n",
              "       'dropoff_longitude', 'dropoff_latitude', 'store_and_fwd_flag',\n",
              "       'trip_duration'],\n",
              "      dtype='object')"
            ]
          },
          "metadata": {},
          "execution_count": 52
        }
      ]
    },
    {
      "cell_type": "code",
      "metadata": {
        "colab": {
          "base_uri": "https://localhost:8080/"
        },
        "id": "gQzBkTSD-FTn",
        "outputId": "be1377ab-198f-4cd1-c03c-6978a067cec9"
      },
      "source": [
        "data.isnull().sum()"
      ],
      "execution_count": 53,
      "outputs": [
        {
          "output_type": "execute_result",
          "data": {
            "text/plain": [
              "id                    0\n",
              "vendor_id             0\n",
              "pickup_datetime       0\n",
              "dropoff_datetime      0\n",
              "passenger_count       0\n",
              "pickup_longitude      0\n",
              "pickup_latitude       0\n",
              "dropoff_longitude     0\n",
              "dropoff_latitude      0\n",
              "store_and_fwd_flag    0\n",
              "trip_duration         0\n",
              "dtype: int64"
            ]
          },
          "metadata": {},
          "execution_count": 53
        }
      ]
    },
    {
      "cell_type": "code",
      "metadata": {
        "colab": {
          "base_uri": "https://localhost:8080/",
          "height": 297
        },
        "id": "TnLGtIUVAM2c",
        "outputId": "51b286e8-fff8-4ffa-9e89-264508f19e83"
      },
      "source": [
        "data.describe()"
      ],
      "execution_count": 54,
      "outputs": [
        {
          "output_type": "execute_result",
          "data": {
            "text/html": [
              "<div>\n",
              "<style scoped>\n",
              "    .dataframe tbody tr th:only-of-type {\n",
              "        vertical-align: middle;\n",
              "    }\n",
              "\n",
              "    .dataframe tbody tr th {\n",
              "        vertical-align: top;\n",
              "    }\n",
              "\n",
              "    .dataframe thead th {\n",
              "        text-align: right;\n",
              "    }\n",
              "</style>\n",
              "<table border=\"1\" class=\"dataframe\">\n",
              "  <thead>\n",
              "    <tr style=\"text-align: right;\">\n",
              "      <th></th>\n",
              "      <th>vendor_id</th>\n",
              "      <th>passenger_count</th>\n",
              "      <th>pickup_longitude</th>\n",
              "      <th>pickup_latitude</th>\n",
              "      <th>dropoff_longitude</th>\n",
              "      <th>dropoff_latitude</th>\n",
              "      <th>trip_duration</th>\n",
              "    </tr>\n",
              "  </thead>\n",
              "  <tbody>\n",
              "    <tr>\n",
              "      <th>count</th>\n",
              "      <td>1.458644e+06</td>\n",
              "      <td>1.458644e+06</td>\n",
              "      <td>1.458644e+06</td>\n",
              "      <td>1.458644e+06</td>\n",
              "      <td>1.458644e+06</td>\n",
              "      <td>1.458644e+06</td>\n",
              "      <td>1.458644e+06</td>\n",
              "    </tr>\n",
              "    <tr>\n",
              "      <th>mean</th>\n",
              "      <td>1.534950e+00</td>\n",
              "      <td>1.664530e+00</td>\n",
              "      <td>-7.397349e+01</td>\n",
              "      <td>4.075092e+01</td>\n",
              "      <td>-7.397342e+01</td>\n",
              "      <td>4.075180e+01</td>\n",
              "      <td>9.594923e+02</td>\n",
              "    </tr>\n",
              "    <tr>\n",
              "      <th>std</th>\n",
              "      <td>4.987772e-01</td>\n",
              "      <td>1.314242e+00</td>\n",
              "      <td>7.090186e-02</td>\n",
              "      <td>3.288119e-02</td>\n",
              "      <td>7.064327e-02</td>\n",
              "      <td>3.589056e-02</td>\n",
              "      <td>5.237432e+03</td>\n",
              "    </tr>\n",
              "    <tr>\n",
              "      <th>min</th>\n",
              "      <td>1.000000e+00</td>\n",
              "      <td>0.000000e+00</td>\n",
              "      <td>-1.219333e+02</td>\n",
              "      <td>3.435970e+01</td>\n",
              "      <td>-1.219333e+02</td>\n",
              "      <td>3.218114e+01</td>\n",
              "      <td>1.000000e+00</td>\n",
              "    </tr>\n",
              "    <tr>\n",
              "      <th>25%</th>\n",
              "      <td>1.000000e+00</td>\n",
              "      <td>1.000000e+00</td>\n",
              "      <td>-7.399187e+01</td>\n",
              "      <td>4.073735e+01</td>\n",
              "      <td>-7.399133e+01</td>\n",
              "      <td>4.073588e+01</td>\n",
              "      <td>3.970000e+02</td>\n",
              "    </tr>\n",
              "    <tr>\n",
              "      <th>50%</th>\n",
              "      <td>2.000000e+00</td>\n",
              "      <td>1.000000e+00</td>\n",
              "      <td>-7.398174e+01</td>\n",
              "      <td>4.075410e+01</td>\n",
              "      <td>-7.397975e+01</td>\n",
              "      <td>4.075452e+01</td>\n",
              "      <td>6.620000e+02</td>\n",
              "    </tr>\n",
              "    <tr>\n",
              "      <th>75%</th>\n",
              "      <td>2.000000e+00</td>\n",
              "      <td>2.000000e+00</td>\n",
              "      <td>-7.396733e+01</td>\n",
              "      <td>4.076836e+01</td>\n",
              "      <td>-7.396301e+01</td>\n",
              "      <td>4.076981e+01</td>\n",
              "      <td>1.075000e+03</td>\n",
              "    </tr>\n",
              "    <tr>\n",
              "      <th>max</th>\n",
              "      <td>2.000000e+00</td>\n",
              "      <td>9.000000e+00</td>\n",
              "      <td>-6.133553e+01</td>\n",
              "      <td>5.188108e+01</td>\n",
              "      <td>-6.133553e+01</td>\n",
              "      <td>4.392103e+01</td>\n",
              "      <td>3.526282e+06</td>\n",
              "    </tr>\n",
              "  </tbody>\n",
              "</table>\n",
              "</div>"
            ],
            "text/plain": [
              "          vendor_id  passenger_count  ...  dropoff_latitude  trip_duration\n",
              "count  1.458644e+06     1.458644e+06  ...      1.458644e+06   1.458644e+06\n",
              "mean   1.534950e+00     1.664530e+00  ...      4.075180e+01   9.594923e+02\n",
              "std    4.987772e-01     1.314242e+00  ...      3.589056e-02   5.237432e+03\n",
              "min    1.000000e+00     0.000000e+00  ...      3.218114e+01   1.000000e+00\n",
              "25%    1.000000e+00     1.000000e+00  ...      4.073588e+01   3.970000e+02\n",
              "50%    2.000000e+00     1.000000e+00  ...      4.075452e+01   6.620000e+02\n",
              "75%    2.000000e+00     2.000000e+00  ...      4.076981e+01   1.075000e+03\n",
              "max    2.000000e+00     9.000000e+00  ...      4.392103e+01   3.526282e+06\n",
              "\n",
              "[8 rows x 7 columns]"
            ]
          },
          "metadata": {},
          "execution_count": 54
        }
      ]
    },
    {
      "cell_type": "code",
      "metadata": {
        "colab": {
          "base_uri": "https://localhost:8080/",
          "height": 69
        },
        "id": "Ey9oME-yAi5K",
        "outputId": "f9915a9b-82c5-4954-9920-47c56ed549fb"
      },
      "source": [
        "data[data.duplicated()==True]"
      ],
      "execution_count": 55,
      "outputs": [
        {
          "output_type": "execute_result",
          "data": {
            "text/html": [
              "<div>\n",
              "<style scoped>\n",
              "    .dataframe tbody tr th:only-of-type {\n",
              "        vertical-align: middle;\n",
              "    }\n",
              "\n",
              "    .dataframe tbody tr th {\n",
              "        vertical-align: top;\n",
              "    }\n",
              "\n",
              "    .dataframe thead th {\n",
              "        text-align: right;\n",
              "    }\n",
              "</style>\n",
              "<table border=\"1\" class=\"dataframe\">\n",
              "  <thead>\n",
              "    <tr style=\"text-align: right;\">\n",
              "      <th></th>\n",
              "      <th>id</th>\n",
              "      <th>vendor_id</th>\n",
              "      <th>pickup_datetime</th>\n",
              "      <th>dropoff_datetime</th>\n",
              "      <th>passenger_count</th>\n",
              "      <th>pickup_longitude</th>\n",
              "      <th>pickup_latitude</th>\n",
              "      <th>dropoff_longitude</th>\n",
              "      <th>dropoff_latitude</th>\n",
              "      <th>store_and_fwd_flag</th>\n",
              "      <th>trip_duration</th>\n",
              "    </tr>\n",
              "  </thead>\n",
              "  <tbody>\n",
              "  </tbody>\n",
              "</table>\n",
              "</div>"
            ],
            "text/plain": [
              "Empty DataFrame\n",
              "Columns: [id, vendor_id, pickup_datetime, dropoff_datetime, passenger_count, pickup_longitude, pickup_latitude, dropoff_longitude, dropoff_latitude, store_and_fwd_flag, trip_duration]\n",
              "Index: []"
            ]
          },
          "metadata": {},
          "execution_count": 55
        }
      ]
    },
    {
      "cell_type": "code",
      "metadata": {
        "colab": {
          "base_uri": "https://localhost:8080/",
          "height": 309
        },
        "id": "HDr2IyaqAqkE",
        "outputId": "29b9d22f-932a-4dc7-9487-6b0f456bfc8c"
      },
      "source": [
        "data['pickup_datetime'] = pd.to_datetime(data['pickup_datetime'], format='%Y-%m-%d %H:%M:%S')\n",
        "data['dropoff_datetime']=pd.to_datetime(data['dropoff_datetime'],format='%Y-%m-%d %H:%M:%S')\n",
        "data.head()"
      ],
      "execution_count": 56,
      "outputs": [
        {
          "output_type": "execute_result",
          "data": {
            "text/html": [
              "<div>\n",
              "<style scoped>\n",
              "    .dataframe tbody tr th:only-of-type {\n",
              "        vertical-align: middle;\n",
              "    }\n",
              "\n",
              "    .dataframe tbody tr th {\n",
              "        vertical-align: top;\n",
              "    }\n",
              "\n",
              "    .dataframe thead th {\n",
              "        text-align: right;\n",
              "    }\n",
              "</style>\n",
              "<table border=\"1\" class=\"dataframe\">\n",
              "  <thead>\n",
              "    <tr style=\"text-align: right;\">\n",
              "      <th></th>\n",
              "      <th>id</th>\n",
              "      <th>vendor_id</th>\n",
              "      <th>pickup_datetime</th>\n",
              "      <th>dropoff_datetime</th>\n",
              "      <th>passenger_count</th>\n",
              "      <th>pickup_longitude</th>\n",
              "      <th>pickup_latitude</th>\n",
              "      <th>dropoff_longitude</th>\n",
              "      <th>dropoff_latitude</th>\n",
              "      <th>store_and_fwd_flag</th>\n",
              "      <th>trip_duration</th>\n",
              "    </tr>\n",
              "  </thead>\n",
              "  <tbody>\n",
              "    <tr>\n",
              "      <th>0</th>\n",
              "      <td>id2875421</td>\n",
              "      <td>2</td>\n",
              "      <td>2016-03-14 17:24:55</td>\n",
              "      <td>2016-03-14 17:32:30</td>\n",
              "      <td>1</td>\n",
              "      <td>-73.982155</td>\n",
              "      <td>40.767937</td>\n",
              "      <td>-73.964630</td>\n",
              "      <td>40.765602</td>\n",
              "      <td>N</td>\n",
              "      <td>455</td>\n",
              "    </tr>\n",
              "    <tr>\n",
              "      <th>1</th>\n",
              "      <td>id2377394</td>\n",
              "      <td>1</td>\n",
              "      <td>2016-06-12 00:43:35</td>\n",
              "      <td>2016-06-12 00:54:38</td>\n",
              "      <td>1</td>\n",
              "      <td>-73.980415</td>\n",
              "      <td>40.738564</td>\n",
              "      <td>-73.999481</td>\n",
              "      <td>40.731152</td>\n",
              "      <td>N</td>\n",
              "      <td>663</td>\n",
              "    </tr>\n",
              "    <tr>\n",
              "      <th>2</th>\n",
              "      <td>id3858529</td>\n",
              "      <td>2</td>\n",
              "      <td>2016-01-19 11:35:24</td>\n",
              "      <td>2016-01-19 12:10:48</td>\n",
              "      <td>1</td>\n",
              "      <td>-73.979027</td>\n",
              "      <td>40.763939</td>\n",
              "      <td>-74.005333</td>\n",
              "      <td>40.710087</td>\n",
              "      <td>N</td>\n",
              "      <td>2124</td>\n",
              "    </tr>\n",
              "    <tr>\n",
              "      <th>3</th>\n",
              "      <td>id3504673</td>\n",
              "      <td>2</td>\n",
              "      <td>2016-04-06 19:32:31</td>\n",
              "      <td>2016-04-06 19:39:40</td>\n",
              "      <td>1</td>\n",
              "      <td>-74.010040</td>\n",
              "      <td>40.719971</td>\n",
              "      <td>-74.012268</td>\n",
              "      <td>40.706718</td>\n",
              "      <td>N</td>\n",
              "      <td>429</td>\n",
              "    </tr>\n",
              "    <tr>\n",
              "      <th>4</th>\n",
              "      <td>id2181028</td>\n",
              "      <td>2</td>\n",
              "      <td>2016-03-26 13:30:55</td>\n",
              "      <td>2016-03-26 13:38:10</td>\n",
              "      <td>1</td>\n",
              "      <td>-73.973053</td>\n",
              "      <td>40.793209</td>\n",
              "      <td>-73.972923</td>\n",
              "      <td>40.782520</td>\n",
              "      <td>N</td>\n",
              "      <td>435</td>\n",
              "    </tr>\n",
              "  </tbody>\n",
              "</table>\n",
              "</div>"
            ],
            "text/plain": [
              "          id  vendor_id  ... store_and_fwd_flag trip_duration\n",
              "0  id2875421          2  ...                  N           455\n",
              "1  id2377394          1  ...                  N           663\n",
              "2  id3858529          2  ...                  N          2124\n",
              "3  id3504673          2  ...                  N           429\n",
              "4  id2181028          2  ...                  N           435\n",
              "\n",
              "[5 rows x 11 columns]"
            ]
          },
          "metadata": {},
          "execution_count": 56
        }
      ]
    },
    {
      "cell_type": "code",
      "metadata": {
        "colab": {
          "base_uri": "https://localhost:8080/"
        },
        "id": "i9lFVBm5BxCE",
        "outputId": "93bd42d3-3dfc-426e-cb54-d98c914ee001"
      },
      "source": [
        "data.dtypes"
      ],
      "execution_count": 57,
      "outputs": [
        {
          "output_type": "execute_result",
          "data": {
            "text/plain": [
              "id                            object\n",
              "vendor_id                      int64\n",
              "pickup_datetime       datetime64[ns]\n",
              "dropoff_datetime      datetime64[ns]\n",
              "passenger_count                int64\n",
              "pickup_longitude             float64\n",
              "pickup_latitude              float64\n",
              "dropoff_longitude            float64\n",
              "dropoff_latitude             float64\n",
              "store_and_fwd_flag            object\n",
              "trip_duration                  int64\n",
              "dtype: object"
            ]
          },
          "metadata": {},
          "execution_count": 57
        }
      ]
    },
    {
      "cell_type": "code",
      "metadata": {
        "colab": {
          "base_uri": "https://localhost:8080/"
        },
        "id": "8AxpOfajB28t",
        "outputId": "fae21c64-cf70-430f-9df3-25d535d275c9"
      },
      "source": [
        "print(\"Min pickup time:\",min(data['pickup_datetime']))\n",
        "print(\"Max pickup time:\",max(data['pickup_datetime']))"
      ],
      "execution_count": 58,
      "outputs": [
        {
          "output_type": "stream",
          "name": "stdout",
          "text": [
            "Min pickup time: 2016-01-01 00:00:17\n",
            "Max pickup time: 2016-06-30 23:59:39\n"
          ]
        }
      ]
    },
    {
      "cell_type": "code",
      "metadata": {
        "id": "zpSZTa7kDCBF"
      },
      "source": [
        "import calendar"
      ],
      "execution_count": 59,
      "outputs": []
    },
    {
      "cell_type": "code",
      "metadata": {
        "id": "P5gkd_VhCEWu"
      },
      "source": [
        "data['pickup_date']= data['pickup_datetime'].dt.date\n",
        "data['pickup_day']=data['pickup_datetime'].apply(lambda x:x.day)\n",
        "data['pickup_hour']=data['pickup_datetime'].apply(lambda x:x.hour)\n",
        "data['pickup_day_of_week']=data['pickup_datetime'].apply(lambda x:calendar.day_name[x.weekday()])\n",
        "data['dropoff_date']= data['dropoff_datetime'].dt.date\n",
        "data['dropoff_day']=data['dropoff_datetime'].apply(lambda x:x.day)\n",
        "data['dropoff_hour']=data['dropoff_datetime'].apply(lambda x:x.hour)\n",
        "data['dropoff_day_of_week']=data['dropoff_datetime'].apply(lambda x:calendar.day_name[x.weekday()])"
      ],
      "execution_count": 60,
      "outputs": []
    },
    {
      "cell_type": "code",
      "metadata": {
        "id": "gFp3yV8uDsEC"
      },
      "source": [
        "data['pickup_latitude_round3']=data['pickup_latitude'].apply(lambda x:round(x,3))\n",
        "data['pickup_longitude_round3']=data['pickup_longitude'].apply(lambda x:round(x,3))\n",
        "data['dropoff_latitude_round3']=data['dropoff_latitude'].apply(lambda x:round(x,3))\n",
        "data['dropoff_longitude_round3']=data['dropoff_longitude'].apply(lambda x:round(x,3))"
      ],
      "execution_count": 61,
      "outputs": []
    },
    {
      "cell_type": "code",
      "metadata": {
        "colab": {
          "base_uri": "https://localhost:8080/",
          "height": 309
        },
        "id": "JZelwMNcEENX",
        "outputId": "229f650c-aa36-45af-a4a7-e4c203343a50"
      },
      "source": [
        "data.head()"
      ],
      "execution_count": 36,
      "outputs": [
        {
          "output_type": "execute_result",
          "data": {
            "text/html": [
              "<div>\n",
              "<style scoped>\n",
              "    .dataframe tbody tr th:only-of-type {\n",
              "        vertical-align: middle;\n",
              "    }\n",
              "\n",
              "    .dataframe tbody tr th {\n",
              "        vertical-align: top;\n",
              "    }\n",
              "\n",
              "    .dataframe thead th {\n",
              "        text-align: right;\n",
              "    }\n",
              "</style>\n",
              "<table border=\"1\" class=\"dataframe\">\n",
              "  <thead>\n",
              "    <tr style=\"text-align: right;\">\n",
              "      <th></th>\n",
              "      <th>id</th>\n",
              "      <th>vendor_id</th>\n",
              "      <th>pickup_datetime</th>\n",
              "      <th>dropoff_datetime</th>\n",
              "      <th>passenger_count</th>\n",
              "      <th>pickup_longitude</th>\n",
              "      <th>pickup_latitude</th>\n",
              "      <th>dropoff_longitude</th>\n",
              "      <th>dropoff_latitude</th>\n",
              "      <th>store_and_fwd_flag</th>\n",
              "      <th>trip_duration</th>\n",
              "      <th>pickup_date</th>\n",
              "      <th>pickup_day</th>\n",
              "      <th>pickup_hour</th>\n",
              "      <th>pickup_day_of_week</th>\n",
              "      <th>dropoff_date</th>\n",
              "      <th>dropoff_day</th>\n",
              "      <th>dropoff_hour</th>\n",
              "      <th>dropoff_day_of_week</th>\n",
              "      <th>pickup_latitude_round3</th>\n",
              "      <th>pickup_longitude_round3</th>\n",
              "      <th>dropoff_latitude_round3</th>\n",
              "      <th>dropoff_longitude_round3</th>\n",
              "    </tr>\n",
              "  </thead>\n",
              "  <tbody>\n",
              "    <tr>\n",
              "      <th>0</th>\n",
              "      <td>id2875421</td>\n",
              "      <td>2</td>\n",
              "      <td>2016-03-14 17:24:55</td>\n",
              "      <td>2016-03-14 17:32:30</td>\n",
              "      <td>1</td>\n",
              "      <td>-73.982155</td>\n",
              "      <td>40.767937</td>\n",
              "      <td>-73.964630</td>\n",
              "      <td>40.765602</td>\n",
              "      <td>N</td>\n",
              "      <td>455</td>\n",
              "      <td>2016-03-14</td>\n",
              "      <td>14</td>\n",
              "      <td>17</td>\n",
              "      <td>Monday</td>\n",
              "      <td>2016-03-14</td>\n",
              "      <td>14</td>\n",
              "      <td>17</td>\n",
              "      <td>Monday</td>\n",
              "      <td>40.768</td>\n",
              "      <td>-73.982</td>\n",
              "      <td>40.766</td>\n",
              "      <td>-73.965</td>\n",
              "    </tr>\n",
              "    <tr>\n",
              "      <th>1</th>\n",
              "      <td>id2377394</td>\n",
              "      <td>1</td>\n",
              "      <td>2016-06-12 00:43:35</td>\n",
              "      <td>2016-06-12 00:54:38</td>\n",
              "      <td>1</td>\n",
              "      <td>-73.980415</td>\n",
              "      <td>40.738564</td>\n",
              "      <td>-73.999481</td>\n",
              "      <td>40.731152</td>\n",
              "      <td>N</td>\n",
              "      <td>663</td>\n",
              "      <td>2016-06-12</td>\n",
              "      <td>12</td>\n",
              "      <td>0</td>\n",
              "      <td>Sunday</td>\n",
              "      <td>2016-06-12</td>\n",
              "      <td>12</td>\n",
              "      <td>0</td>\n",
              "      <td>Sunday</td>\n",
              "      <td>40.739</td>\n",
              "      <td>-73.980</td>\n",
              "      <td>40.731</td>\n",
              "      <td>-73.999</td>\n",
              "    </tr>\n",
              "    <tr>\n",
              "      <th>2</th>\n",
              "      <td>id3858529</td>\n",
              "      <td>2</td>\n",
              "      <td>2016-01-19 11:35:24</td>\n",
              "      <td>2016-01-19 12:10:48</td>\n",
              "      <td>1</td>\n",
              "      <td>-73.979027</td>\n",
              "      <td>40.763939</td>\n",
              "      <td>-74.005333</td>\n",
              "      <td>40.710087</td>\n",
              "      <td>N</td>\n",
              "      <td>2124</td>\n",
              "      <td>2016-01-19</td>\n",
              "      <td>19</td>\n",
              "      <td>11</td>\n",
              "      <td>Tuesday</td>\n",
              "      <td>2016-01-19</td>\n",
              "      <td>19</td>\n",
              "      <td>12</td>\n",
              "      <td>Tuesday</td>\n",
              "      <td>40.764</td>\n",
              "      <td>-73.979</td>\n",
              "      <td>40.710</td>\n",
              "      <td>-74.005</td>\n",
              "    </tr>\n",
              "    <tr>\n",
              "      <th>3</th>\n",
              "      <td>id3504673</td>\n",
              "      <td>2</td>\n",
              "      <td>2016-04-06 19:32:31</td>\n",
              "      <td>2016-04-06 19:39:40</td>\n",
              "      <td>1</td>\n",
              "      <td>-74.010040</td>\n",
              "      <td>40.719971</td>\n",
              "      <td>-74.012268</td>\n",
              "      <td>40.706718</td>\n",
              "      <td>N</td>\n",
              "      <td>429</td>\n",
              "      <td>2016-04-06</td>\n",
              "      <td>6</td>\n",
              "      <td>19</td>\n",
              "      <td>Wednesday</td>\n",
              "      <td>2016-04-06</td>\n",
              "      <td>6</td>\n",
              "      <td>19</td>\n",
              "      <td>Wednesday</td>\n",
              "      <td>40.720</td>\n",
              "      <td>-74.010</td>\n",
              "      <td>40.707</td>\n",
              "      <td>-74.012</td>\n",
              "    </tr>\n",
              "    <tr>\n",
              "      <th>4</th>\n",
              "      <td>id2181028</td>\n",
              "      <td>2</td>\n",
              "      <td>2016-03-26 13:30:55</td>\n",
              "      <td>2016-03-26 13:38:10</td>\n",
              "      <td>1</td>\n",
              "      <td>-73.973053</td>\n",
              "      <td>40.793209</td>\n",
              "      <td>-73.972923</td>\n",
              "      <td>40.782520</td>\n",
              "      <td>N</td>\n",
              "      <td>435</td>\n",
              "      <td>2016-03-26</td>\n",
              "      <td>26</td>\n",
              "      <td>13</td>\n",
              "      <td>Saturday</td>\n",
              "      <td>2016-03-26</td>\n",
              "      <td>26</td>\n",
              "      <td>13</td>\n",
              "      <td>Saturday</td>\n",
              "      <td>40.793</td>\n",
              "      <td>-73.973</td>\n",
              "      <td>40.783</td>\n",
              "      <td>-73.973</td>\n",
              "    </tr>\n",
              "  </tbody>\n",
              "</table>\n",
              "</div>"
            ],
            "text/plain": [
              "          id  vendor_id  ... dropoff_latitude_round3 dropoff_longitude_round3\n",
              "0  id2875421          2  ...                  40.766                  -73.965\n",
              "1  id2377394          1  ...                  40.731                  -73.999\n",
              "2  id3858529          2  ...                  40.710                  -74.005\n",
              "3  id3504673          2  ...                  40.707                  -74.012\n",
              "4  id2181028          2  ...                  40.783                  -73.973\n",
              "\n",
              "[5 rows x 23 columns]"
            ]
          },
          "metadata": {},
          "execution_count": 36
        }
      ]
    },
    {
      "cell_type": "code",
      "metadata": {
        "id": "He4JWjjGEFVo"
      },
      "source": [
        "def cal_distance(pickup_lat,pickup_long,dropoff_lat,dropoff_long):\n",
        " \n",
        " start_coordinates=(pickup_lat,pickup_long)\n",
        " stop_coordinates=(dropoff_lat,dropoff_long)\n",
        " \n",
        " return great_circle(start_coordinates,stop_coordinates).km"
      ],
      "execution_count": 62,
      "outputs": []
    },
    {
      "cell_type": "code",
      "metadata": {
        "id": "5CrhtTt6Ete9"
      },
      "source": [
        "from geopy.distance import great_circle"
      ],
      "execution_count": 63,
      "outputs": []
    },
    {
      "cell_type": "code",
      "metadata": {
        "id": "R6GMeUvnEfVE"
      },
      "source": [
        "data['trip_distance'] = data.apply(lambda x: cal_distance(x['pickup_latitude'],x['pickup_longitude'],x['dropoff_latitude'],x['dropoff_longitude'] ), axis=1)"
      ],
      "execution_count": 64,
      "outputs": []
    },
    {
      "cell_type": "code",
      "metadata": {
        "colab": {
          "base_uri": "https://localhost:8080/",
          "height": 309
        },
        "id": "eJ6tkzhuEoeR",
        "outputId": "dce9a01d-c7c7-4f07-8cf1-260dcd8dd6c0"
      },
      "source": [
        "data.head()"
      ],
      "execution_count": 65,
      "outputs": [
        {
          "output_type": "execute_result",
          "data": {
            "text/html": [
              "<div>\n",
              "<style scoped>\n",
              "    .dataframe tbody tr th:only-of-type {\n",
              "        vertical-align: middle;\n",
              "    }\n",
              "\n",
              "    .dataframe tbody tr th {\n",
              "        vertical-align: top;\n",
              "    }\n",
              "\n",
              "    .dataframe thead th {\n",
              "        text-align: right;\n",
              "    }\n",
              "</style>\n",
              "<table border=\"1\" class=\"dataframe\">\n",
              "  <thead>\n",
              "    <tr style=\"text-align: right;\">\n",
              "      <th></th>\n",
              "      <th>id</th>\n",
              "      <th>vendor_id</th>\n",
              "      <th>pickup_datetime</th>\n",
              "      <th>dropoff_datetime</th>\n",
              "      <th>passenger_count</th>\n",
              "      <th>pickup_longitude</th>\n",
              "      <th>pickup_latitude</th>\n",
              "      <th>dropoff_longitude</th>\n",
              "      <th>dropoff_latitude</th>\n",
              "      <th>store_and_fwd_flag</th>\n",
              "      <th>trip_duration</th>\n",
              "      <th>pickup_date</th>\n",
              "      <th>pickup_day</th>\n",
              "      <th>pickup_hour</th>\n",
              "      <th>pickup_day_of_week</th>\n",
              "      <th>dropoff_date</th>\n",
              "      <th>dropoff_day</th>\n",
              "      <th>dropoff_hour</th>\n",
              "      <th>dropoff_day_of_week</th>\n",
              "      <th>pickup_latitude_round3</th>\n",
              "      <th>pickup_longitude_round3</th>\n",
              "      <th>dropoff_latitude_round3</th>\n",
              "      <th>dropoff_longitude_round3</th>\n",
              "      <th>trip_distance</th>\n",
              "    </tr>\n",
              "  </thead>\n",
              "  <tbody>\n",
              "    <tr>\n",
              "      <th>0</th>\n",
              "      <td>id2875421</td>\n",
              "      <td>2</td>\n",
              "      <td>2016-03-14 17:24:55</td>\n",
              "      <td>2016-03-14 17:32:30</td>\n",
              "      <td>1</td>\n",
              "      <td>-73.982155</td>\n",
              "      <td>40.767937</td>\n",
              "      <td>-73.964630</td>\n",
              "      <td>40.765602</td>\n",
              "      <td>N</td>\n",
              "      <td>455</td>\n",
              "      <td>2016-03-14</td>\n",
              "      <td>14</td>\n",
              "      <td>17</td>\n",
              "      <td>Monday</td>\n",
              "      <td>2016-03-14</td>\n",
              "      <td>14</td>\n",
              "      <td>17</td>\n",
              "      <td>Monday</td>\n",
              "      <td>40.768</td>\n",
              "      <td>-73.982</td>\n",
              "      <td>40.766</td>\n",
              "      <td>-73.965</td>\n",
              "      <td>1.498523</td>\n",
              "    </tr>\n",
              "    <tr>\n",
              "      <th>1</th>\n",
              "      <td>id2377394</td>\n",
              "      <td>1</td>\n",
              "      <td>2016-06-12 00:43:35</td>\n",
              "      <td>2016-06-12 00:54:38</td>\n",
              "      <td>1</td>\n",
              "      <td>-73.980415</td>\n",
              "      <td>40.738564</td>\n",
              "      <td>-73.999481</td>\n",
              "      <td>40.731152</td>\n",
              "      <td>N</td>\n",
              "      <td>663</td>\n",
              "      <td>2016-06-12</td>\n",
              "      <td>12</td>\n",
              "      <td>0</td>\n",
              "      <td>Sunday</td>\n",
              "      <td>2016-06-12</td>\n",
              "      <td>12</td>\n",
              "      <td>0</td>\n",
              "      <td>Sunday</td>\n",
              "      <td>40.739</td>\n",
              "      <td>-73.980</td>\n",
              "      <td>40.731</td>\n",
              "      <td>-73.999</td>\n",
              "      <td>1.805510</td>\n",
              "    </tr>\n",
              "    <tr>\n",
              "      <th>2</th>\n",
              "      <td>id3858529</td>\n",
              "      <td>2</td>\n",
              "      <td>2016-01-19 11:35:24</td>\n",
              "      <td>2016-01-19 12:10:48</td>\n",
              "      <td>1</td>\n",
              "      <td>-73.979027</td>\n",
              "      <td>40.763939</td>\n",
              "      <td>-74.005333</td>\n",
              "      <td>40.710087</td>\n",
              "      <td>N</td>\n",
              "      <td>2124</td>\n",
              "      <td>2016-01-19</td>\n",
              "      <td>19</td>\n",
              "      <td>11</td>\n",
              "      <td>Tuesday</td>\n",
              "      <td>2016-01-19</td>\n",
              "      <td>19</td>\n",
              "      <td>12</td>\n",
              "      <td>Tuesday</td>\n",
              "      <td>40.764</td>\n",
              "      <td>-73.979</td>\n",
              "      <td>40.710</td>\n",
              "      <td>-74.005</td>\n",
              "      <td>6.385108</td>\n",
              "    </tr>\n",
              "    <tr>\n",
              "      <th>3</th>\n",
              "      <td>id3504673</td>\n",
              "      <td>2</td>\n",
              "      <td>2016-04-06 19:32:31</td>\n",
              "      <td>2016-04-06 19:39:40</td>\n",
              "      <td>1</td>\n",
              "      <td>-74.010040</td>\n",
              "      <td>40.719971</td>\n",
              "      <td>-74.012268</td>\n",
              "      <td>40.706718</td>\n",
              "      <td>N</td>\n",
              "      <td>429</td>\n",
              "      <td>2016-04-06</td>\n",
              "      <td>6</td>\n",
              "      <td>19</td>\n",
              "      <td>Wednesday</td>\n",
              "      <td>2016-04-06</td>\n",
              "      <td>6</td>\n",
              "      <td>19</td>\n",
              "      <td>Wednesday</td>\n",
              "      <td>40.720</td>\n",
              "      <td>-74.010</td>\n",
              "      <td>40.707</td>\n",
              "      <td>-74.012</td>\n",
              "      <td>1.485501</td>\n",
              "    </tr>\n",
              "    <tr>\n",
              "      <th>4</th>\n",
              "      <td>id2181028</td>\n",
              "      <td>2</td>\n",
              "      <td>2016-03-26 13:30:55</td>\n",
              "      <td>2016-03-26 13:38:10</td>\n",
              "      <td>1</td>\n",
              "      <td>-73.973053</td>\n",
              "      <td>40.793209</td>\n",
              "      <td>-73.972923</td>\n",
              "      <td>40.782520</td>\n",
              "      <td>N</td>\n",
              "      <td>435</td>\n",
              "      <td>2016-03-26</td>\n",
              "      <td>26</td>\n",
              "      <td>13</td>\n",
              "      <td>Saturday</td>\n",
              "      <td>2016-03-26</td>\n",
              "      <td>26</td>\n",
              "      <td>13</td>\n",
              "      <td>Saturday</td>\n",
              "      <td>40.793</td>\n",
              "      <td>-73.973</td>\n",
              "      <td>40.783</td>\n",
              "      <td>-73.973</td>\n",
              "      <td>1.188590</td>\n",
              "    </tr>\n",
              "  </tbody>\n",
              "</table>\n",
              "</div>"
            ],
            "text/plain": [
              "          id  vendor_id  ... dropoff_longitude_round3 trip_distance\n",
              "0  id2875421          2  ...                  -73.965      1.498523\n",
              "1  id2377394          1  ...                  -73.999      1.805510\n",
              "2  id3858529          2  ...                  -74.005      6.385108\n",
              "3  id3504673          2  ...                  -74.012      1.485501\n",
              "4  id2181028          2  ...                  -73.973      1.188590\n",
              "\n",
              "[5 rows x 24 columns]"
            ]
          },
          "metadata": {},
          "execution_count": 65
        }
      ]
    },
    {
      "cell_type": "code",
      "metadata": {
        "colab": {
          "base_uri": "https://localhost:8080/"
        },
        "id": "hNda8ZPuFA2v",
        "outputId": "ad960203-e1c4-4b9b-81bb-3951354f587f"
      },
      "source": [
        "data.describe().columns"
      ],
      "execution_count": 66,
      "outputs": [
        {
          "output_type": "execute_result",
          "data": {
            "text/plain": [
              "Index(['vendor_id', 'passenger_count', 'pickup_longitude', 'pickup_latitude',\n",
              "       'dropoff_longitude', 'dropoff_latitude', 'trip_duration', 'pickup_day',\n",
              "       'pickup_hour', 'dropoff_day', 'dropoff_hour', 'pickup_latitude_round3',\n",
              "       'pickup_longitude_round3', 'dropoff_latitude_round3',\n",
              "       'dropoff_longitude_round3', 'trip_distance'],\n",
              "      dtype='object')"
            ]
          },
          "metadata": {},
          "execution_count": 66
        }
      ]
    },
    {
      "cell_type": "code",
      "metadata": {
        "colab": {
          "base_uri": "https://localhost:8080/",
          "height": 309
        },
        "id": "paC3hc1JGYo7",
        "outputId": "09911acd-1b35-4d47-cf7c-bb9d6dec373a"
      },
      "source": [
        "data['trip_duration_in_minutes']=data['trip_duration'].apply(lambda x:x/60)\n",
        "data.head()"
      ],
      "execution_count": 67,
      "outputs": [
        {
          "output_type": "execute_result",
          "data": {
            "text/html": [
              "<div>\n",
              "<style scoped>\n",
              "    .dataframe tbody tr th:only-of-type {\n",
              "        vertical-align: middle;\n",
              "    }\n",
              "\n",
              "    .dataframe tbody tr th {\n",
              "        vertical-align: top;\n",
              "    }\n",
              "\n",
              "    .dataframe thead th {\n",
              "        text-align: right;\n",
              "    }\n",
              "</style>\n",
              "<table border=\"1\" class=\"dataframe\">\n",
              "  <thead>\n",
              "    <tr style=\"text-align: right;\">\n",
              "      <th></th>\n",
              "      <th>id</th>\n",
              "      <th>vendor_id</th>\n",
              "      <th>pickup_datetime</th>\n",
              "      <th>dropoff_datetime</th>\n",
              "      <th>passenger_count</th>\n",
              "      <th>pickup_longitude</th>\n",
              "      <th>pickup_latitude</th>\n",
              "      <th>dropoff_longitude</th>\n",
              "      <th>dropoff_latitude</th>\n",
              "      <th>store_and_fwd_flag</th>\n",
              "      <th>trip_duration</th>\n",
              "      <th>pickup_date</th>\n",
              "      <th>pickup_day</th>\n",
              "      <th>pickup_hour</th>\n",
              "      <th>pickup_day_of_week</th>\n",
              "      <th>dropoff_date</th>\n",
              "      <th>dropoff_day</th>\n",
              "      <th>dropoff_hour</th>\n",
              "      <th>dropoff_day_of_week</th>\n",
              "      <th>pickup_latitude_round3</th>\n",
              "      <th>pickup_longitude_round3</th>\n",
              "      <th>dropoff_latitude_round3</th>\n",
              "      <th>dropoff_longitude_round3</th>\n",
              "      <th>trip_distance</th>\n",
              "      <th>trip_duration_in_minutes</th>\n",
              "    </tr>\n",
              "  </thead>\n",
              "  <tbody>\n",
              "    <tr>\n",
              "      <th>0</th>\n",
              "      <td>id2875421</td>\n",
              "      <td>2</td>\n",
              "      <td>2016-03-14 17:24:55</td>\n",
              "      <td>2016-03-14 17:32:30</td>\n",
              "      <td>1</td>\n",
              "      <td>-73.982155</td>\n",
              "      <td>40.767937</td>\n",
              "      <td>-73.964630</td>\n",
              "      <td>40.765602</td>\n",
              "      <td>N</td>\n",
              "      <td>455</td>\n",
              "      <td>2016-03-14</td>\n",
              "      <td>14</td>\n",
              "      <td>17</td>\n",
              "      <td>Monday</td>\n",
              "      <td>2016-03-14</td>\n",
              "      <td>14</td>\n",
              "      <td>17</td>\n",
              "      <td>Monday</td>\n",
              "      <td>40.768</td>\n",
              "      <td>-73.982</td>\n",
              "      <td>40.766</td>\n",
              "      <td>-73.965</td>\n",
              "      <td>1.498523</td>\n",
              "      <td>7.583333</td>\n",
              "    </tr>\n",
              "    <tr>\n",
              "      <th>1</th>\n",
              "      <td>id2377394</td>\n",
              "      <td>1</td>\n",
              "      <td>2016-06-12 00:43:35</td>\n",
              "      <td>2016-06-12 00:54:38</td>\n",
              "      <td>1</td>\n",
              "      <td>-73.980415</td>\n",
              "      <td>40.738564</td>\n",
              "      <td>-73.999481</td>\n",
              "      <td>40.731152</td>\n",
              "      <td>N</td>\n",
              "      <td>663</td>\n",
              "      <td>2016-06-12</td>\n",
              "      <td>12</td>\n",
              "      <td>0</td>\n",
              "      <td>Sunday</td>\n",
              "      <td>2016-06-12</td>\n",
              "      <td>12</td>\n",
              "      <td>0</td>\n",
              "      <td>Sunday</td>\n",
              "      <td>40.739</td>\n",
              "      <td>-73.980</td>\n",
              "      <td>40.731</td>\n",
              "      <td>-73.999</td>\n",
              "      <td>1.805510</td>\n",
              "      <td>11.050000</td>\n",
              "    </tr>\n",
              "    <tr>\n",
              "      <th>2</th>\n",
              "      <td>id3858529</td>\n",
              "      <td>2</td>\n",
              "      <td>2016-01-19 11:35:24</td>\n",
              "      <td>2016-01-19 12:10:48</td>\n",
              "      <td>1</td>\n",
              "      <td>-73.979027</td>\n",
              "      <td>40.763939</td>\n",
              "      <td>-74.005333</td>\n",
              "      <td>40.710087</td>\n",
              "      <td>N</td>\n",
              "      <td>2124</td>\n",
              "      <td>2016-01-19</td>\n",
              "      <td>19</td>\n",
              "      <td>11</td>\n",
              "      <td>Tuesday</td>\n",
              "      <td>2016-01-19</td>\n",
              "      <td>19</td>\n",
              "      <td>12</td>\n",
              "      <td>Tuesday</td>\n",
              "      <td>40.764</td>\n",
              "      <td>-73.979</td>\n",
              "      <td>40.710</td>\n",
              "      <td>-74.005</td>\n",
              "      <td>6.385108</td>\n",
              "      <td>35.400000</td>\n",
              "    </tr>\n",
              "    <tr>\n",
              "      <th>3</th>\n",
              "      <td>id3504673</td>\n",
              "      <td>2</td>\n",
              "      <td>2016-04-06 19:32:31</td>\n",
              "      <td>2016-04-06 19:39:40</td>\n",
              "      <td>1</td>\n",
              "      <td>-74.010040</td>\n",
              "      <td>40.719971</td>\n",
              "      <td>-74.012268</td>\n",
              "      <td>40.706718</td>\n",
              "      <td>N</td>\n",
              "      <td>429</td>\n",
              "      <td>2016-04-06</td>\n",
              "      <td>6</td>\n",
              "      <td>19</td>\n",
              "      <td>Wednesday</td>\n",
              "      <td>2016-04-06</td>\n",
              "      <td>6</td>\n",
              "      <td>19</td>\n",
              "      <td>Wednesday</td>\n",
              "      <td>40.720</td>\n",
              "      <td>-74.010</td>\n",
              "      <td>40.707</td>\n",
              "      <td>-74.012</td>\n",
              "      <td>1.485501</td>\n",
              "      <td>7.150000</td>\n",
              "    </tr>\n",
              "    <tr>\n",
              "      <th>4</th>\n",
              "      <td>id2181028</td>\n",
              "      <td>2</td>\n",
              "      <td>2016-03-26 13:30:55</td>\n",
              "      <td>2016-03-26 13:38:10</td>\n",
              "      <td>1</td>\n",
              "      <td>-73.973053</td>\n",
              "      <td>40.793209</td>\n",
              "      <td>-73.972923</td>\n",
              "      <td>40.782520</td>\n",
              "      <td>N</td>\n",
              "      <td>435</td>\n",
              "      <td>2016-03-26</td>\n",
              "      <td>26</td>\n",
              "      <td>13</td>\n",
              "      <td>Saturday</td>\n",
              "      <td>2016-03-26</td>\n",
              "      <td>26</td>\n",
              "      <td>13</td>\n",
              "      <td>Saturday</td>\n",
              "      <td>40.793</td>\n",
              "      <td>-73.973</td>\n",
              "      <td>40.783</td>\n",
              "      <td>-73.973</td>\n",
              "      <td>1.188590</td>\n",
              "      <td>7.250000</td>\n",
              "    </tr>\n",
              "  </tbody>\n",
              "</table>\n",
              "</div>"
            ],
            "text/plain": [
              "          id  vendor_id  ... trip_distance trip_duration_in_minutes\n",
              "0  id2875421          2  ...      1.498523                 7.583333\n",
              "1  id2377394          1  ...      1.805510                11.050000\n",
              "2  id3858529          2  ...      6.385108                35.400000\n",
              "3  id3504673          2  ...      1.485501                 7.150000\n",
              "4  id2181028          2  ...      1.188590                 7.250000\n",
              "\n",
              "[5 rows x 25 columns]"
            ]
          },
          "metadata": {},
          "execution_count": 67
        }
      ]
    },
    {
      "cell_type": "code",
      "metadata": {
        "colab": {
          "base_uri": "https://localhost:8080/",
          "height": 309
        },
        "id": "ZTRYPQBThCRs",
        "outputId": "a9e51656-0e66-4543-8628-df21ca17f843"
      },
      "source": [
        "data['trip_duration_in_hour']=data['trip_duration'].apply(lambda x:x/3600)\n",
        "data.head()"
      ],
      "execution_count": 72,
      "outputs": [
        {
          "output_type": "execute_result",
          "data": {
            "text/html": [
              "<div>\n",
              "<style scoped>\n",
              "    .dataframe tbody tr th:only-of-type {\n",
              "        vertical-align: middle;\n",
              "    }\n",
              "\n",
              "    .dataframe tbody tr th {\n",
              "        vertical-align: top;\n",
              "    }\n",
              "\n",
              "    .dataframe thead th {\n",
              "        text-align: right;\n",
              "    }\n",
              "</style>\n",
              "<table border=\"1\" class=\"dataframe\">\n",
              "  <thead>\n",
              "    <tr style=\"text-align: right;\">\n",
              "      <th></th>\n",
              "      <th>id</th>\n",
              "      <th>vendor_id</th>\n",
              "      <th>pickup_datetime</th>\n",
              "      <th>dropoff_datetime</th>\n",
              "      <th>passenger_count</th>\n",
              "      <th>pickup_longitude</th>\n",
              "      <th>pickup_latitude</th>\n",
              "      <th>dropoff_longitude</th>\n",
              "      <th>dropoff_latitude</th>\n",
              "      <th>store_and_fwd_flag</th>\n",
              "      <th>trip_duration</th>\n",
              "      <th>pickup_date</th>\n",
              "      <th>pickup_day</th>\n",
              "      <th>pickup_hour</th>\n",
              "      <th>pickup_day_of_week</th>\n",
              "      <th>dropoff_date</th>\n",
              "      <th>dropoff_day</th>\n",
              "      <th>dropoff_hour</th>\n",
              "      <th>dropoff_day_of_week</th>\n",
              "      <th>pickup_latitude_round3</th>\n",
              "      <th>pickup_longitude_round3</th>\n",
              "      <th>dropoff_latitude_round3</th>\n",
              "      <th>dropoff_longitude_round3</th>\n",
              "      <th>trip_distance</th>\n",
              "      <th>trip_duration_in_minutes</th>\n",
              "      <th>trip_duration_in_hour</th>\n",
              "    </tr>\n",
              "  </thead>\n",
              "  <tbody>\n",
              "    <tr>\n",
              "      <th>0</th>\n",
              "      <td>id2875421</td>\n",
              "      <td>2</td>\n",
              "      <td>2016-03-14 17:24:55</td>\n",
              "      <td>2016-03-14 17:32:30</td>\n",
              "      <td>1</td>\n",
              "      <td>-73.982155</td>\n",
              "      <td>40.767937</td>\n",
              "      <td>-73.964630</td>\n",
              "      <td>40.765602</td>\n",
              "      <td>N</td>\n",
              "      <td>455</td>\n",
              "      <td>2016-03-14</td>\n",
              "      <td>14</td>\n",
              "      <td>17</td>\n",
              "      <td>Monday</td>\n",
              "      <td>2016-03-14</td>\n",
              "      <td>14</td>\n",
              "      <td>17</td>\n",
              "      <td>Monday</td>\n",
              "      <td>40.768</td>\n",
              "      <td>-73.982</td>\n",
              "      <td>40.766</td>\n",
              "      <td>-73.965</td>\n",
              "      <td>1.498523</td>\n",
              "      <td>7.583333</td>\n",
              "      <td>0.126389</td>\n",
              "    </tr>\n",
              "    <tr>\n",
              "      <th>1</th>\n",
              "      <td>id2377394</td>\n",
              "      <td>1</td>\n",
              "      <td>2016-06-12 00:43:35</td>\n",
              "      <td>2016-06-12 00:54:38</td>\n",
              "      <td>1</td>\n",
              "      <td>-73.980415</td>\n",
              "      <td>40.738564</td>\n",
              "      <td>-73.999481</td>\n",
              "      <td>40.731152</td>\n",
              "      <td>N</td>\n",
              "      <td>663</td>\n",
              "      <td>2016-06-12</td>\n",
              "      <td>12</td>\n",
              "      <td>0</td>\n",
              "      <td>Sunday</td>\n",
              "      <td>2016-06-12</td>\n",
              "      <td>12</td>\n",
              "      <td>0</td>\n",
              "      <td>Sunday</td>\n",
              "      <td>40.739</td>\n",
              "      <td>-73.980</td>\n",
              "      <td>40.731</td>\n",
              "      <td>-73.999</td>\n",
              "      <td>1.805510</td>\n",
              "      <td>11.050000</td>\n",
              "      <td>0.184167</td>\n",
              "    </tr>\n",
              "    <tr>\n",
              "      <th>2</th>\n",
              "      <td>id3858529</td>\n",
              "      <td>2</td>\n",
              "      <td>2016-01-19 11:35:24</td>\n",
              "      <td>2016-01-19 12:10:48</td>\n",
              "      <td>1</td>\n",
              "      <td>-73.979027</td>\n",
              "      <td>40.763939</td>\n",
              "      <td>-74.005333</td>\n",
              "      <td>40.710087</td>\n",
              "      <td>N</td>\n",
              "      <td>2124</td>\n",
              "      <td>2016-01-19</td>\n",
              "      <td>19</td>\n",
              "      <td>11</td>\n",
              "      <td>Tuesday</td>\n",
              "      <td>2016-01-19</td>\n",
              "      <td>19</td>\n",
              "      <td>12</td>\n",
              "      <td>Tuesday</td>\n",
              "      <td>40.764</td>\n",
              "      <td>-73.979</td>\n",
              "      <td>40.710</td>\n",
              "      <td>-74.005</td>\n",
              "      <td>6.385108</td>\n",
              "      <td>35.400000</td>\n",
              "      <td>0.590000</td>\n",
              "    </tr>\n",
              "    <tr>\n",
              "      <th>3</th>\n",
              "      <td>id3504673</td>\n",
              "      <td>2</td>\n",
              "      <td>2016-04-06 19:32:31</td>\n",
              "      <td>2016-04-06 19:39:40</td>\n",
              "      <td>1</td>\n",
              "      <td>-74.010040</td>\n",
              "      <td>40.719971</td>\n",
              "      <td>-74.012268</td>\n",
              "      <td>40.706718</td>\n",
              "      <td>N</td>\n",
              "      <td>429</td>\n",
              "      <td>2016-04-06</td>\n",
              "      <td>6</td>\n",
              "      <td>19</td>\n",
              "      <td>Wednesday</td>\n",
              "      <td>2016-04-06</td>\n",
              "      <td>6</td>\n",
              "      <td>19</td>\n",
              "      <td>Wednesday</td>\n",
              "      <td>40.720</td>\n",
              "      <td>-74.010</td>\n",
              "      <td>40.707</td>\n",
              "      <td>-74.012</td>\n",
              "      <td>1.485501</td>\n",
              "      <td>7.150000</td>\n",
              "      <td>0.119167</td>\n",
              "    </tr>\n",
              "    <tr>\n",
              "      <th>4</th>\n",
              "      <td>id2181028</td>\n",
              "      <td>2</td>\n",
              "      <td>2016-03-26 13:30:55</td>\n",
              "      <td>2016-03-26 13:38:10</td>\n",
              "      <td>1</td>\n",
              "      <td>-73.973053</td>\n",
              "      <td>40.793209</td>\n",
              "      <td>-73.972923</td>\n",
              "      <td>40.782520</td>\n",
              "      <td>N</td>\n",
              "      <td>435</td>\n",
              "      <td>2016-03-26</td>\n",
              "      <td>26</td>\n",
              "      <td>13</td>\n",
              "      <td>Saturday</td>\n",
              "      <td>2016-03-26</td>\n",
              "      <td>26</td>\n",
              "      <td>13</td>\n",
              "      <td>Saturday</td>\n",
              "      <td>40.793</td>\n",
              "      <td>-73.973</td>\n",
              "      <td>40.783</td>\n",
              "      <td>-73.973</td>\n",
              "      <td>1.188590</td>\n",
              "      <td>7.250000</td>\n",
              "      <td>0.120833</td>\n",
              "    </tr>\n",
              "  </tbody>\n",
              "</table>\n",
              "</div>"
            ],
            "text/plain": [
              "          id  vendor_id  ... trip_duration_in_minutes trip_duration_in_hour\n",
              "0  id2875421          2  ...                 7.583333              0.126389\n",
              "1  id2377394          1  ...                11.050000              0.184167\n",
              "2  id3858529          2  ...                35.400000              0.590000\n",
              "3  id3504673          2  ...                 7.150000              0.119167\n",
              "4  id2181028          2  ...                 7.250000              0.120833\n",
              "\n",
              "[5 rows x 26 columns]"
            ]
          },
          "metadata": {},
          "execution_count": 72
        }
      ]
    },
    {
      "cell_type": "code",
      "metadata": {
        "id": "qn5fIsRNgiMW"
      },
      "source": [
        "warnings.filterwarnings('ignore')"
      ],
      "execution_count": 70,
      "outputs": []
    },
    {
      "cell_type": "code",
      "metadata": {
        "colab": {
          "base_uri": "https://localhost:8080/",
          "height": 368
        },
        "id": "FiZbkiqTfh_H",
        "outputId": "d819f33f-9df1-413d-f3e9-e0bdfbea0011"
      },
      "source": [
        "plt.figure(figsize=(8,5))\n",
        "sns.distplot(data['trip_duration_in_hour']).set_title(\"Distribution of Trip Duration\")"
      ],
      "execution_count": 73,
      "outputs": [
        {
          "output_type": "execute_result",
          "data": {
            "text/plain": [
              "Text(0.5, 1.0, 'Distribution of Trip Duration')"
            ]
          },
          "metadata": {},
          "execution_count": 73
        },
        {
          "output_type": "display_data",
          "data": {
            "image/png": "[encoded data removed]",
            "text/plain": [
              "<Figure size 576x360 with 1 Axes>"
            ]
          },
          "metadata": {
            "needs_background": "light"
          }
        }
      ]
    },
    {
      "cell_type": "code",
      "metadata": {
        "colab": {
          "base_uri": "https://localhost:8080/",
          "height": 285
        },
        "id": "pg0FLJZPh75W",
        "outputId": "4da0c18c-6877-4e98-f430-feacd464d6cc"
      },
      "source": [
        "sns.set()\n",
        "data['log_trip_duration'] = np.log(data['trip_duration'].values + 1)\n",
        "plt.hist(data['log_trip_duration'].values, bins=100)\n",
        "plt.xlabel('log(trip_duration)')\n",
        "plt.ylabel('number of train records')\n",
        "plt.show()"
      ],
      "execution_count": 75,
      "outputs": [
        {
          "output_type": "display_data",
          "data": {
            "image/png": "[encoded data removed]",
            "text/plain": [
              "<Figure size 432x288 with 1 Axes>"
            ]
          },
          "metadata": {}
        }
      ]
    },
    {
      "cell_type": "code",
      "metadata": {
        "colab": {
          "base_uri": "https://localhost:8080/",
          "height": 302
        },
        "id": "Zme9j-ezjzb1",
        "outputId": "99127d8f-6427-4278-ccd7-04ae13c6cd8c"
      },
      "source": [
        "sns.countplot(data['pickup_hour'])"
      ],
      "execution_count": 78,
      "outputs": [
        {
          "output_type": "execute_result",
          "data": {
            "text/plain": [
              "<matplotlib.axes._subplots.AxesSubplot at 0x7f6a2b774e90>"
            ]
          },
          "metadata": {},
          "execution_count": 78
        },
        {
          "output_type": "display_data",
          "data": {
            "image/png": "[encoded data removed]",
            "text/plain": [
              "<Figure size 432x288 with 1 Axes>"
            ]
          },
          "metadata": {}
        }
      ]
    },
    {
      "cell_type": "code",
      "metadata": {
        "colab": {
          "base_uri": "https://localhost:8080/",
          "height": 507
        },
        "id": "thRnPLKmkDja",
        "outputId": "5aba42e6-d0e6-4132-c780-34e86ce4f841"
      },
      "source": [
        "fig = plt.figure(figsize=(8,7))\n",
        "sns.countplot(data['pickup_day_of_week'])\n",
        "plt.xticks(rotation = '45')"
      ],
      "execution_count": 90,
      "outputs": [
        {
          "output_type": "execute_result",
          "data": {
            "text/plain": [
              "(array([0, 1, 2, 3, 4, 5, 6]), <a list of 7 Text major ticklabel objects>)"
            ]
          },
          "metadata": {},
          "execution_count": 90
        },
        {
          "output_type": "display_data",
          "data": {
            "image/png": "[encoded data removed]",
            "text/plain": [
              "<Figure size 576x504 with 1 Axes>"
            ]
          },
          "metadata": {}
        }
      ]
    },
    {
      "cell_type": "code",
      "metadata": {
        "colab": {
          "base_uri": "https://localhost:8080/"
        },
        "id": "j_bsy3dUlGM1",
        "outputId": "21475b36-b155-4f17-9341-e6a8a907d8e4"
      },
      "source": [
        "data['vendor_id'].value_counts(normalize = True)*100"
      ],
      "execution_count": 84,
      "outputs": [
        {
          "output_type": "execute_result",
          "data": {
            "text/plain": [
              "2    53.495027\n",
              "1    46.504973\n",
              "Name: vendor_id, dtype: float64"
            ]
          },
          "metadata": {},
          "execution_count": 84
        }
      ]
    },
    {
      "cell_type": "code",
      "metadata": {
        "colab": {
          "base_uri": "https://localhost:8080/",
          "height": 411
        },
        "id": "BkV_tY9TkqCu",
        "outputId": "da2af096-db9c-4a5f-adf6-a8e1846c200f"
      },
      "source": [
        "fig = plt.figure(figsize=(8,6))\n",
        "g_vendor = data.groupby('vendor_id')['trip_duration'].mean()\n",
        "sns.barplot(g_vendor.index,g_vendor.values)"
      ],
      "execution_count": 92,
      "outputs": [
        {
          "output_type": "execute_result",
          "data": {
            "text/plain": [
              "<matplotlib.axes._subplots.AxesSubplot at 0x7f6a04b9f910>"
            ]
          },
          "metadata": {},
          "execution_count": 92
        },
        {
          "output_type": "display_data",
          "data": {
            "image/png": "[encoded data removed]",
            "text/plain": [
              "<Figure size 576x432 with 1 Axes>"
            ]
          },
          "metadata": {}
        }
      ]
    },
    {
      "cell_type": "code",
      "metadata": {
        "colab": {
          "base_uri": "https://localhost:8080/"
        },
        "id": "aZqs0jAHm-2l",
        "outputId": "526fb0b7-ccb0-4bcf-f255-0da9a948947b"
      },
      "source": [
        "data['passenger_count'].value_counts()"
      ],
      "execution_count": 95,
      "outputs": [
        {
          "output_type": "execute_result",
          "data": {
            "text/plain": [
              "1    1033540\n",
              "2     210318\n",
              "5      78088\n",
              "3      59896\n",
              "6      48333\n",
              "4      28404\n",
              "0         60\n",
              "7          3\n",
              "9          1\n",
              "8          1\n",
              "Name: passenger_count, dtype: int64"
            ]
          },
          "metadata": {},
          "execution_count": 95
        }
      ]
    },
    {
      "cell_type": "code",
      "metadata": {
        "colab": {
          "base_uri": "https://localhost:8080/",
          "height": 399
        },
        "id": "Hh2ObZ7pkzeA",
        "outputId": "2177045f-e500-41fd-bd0e-73976a958d6e"
      },
      "source": [
        "fig = plt.figure(figsize=(8,7))\n",
        "sns.displot(data, x=\"passenger_count\", kind=\"kde\", bw_adjust=2)"
      ],
      "execution_count": 98,
      "outputs": [
        {
          "output_type": "execute_result",
          "data": {
            "text/plain": [
              "<seaborn.axisgrid.FacetGrid at 0x7f6a017b2950>"
            ]
          },
          "metadata": {},
          "execution_count": 98
        },
        {
          "output_type": "display_data",
          "data": {
            "text/plain": [
              "<Figure size 576x504 with 0 Axes>"
            ]
          },
          "metadata": {}
        },
        {
          "output_type": "display_data",
          "data": {
            "image/png": "[encoded data removed]",
            "text/plain": [
              "<Figure size 360x360 with 1 Axes>"
            ]
          },
          "metadata": {}
        }
      ]
    },
    {
      "cell_type": "code",
      "metadata": {
        "colab": {
          "base_uri": "https://localhost:8080/",
          "height": 355
        },
        "id": "KOZFqHeLnKkl",
        "outputId": "81458a87-e13e-40fe-c621-7362cc77ad7e"
      },
      "source": [
        "plt.figure(figsize=(8,5))\n",
        "plt.plot(data.groupby('pickup_date').count()[['vendor_id']], 'o-',label='data')\n",
        "\n",
        "plt.title('Distribution of Pickups Over time')"
      ],
      "execution_count": 99,
      "outputs": [
        {
          "output_type": "execute_result",
          "data": {
            "text/plain": [
              "Text(0.5, 1.0, 'Distribution of Pickups Over time')"
            ]
          },
          "metadata": {},
          "execution_count": 99
        },
        {
          "output_type": "display_data",
          "data": {
            "image/png": "[encoded data removed]",
            "text/plain": [
              "<Figure size 576x360 with 1 Axes>"
            ]
          },
          "metadata": {}
        }
      ]
    },
    {
      "cell_type": "code",
      "metadata": {
        "colab": {
          "base_uri": "https://localhost:8080/",
          "height": 445
        },
        "id": "Vptj2H_1o8eu",
        "outputId": "121233b6-592e-463f-9f19-4b8a9148c5f0"
      },
      "source": [
        "data.boxplot()\n",
        "plt.xticks (rotation=90)\n",
        "plt.figure(figsize=(30,20))"
      ],
      "execution_count": 101,
      "outputs": [
        {
          "output_type": "execute_result",
          "data": {
            "text/plain": [
              "<Figure size 2160x1440 with 0 Axes>"
            ]
          },
          "metadata": {},
          "execution_count": 101
        },
        {
          "output_type": "display_data",
          "data": {
            "image/png": "[encoded data removed]",
            "text/plain": [
              "<Figure size 432x288 with 1 Axes>"
            ]
          },
          "metadata": {}
        },
        {
          "output_type": "display_data",
          "data": {
            "text/plain": [
              "<Figure size 2160x1440 with 0 Axes>"
            ]
          },
          "metadata": {}
        }
      ]
    },
    {
      "cell_type": "code",
      "metadata": {
        "colab": {
          "base_uri": "https://localhost:8080/",
          "height": 302
        },
        "id": "jfzLTf61q5Hc",
        "outputId": "8dbc2f0a-318e-4a27-9e87-2e96dabf0b05"
      },
      "source": [
        "sns.boxplot(data['trip_duration_in_minutes'])"
      ],
      "execution_count": 115,
      "outputs": [
        {
          "output_type": "execute_result",
          "data": {
            "text/plain": [
              "<matplotlib.axes._subplots.AxesSubplot at 0x7f6a2a31b110>"
            ]
          },
          "metadata": {},
          "execution_count": 115
        },
        {
          "output_type": "display_data",
          "data": {
            "image/png": "[encoded data removed]",
            "text/plain": [
              "<Figure size 432x288 with 1 Axes>"
            ]
          },
          "metadata": {}
        }
      ]
    },
    {
      "cell_type": "code",
      "metadata": {
        "colab": {
          "base_uri": "https://localhost:8080/"
        },
        "id": "jS4fjBhUs1Mw",
        "outputId": "d7718f60-44a3-44c5-dc52-d4ad485c5b67"
      },
      "source": [
        "data['trip_duration'].sort_values(ascending=False).head(20)"
      ],
      "execution_count": 117,
      "outputs": [
        {
          "output_type": "execute_result",
          "data": {
            "text/plain": [
              "978383     3526282\n",
              "924150     2227612\n",
              "680594     2049578\n",
              "355003     1939736\n",
              "1234291      86392\n",
              "295382       86391\n",
              "73816        86390\n",
              "59891        86387\n",
              "1360439      86385\n",
              "753765       86379\n",
              "91717        86378\n",
              "1221666      86378\n",
              "66346        86377\n",
              "1138915      86377\n",
              "172662       86369\n",
              "779030       86369\n",
              "1284067      86369\n",
              "1269316      86369\n",
              "1213613      86367\n",
              "1233528      86367\n",
              "Name: trip_duration, dtype: int64"
            ]
          },
          "metadata": {},
          "execution_count": 117
        }
      ]
    },
    {
      "cell_type": "code",
      "metadata": {
        "colab": {
          "base_uri": "https://localhost:8080/"
        },
        "id": "6mInHY5OpE0C",
        "outputId": "c9b6690a-d6f5-4879-d8bf-9d5e0ae531fb"
      },
      "source": [
        "data['trip_duration'].value_counts(sort = True)"
      ],
      "execution_count": 114,
      "outputs": [
        {
          "output_type": "execute_result",
          "data": {
            "text/plain": [
              "368      1624\n",
              "408      1584\n",
              "348      1582\n",
              "367      1581\n",
              "358      1577\n",
              "         ... \n",
              "85305       1\n",
              "83256       1\n",
              "83884       1\n",
              "6419        1\n",
              "8522        1\n",
              "Name: trip_duration, Length: 7417, dtype: int64"
            ]
          },
          "metadata": {},
          "execution_count": 114
        }
      ]
    },
    {
      "cell_type": "code",
      "metadata": {
        "id": "zXeYRqZOq0uH"
      },
      "source": [
        "data = data[data.trip_duration <=86392 ]\n",
        "data = data[data.trip_duration >= 30]"
      ],
      "execution_count": 124,
      "outputs": []
    },
    {
      "cell_type": "code",
      "metadata": {
        "id": "PGMbUo9npOEl"
      },
      "source": [
        "data=data[data['passenger_count']!=0]"
      ],
      "execution_count": 125,
      "outputs": []
    },
    {
      "cell_type": "code",
      "metadata": {
        "colab": {
          "base_uri": "https://localhost:8080/",
          "height": 549
        },
        "id": "11sUt9pitTNn",
        "outputId": "b519c41c-a557-4916-b7eb-54853663be47"
      },
      "source": [
        "data.head(10)"
      ],
      "execution_count": 126,
      "outputs": [
        {
          "output_type": "execute_result",
          "data": {
            "text/html": [
              "<div>\n",
              "<style scoped>\n",
              "    .dataframe tbody tr th:only-of-type {\n",
              "        vertical-align: middle;\n",
              "    }\n",
              "\n",
              "    .dataframe tbody tr th {\n",
              "        vertical-align: top;\n",
              "    }\n",
              "\n",
              "    .dataframe thead th {\n",
              "        text-align: right;\n",
              "    }\n",
              "</style>\n",
              "<table border=\"1\" class=\"dataframe\">\n",
              "  <thead>\n",
              "    <tr style=\"text-align: right;\">\n",
              "      <th></th>\n",
              "      <th>id</th>\n",
              "      <th>vendor_id</th>\n",
              "      <th>pickup_datetime</th>\n",
              "      <th>dropoff_datetime</th>\n",
              "      <th>passenger_count</th>\n",
              "      <th>pickup_longitude</th>\n",
              "      <th>pickup_latitude</th>\n",
              "      <th>dropoff_longitude</th>\n",
              "      <th>dropoff_latitude</th>\n",
              "      <th>store_and_fwd_flag</th>\n",
              "      <th>trip_duration</th>\n",
              "      <th>pickup_date</th>\n",
              "      <th>pickup_day</th>\n",
              "      <th>pickup_hour</th>\n",
              "      <th>pickup_day_of_week</th>\n",
              "      <th>dropoff_date</th>\n",
              "      <th>dropoff_day</th>\n",
              "      <th>dropoff_hour</th>\n",
              "      <th>dropoff_day_of_week</th>\n",
              "      <th>pickup_latitude_round3</th>\n",
              "      <th>pickup_longitude_round3</th>\n",
              "      <th>dropoff_latitude_round3</th>\n",
              "      <th>dropoff_longitude_round3</th>\n",
              "      <th>trip_distance</th>\n",
              "      <th>trip_duration_in_minutes</th>\n",
              "      <th>trip_duration_in_hour</th>\n",
              "      <th>log_trip_duration</th>\n",
              "    </tr>\n",
              "  </thead>\n",
              "  <tbody>\n",
              "    <tr>\n",
              "      <th>0</th>\n",
              "      <td>id2875421</td>\n",
              "      <td>2</td>\n",
              "      <td>2016-03-14 17:24:55</td>\n",
              "      <td>2016-03-14 17:32:30</td>\n",
              "      <td>1</td>\n",
              "      <td>-73.982155</td>\n",
              "      <td>40.767937</td>\n",
              "      <td>-73.964630</td>\n",
              "      <td>40.765602</td>\n",
              "      <td>N</td>\n",
              "      <td>455</td>\n",
              "      <td>2016-03-14</td>\n",
              "      <td>14</td>\n",
              "      <td>17</td>\n",
              "      <td>Monday</td>\n",
              "      <td>2016-03-14</td>\n",
              "      <td>14</td>\n",
              "      <td>17</td>\n",
              "      <td>Monday</td>\n",
              "      <td>40.768</td>\n",
              "      <td>-73.982</td>\n",
              "      <td>40.766</td>\n",
              "      <td>-73.965</td>\n",
              "      <td>1.498523</td>\n",
              "      <td>7.583333</td>\n",
              "      <td>0.126389</td>\n",
              "      <td>6.122493</td>\n",
              "    </tr>\n",
              "    <tr>\n",
              "      <th>1</th>\n",
              "      <td>id2377394</td>\n",
              "      <td>1</td>\n",
              "      <td>2016-06-12 00:43:35</td>\n",
              "      <td>2016-06-12 00:54:38</td>\n",
              "      <td>1</td>\n",
              "      <td>-73.980415</td>\n",
              "      <td>40.738564</td>\n",
              "      <td>-73.999481</td>\n",
              "      <td>40.731152</td>\n",
              "      <td>N</td>\n",
              "      <td>663</td>\n",
              "      <td>2016-06-12</td>\n",
              "      <td>12</td>\n",
              "      <td>0</td>\n",
              "      <td>Sunday</td>\n",
              "      <td>2016-06-12</td>\n",
              "      <td>12</td>\n",
              "      <td>0</td>\n",
              "      <td>Sunday</td>\n",
              "      <td>40.739</td>\n",
              "      <td>-73.980</td>\n",
              "      <td>40.731</td>\n",
              "      <td>-73.999</td>\n",
              "      <td>1.805510</td>\n",
              "      <td>11.050000</td>\n",
              "      <td>0.184167</td>\n",
              "      <td>6.498282</td>\n",
              "    </tr>\n",
              "    <tr>\n",
              "      <th>2</th>\n",
              "      <td>id3858529</td>\n",
              "      <td>2</td>\n",
              "      <td>2016-01-19 11:35:24</td>\n",
              "      <td>2016-01-19 12:10:48</td>\n",
              "      <td>1</td>\n",
              "      <td>-73.979027</td>\n",
              "      <td>40.763939</td>\n",
              "      <td>-74.005333</td>\n",
              "      <td>40.710087</td>\n",
              "      <td>N</td>\n",
              "      <td>2124</td>\n",
              "      <td>2016-01-19</td>\n",
              "      <td>19</td>\n",
              "      <td>11</td>\n",
              "      <td>Tuesday</td>\n",
              "      <td>2016-01-19</td>\n",
              "      <td>19</td>\n",
              "      <td>12</td>\n",
              "      <td>Tuesday</td>\n",
              "      <td>40.764</td>\n",
              "      <td>-73.979</td>\n",
              "      <td>40.710</td>\n",
              "      <td>-74.005</td>\n",
              "      <td>6.385108</td>\n",
              "      <td>35.400000</td>\n",
              "      <td>0.590000</td>\n",
              "      <td>7.661527</td>\n",
              "    </tr>\n",
              "    <tr>\n",
              "      <th>3</th>\n",
              "      <td>id3504673</td>\n",
              "      <td>2</td>\n",
              "      <td>2016-04-06 19:32:31</td>\n",
              "      <td>2016-04-06 19:39:40</td>\n",
              "      <td>1</td>\n",
              "      <td>-74.010040</td>\n",
              "      <td>40.719971</td>\n",
              "      <td>-74.012268</td>\n",
              "      <td>40.706718</td>\n",
              "      <td>N</td>\n",
              "      <td>429</td>\n",
              "      <td>2016-04-06</td>\n",
              "      <td>6</td>\n",
              "      <td>19</td>\n",
              "      <td>Wednesday</td>\n",
              "      <td>2016-04-06</td>\n",
              "      <td>6</td>\n",
              "      <td>19</td>\n",
              "      <td>Wednesday</td>\n",
              "      <td>40.720</td>\n",
              "      <td>-74.010</td>\n",
              "      <td>40.707</td>\n",
              "      <td>-74.012</td>\n",
              "      <td>1.485501</td>\n",
              "      <td>7.150000</td>\n",
              "      <td>0.119167</td>\n",
              "      <td>6.063785</td>\n",
              "    </tr>\n",
              "    <tr>\n",
              "      <th>4</th>\n",
              "      <td>id2181028</td>\n",
              "      <td>2</td>\n",
              "      <td>2016-03-26 13:30:55</td>\n",
              "      <td>2016-03-26 13:38:10</td>\n",
              "      <td>1</td>\n",
              "      <td>-73.973053</td>\n",
              "      <td>40.793209</td>\n",
              "      <td>-73.972923</td>\n",
              "      <td>40.782520</td>\n",
              "      <td>N</td>\n",
              "      <td>435</td>\n",
              "      <td>2016-03-26</td>\n",
              "      <td>26</td>\n",
              "      <td>13</td>\n",
              "      <td>Saturday</td>\n",
              "      <td>2016-03-26</td>\n",
              "      <td>26</td>\n",
              "      <td>13</td>\n",
              "      <td>Saturday</td>\n",
              "      <td>40.793</td>\n",
              "      <td>-73.973</td>\n",
              "      <td>40.783</td>\n",
              "      <td>-73.973</td>\n",
              "      <td>1.188590</td>\n",
              "      <td>7.250000</td>\n",
              "      <td>0.120833</td>\n",
              "      <td>6.077642</td>\n",
              "    </tr>\n",
              "    <tr>\n",
              "      <th>5</th>\n",
              "      <td>id0801584</td>\n",
              "      <td>2</td>\n",
              "      <td>2016-01-30 22:01:40</td>\n",
              "      <td>2016-01-30 22:09:03</td>\n",
              "      <td>6</td>\n",
              "      <td>-73.982857</td>\n",
              "      <td>40.742195</td>\n",
              "      <td>-73.992081</td>\n",
              "      <td>40.749184</td>\n",
              "      <td>N</td>\n",
              "      <td>443</td>\n",
              "      <td>2016-01-30</td>\n",
              "      <td>30</td>\n",
              "      <td>22</td>\n",
              "      <td>Saturday</td>\n",
              "      <td>2016-01-30</td>\n",
              "      <td>30</td>\n",
              "      <td>22</td>\n",
              "      <td>Saturday</td>\n",
              "      <td>40.742</td>\n",
              "      <td>-73.983</td>\n",
              "      <td>40.749</td>\n",
              "      <td>-73.992</td>\n",
              "      <td>1.098944</td>\n",
              "      <td>7.383333</td>\n",
              "      <td>0.123056</td>\n",
              "      <td>6.095825</td>\n",
              "    </tr>\n",
              "    <tr>\n",
              "      <th>6</th>\n",
              "      <td>id1813257</td>\n",
              "      <td>1</td>\n",
              "      <td>2016-06-17 22:34:59</td>\n",
              "      <td>2016-06-17 22:40:40</td>\n",
              "      <td>4</td>\n",
              "      <td>-73.969017</td>\n",
              "      <td>40.757839</td>\n",
              "      <td>-73.957405</td>\n",
              "      <td>40.765896</td>\n",
              "      <td>N</td>\n",
              "      <td>341</td>\n",
              "      <td>2016-06-17</td>\n",
              "      <td>17</td>\n",
              "      <td>22</td>\n",
              "      <td>Friday</td>\n",
              "      <td>2016-06-17</td>\n",
              "      <td>17</td>\n",
              "      <td>22</td>\n",
              "      <td>Friday</td>\n",
              "      <td>40.758</td>\n",
              "      <td>-73.969</td>\n",
              "      <td>40.766</td>\n",
              "      <td>-73.957</td>\n",
              "      <td>1.326280</td>\n",
              "      <td>5.683333</td>\n",
              "      <td>0.094722</td>\n",
              "      <td>5.834811</td>\n",
              "    </tr>\n",
              "    <tr>\n",
              "      <th>7</th>\n",
              "      <td>id1324603</td>\n",
              "      <td>2</td>\n",
              "      <td>2016-05-21 07:54:58</td>\n",
              "      <td>2016-05-21 08:20:49</td>\n",
              "      <td>1</td>\n",
              "      <td>-73.969276</td>\n",
              "      <td>40.797779</td>\n",
              "      <td>-73.922470</td>\n",
              "      <td>40.760559</td>\n",
              "      <td>N</td>\n",
              "      <td>1551</td>\n",
              "      <td>2016-05-21</td>\n",
              "      <td>21</td>\n",
              "      <td>7</td>\n",
              "      <td>Saturday</td>\n",
              "      <td>2016-05-21</td>\n",
              "      <td>21</td>\n",
              "      <td>8</td>\n",
              "      <td>Saturday</td>\n",
              "      <td>40.798</td>\n",
              "      <td>-73.969</td>\n",
              "      <td>40.761</td>\n",
              "      <td>-73.922</td>\n",
              "      <td>5.714989</td>\n",
              "      <td>25.850000</td>\n",
              "      <td>0.430833</td>\n",
              "      <td>7.347300</td>\n",
              "    </tr>\n",
              "    <tr>\n",
              "      <th>8</th>\n",
              "      <td>id1301050</td>\n",
              "      <td>1</td>\n",
              "      <td>2016-05-27 23:12:23</td>\n",
              "      <td>2016-05-27 23:16:38</td>\n",
              "      <td>1</td>\n",
              "      <td>-73.999481</td>\n",
              "      <td>40.738400</td>\n",
              "      <td>-73.985786</td>\n",
              "      <td>40.732815</td>\n",
              "      <td>N</td>\n",
              "      <td>255</td>\n",
              "      <td>2016-05-27</td>\n",
              "      <td>27</td>\n",
              "      <td>23</td>\n",
              "      <td>Friday</td>\n",
              "      <td>2016-05-27</td>\n",
              "      <td>27</td>\n",
              "      <td>23</td>\n",
              "      <td>Friday</td>\n",
              "      <td>40.738</td>\n",
              "      <td>-73.999</td>\n",
              "      <td>40.733</td>\n",
              "      <td>-73.986</td>\n",
              "      <td>1.310355</td>\n",
              "      <td>4.250000</td>\n",
              "      <td>0.070833</td>\n",
              "      <td>5.545177</td>\n",
              "    </tr>\n",
              "    <tr>\n",
              "      <th>9</th>\n",
              "      <td>id0012891</td>\n",
              "      <td>2</td>\n",
              "      <td>2016-03-10 21:45:01</td>\n",
              "      <td>2016-03-10 22:05:26</td>\n",
              "      <td>1</td>\n",
              "      <td>-73.981049</td>\n",
              "      <td>40.744339</td>\n",
              "      <td>-73.973000</td>\n",
              "      <td>40.789989</td>\n",
              "      <td>N</td>\n",
              "      <td>1225</td>\n",
              "      <td>2016-03-10</td>\n",
              "      <td>10</td>\n",
              "      <td>21</td>\n",
              "      <td>Thursday</td>\n",
              "      <td>2016-03-10</td>\n",
              "      <td>10</td>\n",
              "      <td>22</td>\n",
              "      <td>Thursday</td>\n",
              "      <td>40.744</td>\n",
              "      <td>-73.981</td>\n",
              "      <td>40.790</td>\n",
              "      <td>-73.973</td>\n",
              "      <td>5.121169</td>\n",
              "      <td>20.416667</td>\n",
              "      <td>0.340278</td>\n",
              "      <td>7.111512</td>\n",
              "    </tr>\n",
              "  </tbody>\n",
              "</table>\n",
              "</div>"
            ],
            "text/plain": [
              "          id  vendor_id  ... trip_duration_in_hour log_trip_duration\n",
              "0  id2875421          2  ...              0.126389          6.122493\n",
              "1  id2377394          1  ...              0.184167          6.498282\n",
              "2  id3858529          2  ...              0.590000          7.661527\n",
              "3  id3504673          2  ...              0.119167          6.063785\n",
              "4  id2181028          2  ...              0.120833          6.077642\n",
              "5  id0801584          2  ...              0.123056          6.095825\n",
              "6  id1813257          1  ...              0.094722          5.834811\n",
              "7  id1324603          2  ...              0.430833          7.347300\n",
              "8  id1301050          1  ...              0.070833          5.545177\n",
              "9  id0012891          2  ...              0.340278          7.111512\n",
              "\n",
              "[10 rows x 27 columns]"
            ]
          },
          "metadata": {},
          "execution_count": 126
        }
      ]
    },
    {
      "cell_type": "code",
      "metadata": {
        "colab": {
          "base_uri": "https://localhost:8080/"
        },
        "id": "Yya0ITJmtZKO",
        "outputId": "9be59239-5f37-4dfb-f641-7521ae6287a1"
      },
      "source": [
        "data['store_and_fwd_flag'].value_counts(normalize=True)*100"
      ],
      "execution_count": 129,
      "outputs": [
        {
          "output_type": "execute_result",
          "data": {
            "text/plain": [
              "N    99.45317\n",
              "Y     0.54683\n",
              "Name: store_and_fwd_flag, dtype: float64"
            ]
          },
          "metadata": {},
          "execution_count": 129
        }
      ]
    },
    {
      "cell_type": "code",
      "metadata": {
        "colab": {
          "base_uri": "https://localhost:8080/",
          "height": 399
        },
        "id": "K6GxApQqtlcS",
        "outputId": "1cbeac1b-a5a1-4275-b454-e6970226b1e6"
      },
      "source": [
        "sns.relplot(y=data.trip_distance,x='trip_duration',data=data)"
      ],
      "execution_count": 131,
      "outputs": [
        {
          "output_type": "execute_result",
          "data": {
            "text/plain": [
              "<seaborn.axisgrid.FacetGrid at 0x7f6a2715ded0>"
            ]
          },
          "metadata": {},
          "execution_count": 131
        },
        {
          "output_type": "display_data",
          "data": {
            "image/png": "[encoded data removed]",
            "text/plain": [
              "<Figure size 360x360 with 1 Axes>"
            ]
          },
          "metadata": {}
        }
      ]
    },
    {
      "cell_type": "code",
      "metadata": {
        "colab": {
          "base_uri": "https://localhost:8080/",
          "height": 302
        },
        "id": "YnvFOND2uCgy",
        "outputId": "c0da69bf-b484-4850-876e-d1c702abf34e"
      },
      "source": [
        "sns.barplot(y='passenger_count',x='vendor_id',data=data)"
      ],
      "execution_count": 134,
      "outputs": [
        {
          "output_type": "execute_result",
          "data": {
            "text/plain": [
              "<matplotlib.axes._subplots.AxesSubplot at 0x7f6a29fd3a50>"
            ]
          },
          "metadata": {},
          "execution_count": 134
        },
        {
          "output_type": "display_data",
          "data": {
            "image/png": "[encoded data removed]",
            "text/plain": [
              "<Figure size 432x288 with 1 Axes>"
            ]
          },
          "metadata": {}
        }
      ]
    },
    {
      "cell_type": "code",
      "metadata": {
        "colab": {
          "base_uri": "https://localhost:8080/",
          "height": 399
        },
        "id": "CSz-pz6gubo8",
        "outputId": "cdde30bf-9556-4427-cc09-6e0bfe54081d"
      },
      "source": [
        "sns.catplot(y='trip_distance',x='passenger_count',data=data,kind='strip')"
      ],
      "execution_count": 136,
      "outputs": [
        {
          "output_type": "execute_result",
          "data": {
            "text/plain": [
              "<seaborn.axisgrid.FacetGrid at 0x7f6a2a1ee250>"
            ]
          },
          "metadata": {},
          "execution_count": 136
        },
        {
          "output_type": "display_data",
          "data": {
            "image/png": "[encoded data removed]",
            "text/plain": [
              "<Figure size 360x360 with 1 Axes>"
            ]
          },
          "metadata": {}
        }
      ]
    },
    {
      "cell_type": "code",
      "metadata": {
        "colab": {
          "base_uri": "https://localhost:8080/",
          "height": 818
        },
        "id": "jPWvG7Mqujx7",
        "outputId": "caa4b53f-516b-4c0e-c164-b60790cdb690"
      },
      "source": [
        "plt.figure(figsize = (30,15))\n",
        "correlation = data.corr()\n",
        "sns.heatmap(abs(correlation),annot = True,cmap = 'crest')"
      ],
      "execution_count": 145,
      "outputs": [
        {
          "output_type": "execute_result",
          "data": {
            "text/plain": [
              "<matplotlib.axes._subplots.AxesSubplot at 0x7f6aa2c7ea50>"
            ]
          },
          "metadata": {},
          "execution_count": 145
        },
        {
          "output_type": "display_data",
          "data": {
            "image/png": "[encoded data removed]",
            "text/plain": [
              "<Figure size 2160x1080 with 2 Axes>"
            ]
          },
          "metadata": {}
        }
      ]
    },
    {
      "cell_type": "code",
      "metadata": {
        "id": "yb4yqvXRwhX7"
      },
      "source": [
        ""
      ],
      "execution_count": null,
      "outputs": []
    }
  ]
}